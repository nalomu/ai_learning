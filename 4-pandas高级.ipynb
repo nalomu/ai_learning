{
 "cells": [
  {
   "cell_type": "markdown",
   "source": [
    "# Pandas 高级"
   ],
   "metadata": {
    "collapsed": false
   }
  },
  {
   "cell_type": "markdown",
   "source": [
    "## 1.数据筛选"
   ],
   "metadata": {
    "collapsed": false
   }
  },
  {
   "cell_type": "markdown",
   "source": [
    "### 1.1 赋值操作"
   ],
   "metadata": {
    "collapsed": false
   }
  },
  {
   "cell_type": "code",
   "execution_count": 2,
   "outputs": [
    {
     "data": {
      "text/plain": "    Python  Java  PHP\n0       19    25   37\n1       48    37   21\n2       30     2   42\n3       26    29    8\n4       15    36   12\n5       27    15   42\n6       12    32    9\n7       24    37   20\n8       45    22    3\n9       31    23    8\n10       4     1   48\n11      35     3   44\n12      16    17    5\n13      18    36   38\n14      38    39    7\n15      40    26   45\n16      35    17   41\n17       8    27   35\n18      30    36   26\n19      40    45   17",
      "text/html": "<div>\n<style scoped>\n    .dataframe tbody tr th:only-of-type {\n        vertical-align: middle;\n    }\n\n    .dataframe tbody tr th {\n        vertical-align: top;\n    }\n\n    .dataframe thead th {\n        text-align: right;\n    }\n</style>\n<table border=\"1\" class=\"dataframe\">\n  <thead>\n    <tr style=\"text-align: right;\">\n      <th></th>\n      <th>Python</th>\n      <th>Java</th>\n      <th>PHP</th>\n    </tr>\n  </thead>\n  <tbody>\n    <tr>\n      <th>0</th>\n      <td>19</td>\n      <td>25</td>\n      <td>37</td>\n    </tr>\n    <tr>\n      <th>1</th>\n      <td>48</td>\n      <td>37</td>\n      <td>21</td>\n    </tr>\n    <tr>\n      <th>2</th>\n      <td>30</td>\n      <td>2</td>\n      <td>42</td>\n    </tr>\n    <tr>\n      <th>3</th>\n      <td>26</td>\n      <td>29</td>\n      <td>8</td>\n    </tr>\n    <tr>\n      <th>4</th>\n      <td>15</td>\n      <td>36</td>\n      <td>12</td>\n    </tr>\n    <tr>\n      <th>5</th>\n      <td>27</td>\n      <td>15</td>\n      <td>42</td>\n    </tr>\n    <tr>\n      <th>6</th>\n      <td>12</td>\n      <td>32</td>\n      <td>9</td>\n    </tr>\n    <tr>\n      <th>7</th>\n      <td>24</td>\n      <td>37</td>\n      <td>20</td>\n    </tr>\n    <tr>\n      <th>8</th>\n      <td>45</td>\n      <td>22</td>\n      <td>3</td>\n    </tr>\n    <tr>\n      <th>9</th>\n      <td>31</td>\n      <td>23</td>\n      <td>8</td>\n    </tr>\n    <tr>\n      <th>10</th>\n      <td>4</td>\n      <td>1</td>\n      <td>48</td>\n    </tr>\n    <tr>\n      <th>11</th>\n      <td>35</td>\n      <td>3</td>\n      <td>44</td>\n    </tr>\n    <tr>\n      <th>12</th>\n      <td>16</td>\n      <td>17</td>\n      <td>5</td>\n    </tr>\n    <tr>\n      <th>13</th>\n      <td>18</td>\n      <td>36</td>\n      <td>38</td>\n    </tr>\n    <tr>\n      <th>14</th>\n      <td>38</td>\n      <td>39</td>\n      <td>7</td>\n    </tr>\n    <tr>\n      <th>15</th>\n      <td>40</td>\n      <td>26</td>\n      <td>45</td>\n    </tr>\n    <tr>\n      <th>16</th>\n      <td>35</td>\n      <td>17</td>\n      <td>41</td>\n    </tr>\n    <tr>\n      <th>17</th>\n      <td>8</td>\n      <td>27</td>\n      <td>35</td>\n    </tr>\n    <tr>\n      <th>18</th>\n      <td>30</td>\n      <td>36</td>\n      <td>26</td>\n    </tr>\n    <tr>\n      <th>19</th>\n      <td>40</td>\n      <td>45</td>\n      <td>17</td>\n    </tr>\n  </tbody>\n</table>\n</div>"
     },
     "execution_count": 2,
     "metadata": {},
     "output_type": "execute_result"
    }
   ],
   "source": [
    "import numpy as np\n",
    "import pandas as pd\n",
    "\n",
    "df = pd.DataFrame(np.random.randint(0, 50, size=(20, 3)), columns=['Python', 'Java', 'PHP'])\n",
    "df"
   ],
   "metadata": {
    "collapsed": false
   }
  },
  {
   "cell_type": "code",
   "execution_count": 3,
   "outputs": [
    {
     "data": {
      "text/plain": "    Python  Java  PHP  物理\n0       19    25   37  36\n1       48    37   21  22\n2       30     2   42  23\n3       26    29    8   0\n4       15    36   12   8\n5       27    15   42  45\n6       12    32    9  31\n7       24    37   20  10\n8       45    22    3  33\n9       31    23    8  22\n10       4     1   48   1\n11      35     3   44  26\n12      16    17    5  10\n13      18    36   38  10\n14      38    39    7  34\n15      40    26   45  13\n16      35    17   41  45\n17       8    27   35   6\n18      30    36   26  25\n19      40    45   17  12",
      "text/html": "<div>\n<style scoped>\n    .dataframe tbody tr th:only-of-type {\n        vertical-align: middle;\n    }\n\n    .dataframe tbody tr th {\n        vertical-align: top;\n    }\n\n    .dataframe thead th {\n        text-align: right;\n    }\n</style>\n<table border=\"1\" class=\"dataframe\">\n  <thead>\n    <tr style=\"text-align: right;\">\n      <th></th>\n      <th>Python</th>\n      <th>Java</th>\n      <th>PHP</th>\n      <th>物理</th>\n    </tr>\n  </thead>\n  <tbody>\n    <tr>\n      <th>0</th>\n      <td>19</td>\n      <td>25</td>\n      <td>37</td>\n      <td>36</td>\n    </tr>\n    <tr>\n      <th>1</th>\n      <td>48</td>\n      <td>37</td>\n      <td>21</td>\n      <td>22</td>\n    </tr>\n    <tr>\n      <th>2</th>\n      <td>30</td>\n      <td>2</td>\n      <td>42</td>\n      <td>23</td>\n    </tr>\n    <tr>\n      <th>3</th>\n      <td>26</td>\n      <td>29</td>\n      <td>8</td>\n      <td>0</td>\n    </tr>\n    <tr>\n      <th>4</th>\n      <td>15</td>\n      <td>36</td>\n      <td>12</td>\n      <td>8</td>\n    </tr>\n    <tr>\n      <th>5</th>\n      <td>27</td>\n      <td>15</td>\n      <td>42</td>\n      <td>45</td>\n    </tr>\n    <tr>\n      <th>6</th>\n      <td>12</td>\n      <td>32</td>\n      <td>9</td>\n      <td>31</td>\n    </tr>\n    <tr>\n      <th>7</th>\n      <td>24</td>\n      <td>37</td>\n      <td>20</td>\n      <td>10</td>\n    </tr>\n    <tr>\n      <th>8</th>\n      <td>45</td>\n      <td>22</td>\n      <td>3</td>\n      <td>33</td>\n    </tr>\n    <tr>\n      <th>9</th>\n      <td>31</td>\n      <td>23</td>\n      <td>8</td>\n      <td>22</td>\n    </tr>\n    <tr>\n      <th>10</th>\n      <td>4</td>\n      <td>1</td>\n      <td>48</td>\n      <td>1</td>\n    </tr>\n    <tr>\n      <th>11</th>\n      <td>35</td>\n      <td>3</td>\n      <td>44</td>\n      <td>26</td>\n    </tr>\n    <tr>\n      <th>12</th>\n      <td>16</td>\n      <td>17</td>\n      <td>5</td>\n      <td>10</td>\n    </tr>\n    <tr>\n      <th>13</th>\n      <td>18</td>\n      <td>36</td>\n      <td>38</td>\n      <td>10</td>\n    </tr>\n    <tr>\n      <th>14</th>\n      <td>38</td>\n      <td>39</td>\n      <td>7</td>\n      <td>34</td>\n    </tr>\n    <tr>\n      <th>15</th>\n      <td>40</td>\n      <td>26</td>\n      <td>45</td>\n      <td>13</td>\n    </tr>\n    <tr>\n      <th>16</th>\n      <td>35</td>\n      <td>17</td>\n      <td>41</td>\n      <td>45</td>\n    </tr>\n    <tr>\n      <th>17</th>\n      <td>8</td>\n      <td>27</td>\n      <td>35</td>\n      <td>6</td>\n    </tr>\n    <tr>\n      <th>18</th>\n      <td>30</td>\n      <td>36</td>\n      <td>26</td>\n      <td>25</td>\n    </tr>\n    <tr>\n      <th>19</th>\n      <td>40</td>\n      <td>45</td>\n      <td>17</td>\n      <td>12</td>\n    </tr>\n  </tbody>\n</table>\n</div>"
     },
     "execution_count": 3,
     "metadata": {},
     "output_type": "execute_result"
    }
   ],
   "source": [
    "# 增加列\n",
    "df['物理'] = np.random.randint(0, 50, size=20)\n",
    "df"
   ],
   "metadata": {
    "collapsed": false
   }
  },
  {
   "cell_type": "code",
   "execution_count": 4,
   "outputs": [
    {
     "data": {
      "text/plain": "    Python  Java  PHP  物理\n0       29    25   37  36\n1       58    37   21  22\n2       40     2   42  23\n3       36    29    8   0\n4       25    36   12   8\n5       37    15   42  45\n6       22    32    9  31\n7       34    37   20  10\n8       55    22    3  33\n9       41    23    8  22\n10      14     1   48   1\n11      45     3   44  26\n12      26    17    5  10\n13      28    36   38  10\n14      48    39    7  34\n15      50    26   45  13\n16      45    17   41  45\n17      18    27   35   6\n18      40    36   26  25\n19      50    45   17  12",
      "text/html": "<div>\n<style scoped>\n    .dataframe tbody tr th:only-of-type {\n        vertical-align: middle;\n    }\n\n    .dataframe tbody tr th {\n        vertical-align: top;\n    }\n\n    .dataframe thead th {\n        text-align: right;\n    }\n</style>\n<table border=\"1\" class=\"dataframe\">\n  <thead>\n    <tr style=\"text-align: right;\">\n      <th></th>\n      <th>Python</th>\n      <th>Java</th>\n      <th>PHP</th>\n      <th>物理</th>\n    </tr>\n  </thead>\n  <tbody>\n    <tr>\n      <th>0</th>\n      <td>29</td>\n      <td>25</td>\n      <td>37</td>\n      <td>36</td>\n    </tr>\n    <tr>\n      <th>1</th>\n      <td>58</td>\n      <td>37</td>\n      <td>21</td>\n      <td>22</td>\n    </tr>\n    <tr>\n      <th>2</th>\n      <td>40</td>\n      <td>2</td>\n      <td>42</td>\n      <td>23</td>\n    </tr>\n    <tr>\n      <th>3</th>\n      <td>36</td>\n      <td>29</td>\n      <td>8</td>\n      <td>0</td>\n    </tr>\n    <tr>\n      <th>4</th>\n      <td>25</td>\n      <td>36</td>\n      <td>12</td>\n      <td>8</td>\n    </tr>\n    <tr>\n      <th>5</th>\n      <td>37</td>\n      <td>15</td>\n      <td>42</td>\n      <td>45</td>\n    </tr>\n    <tr>\n      <th>6</th>\n      <td>22</td>\n      <td>32</td>\n      <td>9</td>\n      <td>31</td>\n    </tr>\n    <tr>\n      <th>7</th>\n      <td>34</td>\n      <td>37</td>\n      <td>20</td>\n      <td>10</td>\n    </tr>\n    <tr>\n      <th>8</th>\n      <td>55</td>\n      <td>22</td>\n      <td>3</td>\n      <td>33</td>\n    </tr>\n    <tr>\n      <th>9</th>\n      <td>41</td>\n      <td>23</td>\n      <td>8</td>\n      <td>22</td>\n    </tr>\n    <tr>\n      <th>10</th>\n      <td>14</td>\n      <td>1</td>\n      <td>48</td>\n      <td>1</td>\n    </tr>\n    <tr>\n      <th>11</th>\n      <td>45</td>\n      <td>3</td>\n      <td>44</td>\n      <td>26</td>\n    </tr>\n    <tr>\n      <th>12</th>\n      <td>26</td>\n      <td>17</td>\n      <td>5</td>\n      <td>10</td>\n    </tr>\n    <tr>\n      <th>13</th>\n      <td>28</td>\n      <td>36</td>\n      <td>38</td>\n      <td>10</td>\n    </tr>\n    <tr>\n      <th>14</th>\n      <td>48</td>\n      <td>39</td>\n      <td>7</td>\n      <td>34</td>\n    </tr>\n    <tr>\n      <th>15</th>\n      <td>50</td>\n      <td>26</td>\n      <td>45</td>\n      <td>13</td>\n    </tr>\n    <tr>\n      <th>16</th>\n      <td>45</td>\n      <td>17</td>\n      <td>41</td>\n      <td>45</td>\n    </tr>\n    <tr>\n      <th>17</th>\n      <td>18</td>\n      <td>27</td>\n      <td>35</td>\n      <td>6</td>\n    </tr>\n    <tr>\n      <th>18</th>\n      <td>40</td>\n      <td>36</td>\n      <td>26</td>\n      <td>25</td>\n    </tr>\n    <tr>\n      <th>19</th>\n      <td>50</td>\n      <td>45</td>\n      <td>17</td>\n      <td>12</td>\n    </tr>\n  </tbody>\n</table>\n</div>"
     },
     "execution_count": 4,
     "metadata": {},
     "output_type": "execute_result"
    }
   ],
   "source": [
    "# 所有都增加10分\n",
    "df.Python += 10\n",
    "df"
   ],
   "metadata": {
    "collapsed": false
   }
  },
  {
   "cell_type": "code",
   "execution_count": 5,
   "outputs": [
    {
     "data": {
      "text/plain": "    Python  Java  PHP  物理\n0       29    25   37  36\n1       58    37   21  22\n2       40   100   42  23\n3       36   100    8   0\n4       25    36   12   8\n5       37    15   42  45\n6       22    32    9  31\n7       34    37   20  10\n8       55    22    3  33\n9       41    23    8  22\n10      14     1   48   1\n11      45     3   44  26\n12      26    17    5  10\n13      28    36   38  10\n14      48    39    7  34\n15      50    26   45  13\n16      45    17   41  45\n17      18    27   35   6\n18      40    36   26  25\n19      50    45   17  12",
      "text/html": "<div>\n<style scoped>\n    .dataframe tbody tr th:only-of-type {\n        vertical-align: middle;\n    }\n\n    .dataframe tbody tr th {\n        vertical-align: top;\n    }\n\n    .dataframe thead th {\n        text-align: right;\n    }\n</style>\n<table border=\"1\" class=\"dataframe\">\n  <thead>\n    <tr style=\"text-align: right;\">\n      <th></th>\n      <th>Python</th>\n      <th>Java</th>\n      <th>PHP</th>\n      <th>物理</th>\n    </tr>\n  </thead>\n  <tbody>\n    <tr>\n      <th>0</th>\n      <td>29</td>\n      <td>25</td>\n      <td>37</td>\n      <td>36</td>\n    </tr>\n    <tr>\n      <th>1</th>\n      <td>58</td>\n      <td>37</td>\n      <td>21</td>\n      <td>22</td>\n    </tr>\n    <tr>\n      <th>2</th>\n      <td>40</td>\n      <td>100</td>\n      <td>42</td>\n      <td>23</td>\n    </tr>\n    <tr>\n      <th>3</th>\n      <td>36</td>\n      <td>100</td>\n      <td>8</td>\n      <td>0</td>\n    </tr>\n    <tr>\n      <th>4</th>\n      <td>25</td>\n      <td>36</td>\n      <td>12</td>\n      <td>8</td>\n    </tr>\n    <tr>\n      <th>5</th>\n      <td>37</td>\n      <td>15</td>\n      <td>42</td>\n      <td>45</td>\n    </tr>\n    <tr>\n      <th>6</th>\n      <td>22</td>\n      <td>32</td>\n      <td>9</td>\n      <td>31</td>\n    </tr>\n    <tr>\n      <th>7</th>\n      <td>34</td>\n      <td>37</td>\n      <td>20</td>\n      <td>10</td>\n    </tr>\n    <tr>\n      <th>8</th>\n      <td>55</td>\n      <td>22</td>\n      <td>3</td>\n      <td>33</td>\n    </tr>\n    <tr>\n      <th>9</th>\n      <td>41</td>\n      <td>23</td>\n      <td>8</td>\n      <td>22</td>\n    </tr>\n    <tr>\n      <th>10</th>\n      <td>14</td>\n      <td>1</td>\n      <td>48</td>\n      <td>1</td>\n    </tr>\n    <tr>\n      <th>11</th>\n      <td>45</td>\n      <td>3</td>\n      <td>44</td>\n      <td>26</td>\n    </tr>\n    <tr>\n      <th>12</th>\n      <td>26</td>\n      <td>17</td>\n      <td>5</td>\n      <td>10</td>\n    </tr>\n    <tr>\n      <th>13</th>\n      <td>28</td>\n      <td>36</td>\n      <td>38</td>\n      <td>10</td>\n    </tr>\n    <tr>\n      <th>14</th>\n      <td>48</td>\n      <td>39</td>\n      <td>7</td>\n      <td>34</td>\n    </tr>\n    <tr>\n      <th>15</th>\n      <td>50</td>\n      <td>26</td>\n      <td>45</td>\n      <td>13</td>\n    </tr>\n    <tr>\n      <th>16</th>\n      <td>45</td>\n      <td>17</td>\n      <td>41</td>\n      <td>45</td>\n    </tr>\n    <tr>\n      <th>17</th>\n      <td>18</td>\n      <td>27</td>\n      <td>35</td>\n      <td>6</td>\n    </tr>\n    <tr>\n      <th>18</th>\n      <td>40</td>\n      <td>36</td>\n      <td>26</td>\n      <td>25</td>\n    </tr>\n    <tr>\n      <th>19</th>\n      <td>50</td>\n      <td>45</td>\n      <td>17</td>\n      <td>12</td>\n    </tr>\n  </tbody>\n</table>\n</div>"
     },
     "execution_count": 5,
     "metadata": {},
     "output_type": "execute_result"
    }
   ],
   "source": [
    "# 给指定的索引赋值\n",
    "df.Java[[2, 3]] = 100\n",
    "df"
   ],
   "metadata": {
    "collapsed": false
   }
  },
  {
   "cell_type": "code",
   "execution_count": 6,
   "outputs": [
    {
     "data": {
      "text/plain": "    Python  Java  PHP  物理\n0       29    25   37  36\n1       58    37   21  22\n2      100   100   42  23\n3      100   100    8   0\n4       25    36   12   8\n5       37    15   42  45\n6       22    32    9  31\n7       34    37   20  10\n8       55    22    3  33\n9       41    23    8  22\n10      14     1   48   1\n11      45     3   44  26\n12      26    17    5  10\n13      28    36   38  10\n14      48    39    7  34\n15      50    26   45  13\n16      45    17   41  45\n17      18    27   35   6\n18      40    36   26  25\n19      50    45   17  12",
      "text/html": "<div>\n<style scoped>\n    .dataframe tbody tr th:only-of-type {\n        vertical-align: middle;\n    }\n\n    .dataframe tbody tr th {\n        vertical-align: top;\n    }\n\n    .dataframe thead th {\n        text-align: right;\n    }\n</style>\n<table border=\"1\" class=\"dataframe\">\n  <thead>\n    <tr style=\"text-align: right;\">\n      <th></th>\n      <th>Python</th>\n      <th>Java</th>\n      <th>PHP</th>\n      <th>物理</th>\n    </tr>\n  </thead>\n  <tbody>\n    <tr>\n      <th>0</th>\n      <td>29</td>\n      <td>25</td>\n      <td>37</td>\n      <td>36</td>\n    </tr>\n    <tr>\n      <th>1</th>\n      <td>58</td>\n      <td>37</td>\n      <td>21</td>\n      <td>22</td>\n    </tr>\n    <tr>\n      <th>2</th>\n      <td>100</td>\n      <td>100</td>\n      <td>42</td>\n      <td>23</td>\n    </tr>\n    <tr>\n      <th>3</th>\n      <td>100</td>\n      <td>100</td>\n      <td>8</td>\n      <td>0</td>\n    </tr>\n    <tr>\n      <th>4</th>\n      <td>25</td>\n      <td>36</td>\n      <td>12</td>\n      <td>8</td>\n    </tr>\n    <tr>\n      <th>5</th>\n      <td>37</td>\n      <td>15</td>\n      <td>42</td>\n      <td>45</td>\n    </tr>\n    <tr>\n      <th>6</th>\n      <td>22</td>\n      <td>32</td>\n      <td>9</td>\n      <td>31</td>\n    </tr>\n    <tr>\n      <th>7</th>\n      <td>34</td>\n      <td>37</td>\n      <td>20</td>\n      <td>10</td>\n    </tr>\n    <tr>\n      <th>8</th>\n      <td>55</td>\n      <td>22</td>\n      <td>3</td>\n      <td>33</td>\n    </tr>\n    <tr>\n      <th>9</th>\n      <td>41</td>\n      <td>23</td>\n      <td>8</td>\n      <td>22</td>\n    </tr>\n    <tr>\n      <th>10</th>\n      <td>14</td>\n      <td>1</td>\n      <td>48</td>\n      <td>1</td>\n    </tr>\n    <tr>\n      <th>11</th>\n      <td>45</td>\n      <td>3</td>\n      <td>44</td>\n      <td>26</td>\n    </tr>\n    <tr>\n      <th>12</th>\n      <td>26</td>\n      <td>17</td>\n      <td>5</td>\n      <td>10</td>\n    </tr>\n    <tr>\n      <th>13</th>\n      <td>28</td>\n      <td>36</td>\n      <td>38</td>\n      <td>10</td>\n    </tr>\n    <tr>\n      <th>14</th>\n      <td>48</td>\n      <td>39</td>\n      <td>7</td>\n      <td>34</td>\n    </tr>\n    <tr>\n      <th>15</th>\n      <td>50</td>\n      <td>26</td>\n      <td>45</td>\n      <td>13</td>\n    </tr>\n    <tr>\n      <th>16</th>\n      <td>45</td>\n      <td>17</td>\n      <td>41</td>\n      <td>45</td>\n    </tr>\n    <tr>\n      <th>17</th>\n      <td>18</td>\n      <td>27</td>\n      <td>35</td>\n      <td>6</td>\n    </tr>\n    <tr>\n      <th>18</th>\n      <td>40</td>\n      <td>36</td>\n      <td>26</td>\n      <td>25</td>\n    </tr>\n    <tr>\n      <th>19</th>\n      <td>50</td>\n      <td>45</td>\n      <td>17</td>\n      <td>12</td>\n    </tr>\n  </tbody>\n</table>\n</div>"
     },
     "execution_count": 6,
     "metadata": {},
     "output_type": "execute_result"
    }
   ],
   "source": [
    "# 跨维度修改数据\n",
    "df.loc[[2, 3], ['Python', 'Java']] = 100\n",
    "df"
   ],
   "metadata": {
    "collapsed": false
   }
  },
  {
   "cell_type": "code",
   "execution_count": 7,
   "outputs": [
    {
     "data": {
      "text/plain": "    Python  Java  PHP  物理\n0      -71   -75  -63 -64\n1      -42   -63  -79 -78\n2        0     0  -58 -77\n5      -63   -85  -58 -55\n6      -78   -68  -91 -69\n8      -45   -78  -97 -67\n9      -59   -77  -92 -78\n11     -55   -97  -56 -74\n14     -52   -61  -93 -66\n16     -55   -83  -59 -55\n18     -60   -64  -74 -75",
      "text/html": "<div>\n<style scoped>\n    .dataframe tbody tr th:only-of-type {\n        vertical-align: middle;\n    }\n\n    .dataframe tbody tr th {\n        vertical-align: top;\n    }\n\n    .dataframe thead th {\n        text-align: right;\n    }\n</style>\n<table border=\"1\" class=\"dataframe\">\n  <thead>\n    <tr style=\"text-align: right;\">\n      <th></th>\n      <th>Python</th>\n      <th>Java</th>\n      <th>PHP</th>\n      <th>物理</th>\n    </tr>\n  </thead>\n  <tbody>\n    <tr>\n      <th>0</th>\n      <td>-71</td>\n      <td>-75</td>\n      <td>-63</td>\n      <td>-64</td>\n    </tr>\n    <tr>\n      <th>1</th>\n      <td>-42</td>\n      <td>-63</td>\n      <td>-79</td>\n      <td>-78</td>\n    </tr>\n    <tr>\n      <th>2</th>\n      <td>0</td>\n      <td>0</td>\n      <td>-58</td>\n      <td>-77</td>\n    </tr>\n    <tr>\n      <th>5</th>\n      <td>-63</td>\n      <td>-85</td>\n      <td>-58</td>\n      <td>-55</td>\n    </tr>\n    <tr>\n      <th>6</th>\n      <td>-78</td>\n      <td>-68</td>\n      <td>-91</td>\n      <td>-69</td>\n    </tr>\n    <tr>\n      <th>8</th>\n      <td>-45</td>\n      <td>-78</td>\n      <td>-97</td>\n      <td>-67</td>\n    </tr>\n    <tr>\n      <th>9</th>\n      <td>-59</td>\n      <td>-77</td>\n      <td>-92</td>\n      <td>-78</td>\n    </tr>\n    <tr>\n      <th>11</th>\n      <td>-55</td>\n      <td>-97</td>\n      <td>-56</td>\n      <td>-74</td>\n    </tr>\n    <tr>\n      <th>14</th>\n      <td>-52</td>\n      <td>-61</td>\n      <td>-93</td>\n      <td>-66</td>\n    </tr>\n    <tr>\n      <th>16</th>\n      <td>-55</td>\n      <td>-83</td>\n      <td>-59</td>\n      <td>-55</td>\n    </tr>\n    <tr>\n      <th>18</th>\n      <td>-60</td>\n      <td>-64</td>\n      <td>-74</td>\n      <td>-75</td>\n    </tr>\n  </tbody>\n</table>\n</div>"
     },
     "execution_count": 7,
     "metadata": {},
     "output_type": "execute_result"
    }
   ],
   "source": [
    "cond = df['物理'] > 20\n",
    "df[cond] - 100"
   ],
   "metadata": {
    "collapsed": false
   }
  },
  {
   "cell_type": "code",
   "execution_count": 8,
   "outputs": [
    {
     "data": {
      "text/plain": "    Python  Java  PHP  物理\n0      -71   -75  -63 -64\n1      -42   -63  -79 -78\n2        0     0  -58 -77\n3      100   100    8   0\n4       25    36   12   8\n5      -63   -85  -58 -55\n6      -78   -68  -91 -69\n7       34    37   20  10\n8      -45   -78  -97 -67\n9      -59   -77  -92 -78\n10      14     1   48   1\n11     -55   -97  -56 -74\n12      26    17    5  10\n13      28    36   38  10\n14     -52   -61  -93 -66\n15      50    26   45  13\n16     -55   -83  -59 -55\n17      18    27   35   6\n18     -60   -64  -74 -75\n19      50    45   17  12",
      "text/html": "<div>\n<style scoped>\n    .dataframe tbody tr th:only-of-type {\n        vertical-align: middle;\n    }\n\n    .dataframe tbody tr th {\n        vertical-align: top;\n    }\n\n    .dataframe thead th {\n        text-align: right;\n    }\n</style>\n<table border=\"1\" class=\"dataframe\">\n  <thead>\n    <tr style=\"text-align: right;\">\n      <th></th>\n      <th>Python</th>\n      <th>Java</th>\n      <th>PHP</th>\n      <th>物理</th>\n    </tr>\n  </thead>\n  <tbody>\n    <tr>\n      <th>0</th>\n      <td>-71</td>\n      <td>-75</td>\n      <td>-63</td>\n      <td>-64</td>\n    </tr>\n    <tr>\n      <th>1</th>\n      <td>-42</td>\n      <td>-63</td>\n      <td>-79</td>\n      <td>-78</td>\n    </tr>\n    <tr>\n      <th>2</th>\n      <td>0</td>\n      <td>0</td>\n      <td>-58</td>\n      <td>-77</td>\n    </tr>\n    <tr>\n      <th>3</th>\n      <td>100</td>\n      <td>100</td>\n      <td>8</td>\n      <td>0</td>\n    </tr>\n    <tr>\n      <th>4</th>\n      <td>25</td>\n      <td>36</td>\n      <td>12</td>\n      <td>8</td>\n    </tr>\n    <tr>\n      <th>5</th>\n      <td>-63</td>\n      <td>-85</td>\n      <td>-58</td>\n      <td>-55</td>\n    </tr>\n    <tr>\n      <th>6</th>\n      <td>-78</td>\n      <td>-68</td>\n      <td>-91</td>\n      <td>-69</td>\n    </tr>\n    <tr>\n      <th>7</th>\n      <td>34</td>\n      <td>37</td>\n      <td>20</td>\n      <td>10</td>\n    </tr>\n    <tr>\n      <th>8</th>\n      <td>-45</td>\n      <td>-78</td>\n      <td>-97</td>\n      <td>-67</td>\n    </tr>\n    <tr>\n      <th>9</th>\n      <td>-59</td>\n      <td>-77</td>\n      <td>-92</td>\n      <td>-78</td>\n    </tr>\n    <tr>\n      <th>10</th>\n      <td>14</td>\n      <td>1</td>\n      <td>48</td>\n      <td>1</td>\n    </tr>\n    <tr>\n      <th>11</th>\n      <td>-55</td>\n      <td>-97</td>\n      <td>-56</td>\n      <td>-74</td>\n    </tr>\n    <tr>\n      <th>12</th>\n      <td>26</td>\n      <td>17</td>\n      <td>5</td>\n      <td>10</td>\n    </tr>\n    <tr>\n      <th>13</th>\n      <td>28</td>\n      <td>36</td>\n      <td>38</td>\n      <td>10</td>\n    </tr>\n    <tr>\n      <th>14</th>\n      <td>-52</td>\n      <td>-61</td>\n      <td>-93</td>\n      <td>-66</td>\n    </tr>\n    <tr>\n      <th>15</th>\n      <td>50</td>\n      <td>26</td>\n      <td>45</td>\n      <td>13</td>\n    </tr>\n    <tr>\n      <th>16</th>\n      <td>-55</td>\n      <td>-83</td>\n      <td>-59</td>\n      <td>-55</td>\n    </tr>\n    <tr>\n      <th>17</th>\n      <td>18</td>\n      <td>27</td>\n      <td>35</td>\n      <td>6</td>\n    </tr>\n    <tr>\n      <th>18</th>\n      <td>-60</td>\n      <td>-64</td>\n      <td>-74</td>\n      <td>-75</td>\n    </tr>\n    <tr>\n      <th>19</th>\n      <td>50</td>\n      <td>45</td>\n      <td>17</td>\n      <td>12</td>\n    </tr>\n  </tbody>\n</table>\n</div>"
     },
     "execution_count": 8,
     "metadata": {},
     "output_type": "execute_result"
    }
   ],
   "source": [
    "df.loc[cond] -= 100\n",
    "df"
   ],
   "metadata": {
    "collapsed": false
   }
  },
  {
   "cell_type": "markdown",
   "source": [
    "## 2 数据集成"
   ],
   "metadata": {
    "collapsed": false
   }
  },
  {
   "cell_type": "markdown",
   "source": [
    "### 2.1 concat"
   ],
   "metadata": {
    "collapsed": false
   }
  },
  {
   "cell_type": "code",
   "execution_count": 9,
   "outputs": [
    {
     "data": {
      "text/plain": "   Python  Java  PHP\nA       0    75   59\nB      68    82   87\nC     118   120  146\nD      80    36   33\nE      61    24   20\nF      86     3   67\nG     149    18   17\nH       3    76  143\nI      95    70   20\nJ     112    56  116",
      "text/html": "<div>\n<style scoped>\n    .dataframe tbody tr th:only-of-type {\n        vertical-align: middle;\n    }\n\n    .dataframe tbody tr th {\n        vertical-align: top;\n    }\n\n    .dataframe thead th {\n        text-align: right;\n    }\n</style>\n<table border=\"1\" class=\"dataframe\">\n  <thead>\n    <tr style=\"text-align: right;\">\n      <th></th>\n      <th>Python</th>\n      <th>Java</th>\n      <th>PHP</th>\n    </tr>\n  </thead>\n  <tbody>\n    <tr>\n      <th>A</th>\n      <td>0</td>\n      <td>75</td>\n      <td>59</td>\n    </tr>\n    <tr>\n      <th>B</th>\n      <td>68</td>\n      <td>82</td>\n      <td>87</td>\n    </tr>\n    <tr>\n      <th>C</th>\n      <td>118</td>\n      <td>120</td>\n      <td>146</td>\n    </tr>\n    <tr>\n      <th>D</th>\n      <td>80</td>\n      <td>36</td>\n      <td>33</td>\n    </tr>\n    <tr>\n      <th>E</th>\n      <td>61</td>\n      <td>24</td>\n      <td>20</td>\n    </tr>\n    <tr>\n      <th>F</th>\n      <td>86</td>\n      <td>3</td>\n      <td>67</td>\n    </tr>\n    <tr>\n      <th>G</th>\n      <td>149</td>\n      <td>18</td>\n      <td>17</td>\n    </tr>\n    <tr>\n      <th>H</th>\n      <td>3</td>\n      <td>76</td>\n      <td>143</td>\n    </tr>\n    <tr>\n      <th>I</th>\n      <td>95</td>\n      <td>70</td>\n      <td>20</td>\n    </tr>\n    <tr>\n      <th>J</th>\n      <td>112</td>\n      <td>56</td>\n      <td>116</td>\n    </tr>\n  </tbody>\n</table>\n</div>"
     },
     "metadata": {},
     "output_type": "display_data"
    },
    {
     "data": {
      "text/plain": "   Python  Java  PHP\nK      87    86   89\nL      69   120   58\nM      44    50  136\nN      51    69   53\nO     105    30   21\nP     115     2   37\nQ     141   101   64\nR     106   124  140\nS      66    81  102\nT      26    70   72",
      "text/html": "<div>\n<style scoped>\n    .dataframe tbody tr th:only-of-type {\n        vertical-align: middle;\n    }\n\n    .dataframe tbody tr th {\n        vertical-align: top;\n    }\n\n    .dataframe thead th {\n        text-align: right;\n    }\n</style>\n<table border=\"1\" class=\"dataframe\">\n  <thead>\n    <tr style=\"text-align: right;\">\n      <th></th>\n      <th>Python</th>\n      <th>Java</th>\n      <th>PHP</th>\n    </tr>\n  </thead>\n  <tbody>\n    <tr>\n      <th>K</th>\n      <td>87</td>\n      <td>86</td>\n      <td>89</td>\n    </tr>\n    <tr>\n      <th>L</th>\n      <td>69</td>\n      <td>120</td>\n      <td>58</td>\n    </tr>\n    <tr>\n      <th>M</th>\n      <td>44</td>\n      <td>50</td>\n      <td>136</td>\n    </tr>\n    <tr>\n      <th>N</th>\n      <td>51</td>\n      <td>69</td>\n      <td>53</td>\n    </tr>\n    <tr>\n      <th>O</th>\n      <td>105</td>\n      <td>30</td>\n      <td>21</td>\n    </tr>\n    <tr>\n      <th>P</th>\n      <td>115</td>\n      <td>2</td>\n      <td>37</td>\n    </tr>\n    <tr>\n      <th>Q</th>\n      <td>141</td>\n      <td>101</td>\n      <td>64</td>\n    </tr>\n    <tr>\n      <th>R</th>\n      <td>106</td>\n      <td>124</td>\n      <td>140</td>\n    </tr>\n    <tr>\n      <th>S</th>\n      <td>66</td>\n      <td>81</td>\n      <td>102</td>\n    </tr>\n    <tr>\n      <th>T</th>\n      <td>26</td>\n      <td>70</td>\n      <td>72</td>\n    </tr>\n  </tbody>\n</table>\n</div>"
     },
     "metadata": {},
     "output_type": "display_data"
    },
    {
     "data": {
      "text/plain": "     C  Kotlin\nA  122     144\nB   96      90\nC   75     140\nD   79     143\nE   64     123\nF   77     102\nG  136      57\nH   82      52\nI   61      28\nJ  142     114",
      "text/html": "<div>\n<style scoped>\n    .dataframe tbody tr th:only-of-type {\n        vertical-align: middle;\n    }\n\n    .dataframe tbody tr th {\n        vertical-align: top;\n    }\n\n    .dataframe thead th {\n        text-align: right;\n    }\n</style>\n<table border=\"1\" class=\"dataframe\">\n  <thead>\n    <tr style=\"text-align: right;\">\n      <th></th>\n      <th>C</th>\n      <th>Kotlin</th>\n    </tr>\n  </thead>\n  <tbody>\n    <tr>\n      <th>A</th>\n      <td>122</td>\n      <td>144</td>\n    </tr>\n    <tr>\n      <th>B</th>\n      <td>96</td>\n      <td>90</td>\n    </tr>\n    <tr>\n      <th>C</th>\n      <td>75</td>\n      <td>140</td>\n    </tr>\n    <tr>\n      <th>D</th>\n      <td>79</td>\n      <td>143</td>\n    </tr>\n    <tr>\n      <th>E</th>\n      <td>64</td>\n      <td>123</td>\n    </tr>\n    <tr>\n      <th>F</th>\n      <td>77</td>\n      <td>102</td>\n    </tr>\n    <tr>\n      <th>G</th>\n      <td>136</td>\n      <td>57</td>\n    </tr>\n    <tr>\n      <th>H</th>\n      <td>82</td>\n      <td>52</td>\n    </tr>\n    <tr>\n      <th>I</th>\n      <td>61</td>\n      <td>28</td>\n    </tr>\n    <tr>\n      <th>J</th>\n      <td>142</td>\n      <td>114</td>\n    </tr>\n  </tbody>\n</table>\n</div>"
     },
     "metadata": {},
     "output_type": "display_data"
    }
   ],
   "source": [
    "df1 = pd.DataFrame(np.random.randint(0, 150, size=(10, 3)),\n",
    "                   index=list('ABCDEFGHIJ'),\n",
    "                   columns=['Python', 'Java', 'PHP'])\n",
    "df2 = pd.DataFrame(np.random.randint(0, 150, size=(10, 3)),\n",
    "                   index=list('KLMNOPQRST'),\n",
    "                   columns=['Python', 'Java', 'PHP'])\n",
    "df3 = pd.DataFrame(np.random.randint(0, 150, size=(10, 2)),\n",
    "                   index=list('ABCDEFGHIJ'),\n",
    "                   columns=['C', 'Kotlin', ])\n",
    "display(df1, df2, df3)"
   ],
   "metadata": {
    "collapsed": false
   }
  },
  {
   "cell_type": "code",
   "execution_count": 10,
   "outputs": [
    {
     "data": {
      "text/plain": "   Python  Java  PHP\nA       0    75   59\nB      68    82   87\nC     118   120  146\nD      80    36   33\nE      61    24   20\nF      86     3   67\nG     149    18   17\nH       3    76  143\nI      95    70   20\nJ     112    56  116\nK      87    86   89\nL      69   120   58\nM      44    50  136\nN      51    69   53\nO     105    30   21\nP     115     2   37\nQ     141   101   64\nR     106   124  140\nS      66    81  102\nT      26    70   72",
      "text/html": "<div>\n<style scoped>\n    .dataframe tbody tr th:only-of-type {\n        vertical-align: middle;\n    }\n\n    .dataframe tbody tr th {\n        vertical-align: top;\n    }\n\n    .dataframe thead th {\n        text-align: right;\n    }\n</style>\n<table border=\"1\" class=\"dataframe\">\n  <thead>\n    <tr style=\"text-align: right;\">\n      <th></th>\n      <th>Python</th>\n      <th>Java</th>\n      <th>PHP</th>\n    </tr>\n  </thead>\n  <tbody>\n    <tr>\n      <th>A</th>\n      <td>0</td>\n      <td>75</td>\n      <td>59</td>\n    </tr>\n    <tr>\n      <th>B</th>\n      <td>68</td>\n      <td>82</td>\n      <td>87</td>\n    </tr>\n    <tr>\n      <th>C</th>\n      <td>118</td>\n      <td>120</td>\n      <td>146</td>\n    </tr>\n    <tr>\n      <th>D</th>\n      <td>80</td>\n      <td>36</td>\n      <td>33</td>\n    </tr>\n    <tr>\n      <th>E</th>\n      <td>61</td>\n      <td>24</td>\n      <td>20</td>\n    </tr>\n    <tr>\n      <th>F</th>\n      <td>86</td>\n      <td>3</td>\n      <td>67</td>\n    </tr>\n    <tr>\n      <th>G</th>\n      <td>149</td>\n      <td>18</td>\n      <td>17</td>\n    </tr>\n    <tr>\n      <th>H</th>\n      <td>3</td>\n      <td>76</td>\n      <td>143</td>\n    </tr>\n    <tr>\n      <th>I</th>\n      <td>95</td>\n      <td>70</td>\n      <td>20</td>\n    </tr>\n    <tr>\n      <th>J</th>\n      <td>112</td>\n      <td>56</td>\n      <td>116</td>\n    </tr>\n    <tr>\n      <th>K</th>\n      <td>87</td>\n      <td>86</td>\n      <td>89</td>\n    </tr>\n    <tr>\n      <th>L</th>\n      <td>69</td>\n      <td>120</td>\n      <td>58</td>\n    </tr>\n    <tr>\n      <th>M</th>\n      <td>44</td>\n      <td>50</td>\n      <td>136</td>\n    </tr>\n    <tr>\n      <th>N</th>\n      <td>51</td>\n      <td>69</td>\n      <td>53</td>\n    </tr>\n    <tr>\n      <th>O</th>\n      <td>105</td>\n      <td>30</td>\n      <td>21</td>\n    </tr>\n    <tr>\n      <th>P</th>\n      <td>115</td>\n      <td>2</td>\n      <td>37</td>\n    </tr>\n    <tr>\n      <th>Q</th>\n      <td>141</td>\n      <td>101</td>\n      <td>64</td>\n    </tr>\n    <tr>\n      <th>R</th>\n      <td>106</td>\n      <td>124</td>\n      <td>140</td>\n    </tr>\n    <tr>\n      <th>S</th>\n      <td>66</td>\n      <td>81</td>\n      <td>102</td>\n    </tr>\n    <tr>\n      <th>T</th>\n      <td>26</td>\n      <td>70</td>\n      <td>72</td>\n    </tr>\n  </tbody>\n</table>\n</div>"
     },
     "execution_count": 10,
     "metadata": {},
     "output_type": "execute_result"
    }
   ],
   "source": [
    "# 行合并\n",
    "pd.concat([df1, df2])"
   ],
   "metadata": {
    "collapsed": false
   }
  },
  {
   "cell_type": "code",
   "execution_count": 11,
   "outputs": [
    {
     "data": {
      "text/plain": "   Python  Java  PHP    C  Kotlin\nA       0    75   59  122     144\nB      68    82   87   96      90\nC     118   120  146   75     140\nD      80    36   33   79     143\nE      61    24   20   64     123\nF      86     3   67   77     102\nG     149    18   17  136      57\nH       3    76  143   82      52\nI      95    70   20   61      28\nJ     112    56  116  142     114",
      "text/html": "<div>\n<style scoped>\n    .dataframe tbody tr th:only-of-type {\n        vertical-align: middle;\n    }\n\n    .dataframe tbody tr th {\n        vertical-align: top;\n    }\n\n    .dataframe thead th {\n        text-align: right;\n    }\n</style>\n<table border=\"1\" class=\"dataframe\">\n  <thead>\n    <tr style=\"text-align: right;\">\n      <th></th>\n      <th>Python</th>\n      <th>Java</th>\n      <th>PHP</th>\n      <th>C</th>\n      <th>Kotlin</th>\n    </tr>\n  </thead>\n  <tbody>\n    <tr>\n      <th>A</th>\n      <td>0</td>\n      <td>75</td>\n      <td>59</td>\n      <td>122</td>\n      <td>144</td>\n    </tr>\n    <tr>\n      <th>B</th>\n      <td>68</td>\n      <td>82</td>\n      <td>87</td>\n      <td>96</td>\n      <td>90</td>\n    </tr>\n    <tr>\n      <th>C</th>\n      <td>118</td>\n      <td>120</td>\n      <td>146</td>\n      <td>75</td>\n      <td>140</td>\n    </tr>\n    <tr>\n      <th>D</th>\n      <td>80</td>\n      <td>36</td>\n      <td>33</td>\n      <td>79</td>\n      <td>143</td>\n    </tr>\n    <tr>\n      <th>E</th>\n      <td>61</td>\n      <td>24</td>\n      <td>20</td>\n      <td>64</td>\n      <td>123</td>\n    </tr>\n    <tr>\n      <th>F</th>\n      <td>86</td>\n      <td>3</td>\n      <td>67</td>\n      <td>77</td>\n      <td>102</td>\n    </tr>\n    <tr>\n      <th>G</th>\n      <td>149</td>\n      <td>18</td>\n      <td>17</td>\n      <td>136</td>\n      <td>57</td>\n    </tr>\n    <tr>\n      <th>H</th>\n      <td>3</td>\n      <td>76</td>\n      <td>143</td>\n      <td>82</td>\n      <td>52</td>\n    </tr>\n    <tr>\n      <th>I</th>\n      <td>95</td>\n      <td>70</td>\n      <td>20</td>\n      <td>61</td>\n      <td>28</td>\n    </tr>\n    <tr>\n      <th>J</th>\n      <td>112</td>\n      <td>56</td>\n      <td>116</td>\n      <td>142</td>\n      <td>114</td>\n    </tr>\n  </tbody>\n</table>\n</div>"
     },
     "execution_count": 11,
     "metadata": {},
     "output_type": "execute_result"
    }
   ],
   "source": [
    "# 列合并\n",
    "pd.concat([df1, df3], axis=1)"
   ],
   "metadata": {
    "collapsed": false
   }
  },
  {
   "cell_type": "markdown",
   "source": [
    "### 2.2 插入"
   ],
   "metadata": {
    "collapsed": false
   }
  },
  {
   "cell_type": "code",
   "execution_count": 12,
   "outputs": [
    {
     "data": {
      "text/plain": "   Python  Java  PHP\nA      30    18   43\nB      15    61   25\nC      93    21  107\nD     130   101   75\nE      57    37   58\nF      38    22  131\nG      99    57   90\nH       5    14   14\nI      82     5  143\nJ     128    43  130",
      "text/html": "<div>\n<style scoped>\n    .dataframe tbody tr th:only-of-type {\n        vertical-align: middle;\n    }\n\n    .dataframe tbody tr th {\n        vertical-align: top;\n    }\n\n    .dataframe thead th {\n        text-align: right;\n    }\n</style>\n<table border=\"1\" class=\"dataframe\">\n  <thead>\n    <tr style=\"text-align: right;\">\n      <th></th>\n      <th>Python</th>\n      <th>Java</th>\n      <th>PHP</th>\n    </tr>\n  </thead>\n  <tbody>\n    <tr>\n      <th>A</th>\n      <td>30</td>\n      <td>18</td>\n      <td>43</td>\n    </tr>\n    <tr>\n      <th>B</th>\n      <td>15</td>\n      <td>61</td>\n      <td>25</td>\n    </tr>\n    <tr>\n      <th>C</th>\n      <td>93</td>\n      <td>21</td>\n      <td>107</td>\n    </tr>\n    <tr>\n      <th>D</th>\n      <td>130</td>\n      <td>101</td>\n      <td>75</td>\n    </tr>\n    <tr>\n      <th>E</th>\n      <td>57</td>\n      <td>37</td>\n      <td>58</td>\n    </tr>\n    <tr>\n      <th>F</th>\n      <td>38</td>\n      <td>22</td>\n      <td>131</td>\n    </tr>\n    <tr>\n      <th>G</th>\n      <td>99</td>\n      <td>57</td>\n      <td>90</td>\n    </tr>\n    <tr>\n      <th>H</th>\n      <td>5</td>\n      <td>14</td>\n      <td>14</td>\n    </tr>\n    <tr>\n      <th>I</th>\n      <td>82</td>\n      <td>5</td>\n      <td>143</td>\n    </tr>\n    <tr>\n      <th>J</th>\n      <td>128</td>\n      <td>43</td>\n      <td>130</td>\n    </tr>\n  </tbody>\n</table>\n</div>"
     },
     "execution_count": 12,
     "metadata": {},
     "output_type": "execute_result"
    }
   ],
   "source": [
    "df = pd.DataFrame(np.random.randint(0, 150, size=(10, 3)),\n",
    "                  index=list('ABCDEFGHIJ'),\n",
    "                  columns=['Python', 'Java', 'PHP'])\n",
    "df"
   ],
   "metadata": {
    "collapsed": false
   }
  },
  {
   "cell_type": "code",
   "execution_count": 13,
   "outputs": [
    {
     "data": {
      "text/plain": "   Kotlin  Python  Java  PHP\nA     100      30    18   43\nB     100      15    61   25\nC     100      93    21  107\nD     100     130   101   75\nE     100      57    37   58\nF     100      38    22  131\nG     100      99    57   90\nH     100       5    14   14\nI     100      82     5  143\nJ     100     128    43  130",
      "text/html": "<div>\n<style scoped>\n    .dataframe tbody tr th:only-of-type {\n        vertical-align: middle;\n    }\n\n    .dataframe tbody tr th {\n        vertical-align: top;\n    }\n\n    .dataframe thead th {\n        text-align: right;\n    }\n</style>\n<table border=\"1\" class=\"dataframe\">\n  <thead>\n    <tr style=\"text-align: right;\">\n      <th></th>\n      <th>Kotlin</th>\n      <th>Python</th>\n      <th>Java</th>\n      <th>PHP</th>\n    </tr>\n  </thead>\n  <tbody>\n    <tr>\n      <th>A</th>\n      <td>100</td>\n      <td>30</td>\n      <td>18</td>\n      <td>43</td>\n    </tr>\n    <tr>\n      <th>B</th>\n      <td>100</td>\n      <td>15</td>\n      <td>61</td>\n      <td>25</td>\n    </tr>\n    <tr>\n      <th>C</th>\n      <td>100</td>\n      <td>93</td>\n      <td>21</td>\n      <td>107</td>\n    </tr>\n    <tr>\n      <th>D</th>\n      <td>100</td>\n      <td>130</td>\n      <td>101</td>\n      <td>75</td>\n    </tr>\n    <tr>\n      <th>E</th>\n      <td>100</td>\n      <td>57</td>\n      <td>37</td>\n      <td>58</td>\n    </tr>\n    <tr>\n      <th>F</th>\n      <td>100</td>\n      <td>38</td>\n      <td>22</td>\n      <td>131</td>\n    </tr>\n    <tr>\n      <th>G</th>\n      <td>100</td>\n      <td>99</td>\n      <td>57</td>\n      <td>90</td>\n    </tr>\n    <tr>\n      <th>H</th>\n      <td>100</td>\n      <td>5</td>\n      <td>14</td>\n      <td>14</td>\n    </tr>\n    <tr>\n      <th>I</th>\n      <td>100</td>\n      <td>82</td>\n      <td>5</td>\n      <td>143</td>\n    </tr>\n    <tr>\n      <th>J</th>\n      <td>100</td>\n      <td>128</td>\n      <td>43</td>\n      <td>130</td>\n    </tr>\n  </tbody>\n</table>\n</div>"
     },
     "execution_count": 13,
     "metadata": {},
     "output_type": "execute_result"
    }
   ],
   "source": [
    "# 在索引为0的位置插入一列\n",
    "df.insert(0, 'Kotlin', 100)\n",
    "df"
   ],
   "metadata": {
    "collapsed": false
   }
  },
  {
   "cell_type": "code",
   "execution_count": 14,
   "outputs": [
    {
     "data": {
      "text/plain": "['Kotlin', 'Python', 'Java', 'PHP']"
     },
     "execution_count": 14,
     "metadata": {},
     "output_type": "execute_result"
    }
   ],
   "source": [
    "list(df.columns)"
   ],
   "metadata": {
    "collapsed": false
   }
  },
  {
   "cell_type": "markdown",
   "source": [
    "### 2.3 join SQL 风格合并"
   ],
   "metadata": {
    "collapsed": false
   }
  },
  {
   "cell_type": "code",
   "execution_count": 16,
   "outputs": [
    {
     "data": {
      "text/plain": "      name  weight\n0    Alice      70\n1      Bob      55\n2  Charlie      60\n3   Daniel      75",
      "text/html": "<div>\n<style scoped>\n    .dataframe tbody tr th:only-of-type {\n        vertical-align: middle;\n    }\n\n    .dataframe tbody tr th {\n        vertical-align: top;\n    }\n\n    .dataframe thead th {\n        text-align: right;\n    }\n</style>\n<table border=\"1\" class=\"dataframe\">\n  <thead>\n    <tr style=\"text-align: right;\">\n      <th></th>\n      <th>name</th>\n      <th>weight</th>\n    </tr>\n  </thead>\n  <tbody>\n    <tr>\n      <th>0</th>\n      <td>Alice</td>\n      <td>70</td>\n    </tr>\n    <tr>\n      <th>1</th>\n      <td>Bob</td>\n      <td>55</td>\n    </tr>\n    <tr>\n      <th>2</th>\n      <td>Charlie</td>\n      <td>60</td>\n    </tr>\n    <tr>\n      <th>3</th>\n      <td>Daniel</td>\n      <td>75</td>\n    </tr>\n  </tbody>\n</table>\n</div>"
     },
     "metadata": {},
     "output_type": "display_data"
    },
    {
     "data": {
      "text/plain": "      name  height\n0    Alice     160\n1      Bob     150\n2  Charlie     175\n3      Emi     166",
      "text/html": "<div>\n<style scoped>\n    .dataframe tbody tr th:only-of-type {\n        vertical-align: middle;\n    }\n\n    .dataframe tbody tr th {\n        vertical-align: top;\n    }\n\n    .dataframe thead th {\n        text-align: right;\n    }\n</style>\n<table border=\"1\" class=\"dataframe\">\n  <thead>\n    <tr style=\"text-align: right;\">\n      <th></th>\n      <th>name</th>\n      <th>height</th>\n    </tr>\n  </thead>\n  <tbody>\n    <tr>\n      <th>0</th>\n      <td>Alice</td>\n      <td>160</td>\n    </tr>\n    <tr>\n      <th>1</th>\n      <td>Bob</td>\n      <td>150</td>\n    </tr>\n    <tr>\n      <th>2</th>\n      <td>Charlie</td>\n      <td>175</td>\n    </tr>\n    <tr>\n      <th>3</th>\n      <td>Emi</td>\n      <td>166</td>\n    </tr>\n  </tbody>\n</table>\n</div>"
     },
     "metadata": {},
     "output_type": "display_data"
    },
    {
     "data": {
      "text/plain": "        名字  height\n0    Alice     160\n1      Bob     150\n2  Charlie     175\n3      Emi     166",
      "text/html": "<div>\n<style scoped>\n    .dataframe tbody tr th:only-of-type {\n        vertical-align: middle;\n    }\n\n    .dataframe tbody tr th {\n        vertical-align: top;\n    }\n\n    .dataframe thead th {\n        text-align: right;\n    }\n</style>\n<table border=\"1\" class=\"dataframe\">\n  <thead>\n    <tr style=\"text-align: right;\">\n      <th></th>\n      <th>名字</th>\n      <th>height</th>\n    </tr>\n  </thead>\n  <tbody>\n    <tr>\n      <th>0</th>\n      <td>Alice</td>\n      <td>160</td>\n    </tr>\n    <tr>\n      <th>1</th>\n      <td>Bob</td>\n      <td>150</td>\n    </tr>\n    <tr>\n      <th>2</th>\n      <td>Charlie</td>\n      <td>175</td>\n    </tr>\n    <tr>\n      <th>3</th>\n      <td>Emi</td>\n      <td>166</td>\n    </tr>\n  </tbody>\n</table>\n</div>"
     },
     "metadata": {},
     "output_type": "display_data"
    }
   ],
   "source": [
    "df1 = pd.DataFrame(data={'name': ['Alice', 'Bob', 'Charlie', 'Daniel'], 'weight': [70, 55, 60, 75]})\n",
    "df2 = pd.DataFrame(data={'name': ['Alice', 'Bob', 'Charlie', 'Emi'], 'height': [160, 150,175, 166]})\n",
    "df3 = pd.DataFrame(data={'名字': ['Alice', 'Bob', 'Charlie', 'Emi'], 'height': [160, 150,175, 166]})\n",
    "display(df1, df2, df3)"
   ],
   "metadata": {
    "collapsed": false
   }
  },
  {
   "cell_type": "code",
   "execution_count": 18,
   "outputs": [
    {
     "data": {
      "text/plain": "      name  weight  height\n0    Alice      70   160.0\n1      Bob      55   150.0\n2  Charlie      60   175.0\n3   Daniel      75     NaN",
      "text/html": "<div>\n<style scoped>\n    .dataframe tbody tr th:only-of-type {\n        vertical-align: middle;\n    }\n\n    .dataframe tbody tr th {\n        vertical-align: top;\n    }\n\n    .dataframe thead th {\n        text-align: right;\n    }\n</style>\n<table border=\"1\" class=\"dataframe\">\n  <thead>\n    <tr style=\"text-align: right;\">\n      <th></th>\n      <th>name</th>\n      <th>weight</th>\n      <th>height</th>\n    </tr>\n  </thead>\n  <tbody>\n    <tr>\n      <th>0</th>\n      <td>Alice</td>\n      <td>70</td>\n      <td>160.0</td>\n    </tr>\n    <tr>\n      <th>1</th>\n      <td>Bob</td>\n      <td>55</td>\n      <td>150.0</td>\n    </tr>\n    <tr>\n      <th>2</th>\n      <td>Charlie</td>\n      <td>60</td>\n      <td>175.0</td>\n    </tr>\n    <tr>\n      <th>3</th>\n      <td>Daniel</td>\n      <td>75</td>\n      <td>NaN</td>\n    </tr>\n  </tbody>\n</table>\n</div>"
     },
     "execution_count": 18,
     "metadata": {},
     "output_type": "execute_result"
    }
   ],
   "source": [
    "df1.merge(df2, on='name', how='inner') # 根据name进行合并，取交集"
   ],
   "metadata": {
    "collapsed": false
   }
  },
  {
   "cell_type": "code",
   "execution_count": 20,
   "outputs": [
    {
     "data": {
      "text/plain": "      name  weight  height\n0    Alice    70.0   160.0\n1      Bob    55.0   150.0\n2  Charlie    60.0   175.0\n3   Daniel    75.0     NaN\n4      Emi     NaN   166.0",
      "text/html": "<div>\n<style scoped>\n    .dataframe tbody tr th:only-of-type {\n        vertical-align: middle;\n    }\n\n    .dataframe tbody tr th {\n        vertical-align: top;\n    }\n\n    .dataframe thead th {\n        text-align: right;\n    }\n</style>\n<table border=\"1\" class=\"dataframe\">\n  <thead>\n    <tr style=\"text-align: right;\">\n      <th></th>\n      <th>name</th>\n      <th>weight</th>\n      <th>height</th>\n    </tr>\n  </thead>\n  <tbody>\n    <tr>\n      <th>0</th>\n      <td>Alice</td>\n      <td>70.0</td>\n      <td>160.0</td>\n    </tr>\n    <tr>\n      <th>1</th>\n      <td>Bob</td>\n      <td>55.0</td>\n      <td>150.0</td>\n    </tr>\n    <tr>\n      <th>2</th>\n      <td>Charlie</td>\n      <td>60.0</td>\n      <td>175.0</td>\n    </tr>\n    <tr>\n      <th>3</th>\n      <td>Daniel</td>\n      <td>75.0</td>\n      <td>NaN</td>\n    </tr>\n    <tr>\n      <th>4</th>\n      <td>Emi</td>\n      <td>NaN</td>\n      <td>166.0</td>\n    </tr>\n  </tbody>\n</table>\n</div>"
     },
     "execution_count": 20,
     "metadata": {},
     "output_type": "execute_result"
    }
   ],
   "source": [
    "df1.merge(df2, on='name', how='outer') # 根据name进行合并，取并集"
   ],
   "metadata": {
    "collapsed": false
   }
  },
  {
   "cell_type": "code",
   "execution_count": 21,
   "outputs": [
    {
     "data": {
      "text/plain": "      name  weight       名字  height\n0    Alice      70    Alice     160\n1      Bob      55      Bob     150\n2  Charlie      60  Charlie     175",
      "text/html": "<div>\n<style scoped>\n    .dataframe tbody tr th:only-of-type {\n        vertical-align: middle;\n    }\n\n    .dataframe tbody tr th {\n        vertical-align: top;\n    }\n\n    .dataframe thead th {\n        text-align: right;\n    }\n</style>\n<table border=\"1\" class=\"dataframe\">\n  <thead>\n    <tr style=\"text-align: right;\">\n      <th></th>\n      <th>name</th>\n      <th>weight</th>\n      <th>名字</th>\n      <th>height</th>\n    </tr>\n  </thead>\n  <tbody>\n    <tr>\n      <th>0</th>\n      <td>Alice</td>\n      <td>70</td>\n      <td>Alice</td>\n      <td>160</td>\n    </tr>\n    <tr>\n      <th>1</th>\n      <td>Bob</td>\n      <td>55</td>\n      <td>Bob</td>\n      <td>150</td>\n    </tr>\n    <tr>\n      <th>2</th>\n      <td>Charlie</td>\n      <td>60</td>\n      <td>Charlie</td>\n      <td>175</td>\n    </tr>\n  </tbody>\n</table>\n</div>"
     },
     "execution_count": 21,
     "metadata": {},
     "output_type": "execute_result"
    }
   ],
   "source": [
    "df1.merge(df3, left_on='name',right_on='名字', how='inner') # 根据不同的字段进行合并"
   ],
   "metadata": {
    "collapsed": false
   }
  },
  {
   "cell_type": "code",
   "execution_count": 24,
   "outputs": [
    {
     "data": {
      "text/plain": "   Python  Java  PHP\nA      28    90   88\nB      20    54   13\nC      39    85    8\nD      60    14   88\nE      12    83   27\nF      52    39   98\nG      55    92   55\nH      93     9   58\nI      45    43   65\nJ      30    85   24",
      "text/html": "<div>\n<style scoped>\n    .dataframe tbody tr th:only-of-type {\n        vertical-align: middle;\n    }\n\n    .dataframe tbody tr th {\n        vertical-align: top;\n    }\n\n    .dataframe thead th {\n        text-align: right;\n    }\n</style>\n<table border=\"1\" class=\"dataframe\">\n  <thead>\n    <tr style=\"text-align: right;\">\n      <th></th>\n      <th>Python</th>\n      <th>Java</th>\n      <th>PHP</th>\n    </tr>\n  </thead>\n  <tbody>\n    <tr>\n      <th>A</th>\n      <td>28</td>\n      <td>90</td>\n      <td>88</td>\n    </tr>\n    <tr>\n      <th>B</th>\n      <td>20</td>\n      <td>54</td>\n      <td>13</td>\n    </tr>\n    <tr>\n      <th>C</th>\n      <td>39</td>\n      <td>85</td>\n      <td>8</td>\n    </tr>\n    <tr>\n      <th>D</th>\n      <td>60</td>\n      <td>14</td>\n      <td>88</td>\n    </tr>\n    <tr>\n      <th>E</th>\n      <td>12</td>\n      <td>83</td>\n      <td>27</td>\n    </tr>\n    <tr>\n      <th>F</th>\n      <td>52</td>\n      <td>39</td>\n      <td>98</td>\n    </tr>\n    <tr>\n      <th>G</th>\n      <td>55</td>\n      <td>92</td>\n      <td>55</td>\n    </tr>\n    <tr>\n      <th>H</th>\n      <td>93</td>\n      <td>9</td>\n      <td>58</td>\n    </tr>\n    <tr>\n      <th>I</th>\n      <td>45</td>\n      <td>43</td>\n      <td>65</td>\n    </tr>\n    <tr>\n      <th>J</th>\n      <td>30</td>\n      <td>85</td>\n      <td>24</td>\n    </tr>\n  </tbody>\n</table>\n</div>"
     },
     "execution_count": 24,
     "metadata": {},
     "output_type": "execute_result"
    }
   ],
   "source": [
    "# 创建10名同学的考试成绩\n",
    "df4 = pd.DataFrame(np.random.randint(0, 100, size=(10, 3)),\n",
    "                  index=list('ABCDEFGHIJ'),\n",
    "                  columns=['Python', 'Java', 'PHP'])\n",
    "df4"
   ],
   "metadata": {
    "collapsed": false
   }
  },
  {
   "cell_type": "code",
   "execution_count": 31,
   "outputs": [
    {
     "data": {
      "text/plain": "    平均分\nA  68.7\nB  29.0\nC  44.0\nD  54.0\nE  40.7\nF  63.0\nG  67.3\nH  53.3\nI  51.0\nJ  46.3",
      "text/html": "<div>\n<style scoped>\n    .dataframe tbody tr th:only-of-type {\n        vertical-align: middle;\n    }\n\n    .dataframe tbody tr th {\n        vertical-align: top;\n    }\n\n    .dataframe thead th {\n        text-align: right;\n    }\n</style>\n<table border=\"1\" class=\"dataframe\">\n  <thead>\n    <tr style=\"text-align: right;\">\n      <th></th>\n      <th>平均分</th>\n    </tr>\n  </thead>\n  <tbody>\n    <tr>\n      <th>A</th>\n      <td>68.7</td>\n    </tr>\n    <tr>\n      <th>B</th>\n      <td>29.0</td>\n    </tr>\n    <tr>\n      <th>C</th>\n      <td>44.0</td>\n    </tr>\n    <tr>\n      <th>D</th>\n      <td>54.0</td>\n    </tr>\n    <tr>\n      <th>E</th>\n      <td>40.7</td>\n    </tr>\n    <tr>\n      <th>F</th>\n      <td>63.0</td>\n    </tr>\n    <tr>\n      <th>G</th>\n      <td>67.3</td>\n    </tr>\n    <tr>\n      <th>H</th>\n      <td>53.3</td>\n    </tr>\n    <tr>\n      <th>I</th>\n      <td>51.0</td>\n    </tr>\n    <tr>\n      <th>J</th>\n      <td>46.3</td>\n    </tr>\n  </tbody>\n</table>\n</div>"
     },
     "execution_count": 31,
     "metadata": {},
     "output_type": "execute_result"
    }
   ],
   "source": [
    "# 求每个同学的平均分\n",
    "s = df4.mean(axis=1).round(1)\n",
    "df5 = pd.DataFrame(s, columns=['平均分'])\n",
    "df5"
   ],
   "metadata": {
    "collapsed": false
   }
  },
  {
   "cell_type": "code",
   "execution_count": 34,
   "outputs": [
    {
     "data": {
      "text/plain": "   Python  Java  PHP   平均分\nA      28    90   88  68.7\nB      20    54   13  29.0\nC      39    85    8  44.0\nD      60    14   88  54.0\nE      12    83   27  40.7\nF      52    39   98  63.0\nG      55    92   55  67.3\nH      93     9   58  53.3\nI      45    43   65  51.0\nJ      30    85   24  46.3",
      "text/html": "<div>\n<style scoped>\n    .dataframe tbody tr th:only-of-type {\n        vertical-align: middle;\n    }\n\n    .dataframe tbody tr th {\n        vertical-align: top;\n    }\n\n    .dataframe thead th {\n        text-align: right;\n    }\n</style>\n<table border=\"1\" class=\"dataframe\">\n  <thead>\n    <tr style=\"text-align: right;\">\n      <th></th>\n      <th>Python</th>\n      <th>Java</th>\n      <th>PHP</th>\n      <th>平均分</th>\n    </tr>\n  </thead>\n  <tbody>\n    <tr>\n      <th>A</th>\n      <td>28</td>\n      <td>90</td>\n      <td>88</td>\n      <td>68.7</td>\n    </tr>\n    <tr>\n      <th>B</th>\n      <td>20</td>\n      <td>54</td>\n      <td>13</td>\n      <td>29.0</td>\n    </tr>\n    <tr>\n      <th>C</th>\n      <td>39</td>\n      <td>85</td>\n      <td>8</td>\n      <td>44.0</td>\n    </tr>\n    <tr>\n      <th>D</th>\n      <td>60</td>\n      <td>14</td>\n      <td>88</td>\n      <td>54.0</td>\n    </tr>\n    <tr>\n      <th>E</th>\n      <td>12</td>\n      <td>83</td>\n      <td>27</td>\n      <td>40.7</td>\n    </tr>\n    <tr>\n      <th>F</th>\n      <td>52</td>\n      <td>39</td>\n      <td>98</td>\n      <td>63.0</td>\n    </tr>\n    <tr>\n      <th>G</th>\n      <td>55</td>\n      <td>92</td>\n      <td>55</td>\n      <td>67.3</td>\n    </tr>\n    <tr>\n      <th>H</th>\n      <td>93</td>\n      <td>9</td>\n      <td>58</td>\n      <td>53.3</td>\n    </tr>\n    <tr>\n      <th>I</th>\n      <td>45</td>\n      <td>43</td>\n      <td>65</td>\n      <td>51.0</td>\n    </tr>\n    <tr>\n      <th>J</th>\n      <td>30</td>\n      <td>85</td>\n      <td>24</td>\n      <td>46.3</td>\n    </tr>\n  </tbody>\n</table>\n</div>"
     },
     "execution_count": 34,
     "metadata": {},
     "output_type": "execute_result"
    }
   ],
   "source": [
    "df4.merge(df5, left_index=True, right_index=True, how='inner') # 根据平均分进行合并"
   ],
   "metadata": {
    "collapsed": false
   }
  },
  {
   "cell_type": "code",
   "execution_count": null,
   "outputs": [],
   "source": [],
   "metadata": {
    "collapsed": false
   }
  }
 ],
 "metadata": {
  "kernelspec": {
   "display_name": "Python 3",
   "language": "python",
   "name": "python3"
  },
  "language_info": {
   "codemirror_mode": {
    "name": "ipython",
    "version": 2
   },
   "file_extension": ".py",
   "mimetype": "text/x-python",
   "name": "python",
   "nbconvert_exporter": "python",
   "pygments_lexer": "ipython2",
   "version": "2.7.6"
  }
 },
 "nbformat": 4,
 "nbformat_minor": 0
}
