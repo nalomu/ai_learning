{
 "cells": [
  {
   "cell_type": "markdown",
   "source": [
    "# Pandas 高级"
   ],
   "metadata": {
    "collapsed": false
   }
  },
  {
   "cell_type": "markdown",
   "source": [
    "## 1.数据筛选"
   ],
   "metadata": {
    "collapsed": false
   }
  },
  {
   "cell_type": "markdown",
   "source": [
    "### 1.1 赋值操作"
   ],
   "metadata": {
    "collapsed": false
   }
  },
  {
   "cell_type": "code",
   "execution_count": 90,
   "outputs": [
    {
     "data": {
      "text/plain": "    Python  Java  PHP\n0        0     6    0\n1        7     2   43\n2       14    18   34\n3       46    22   16\n4       39    23    4\n5       46    41    0\n6       27    47   35\n7       11    16   26\n8       39     4    6\n9       35     2   15\n10      11     5   14\n11      28    36   39\n12      29     7   18\n13      29    40   19\n14      14     6   16\n15       6    35   47\n16      12     3   28\n17      38    37    4\n18      23    29   49\n19       1     1   11",
      "text/html": "<div>\n<style scoped>\n    .dataframe tbody tr th:only-of-type {\n        vertical-align: middle;\n    }\n\n    .dataframe tbody tr th {\n        vertical-align: top;\n    }\n\n    .dataframe thead th {\n        text-align: right;\n    }\n</style>\n<table border=\"1\" class=\"dataframe\">\n  <thead>\n    <tr style=\"text-align: right;\">\n      <th></th>\n      <th>Python</th>\n      <th>Java</th>\n      <th>PHP</th>\n    </tr>\n  </thead>\n  <tbody>\n    <tr>\n      <th>0</th>\n      <td>0</td>\n      <td>6</td>\n      <td>0</td>\n    </tr>\n    <tr>\n      <th>1</th>\n      <td>7</td>\n      <td>2</td>\n      <td>43</td>\n    </tr>\n    <tr>\n      <th>2</th>\n      <td>14</td>\n      <td>18</td>\n      <td>34</td>\n    </tr>\n    <tr>\n      <th>3</th>\n      <td>46</td>\n      <td>22</td>\n      <td>16</td>\n    </tr>\n    <tr>\n      <th>4</th>\n      <td>39</td>\n      <td>23</td>\n      <td>4</td>\n    </tr>\n    <tr>\n      <th>5</th>\n      <td>46</td>\n      <td>41</td>\n      <td>0</td>\n    </tr>\n    <tr>\n      <th>6</th>\n      <td>27</td>\n      <td>47</td>\n      <td>35</td>\n    </tr>\n    <tr>\n      <th>7</th>\n      <td>11</td>\n      <td>16</td>\n      <td>26</td>\n    </tr>\n    <tr>\n      <th>8</th>\n      <td>39</td>\n      <td>4</td>\n      <td>6</td>\n    </tr>\n    <tr>\n      <th>9</th>\n      <td>35</td>\n      <td>2</td>\n      <td>15</td>\n    </tr>\n    <tr>\n      <th>10</th>\n      <td>11</td>\n      <td>5</td>\n      <td>14</td>\n    </tr>\n    <tr>\n      <th>11</th>\n      <td>28</td>\n      <td>36</td>\n      <td>39</td>\n    </tr>\n    <tr>\n      <th>12</th>\n      <td>29</td>\n      <td>7</td>\n      <td>18</td>\n    </tr>\n    <tr>\n      <th>13</th>\n      <td>29</td>\n      <td>40</td>\n      <td>19</td>\n    </tr>\n    <tr>\n      <th>14</th>\n      <td>14</td>\n      <td>6</td>\n      <td>16</td>\n    </tr>\n    <tr>\n      <th>15</th>\n      <td>6</td>\n      <td>35</td>\n      <td>47</td>\n    </tr>\n    <tr>\n      <th>16</th>\n      <td>12</td>\n      <td>3</td>\n      <td>28</td>\n    </tr>\n    <tr>\n      <th>17</th>\n      <td>38</td>\n      <td>37</td>\n      <td>4</td>\n    </tr>\n    <tr>\n      <th>18</th>\n      <td>23</td>\n      <td>29</td>\n      <td>49</td>\n    </tr>\n    <tr>\n      <th>19</th>\n      <td>1</td>\n      <td>1</td>\n      <td>11</td>\n    </tr>\n  </tbody>\n</table>\n</div>"
     },
     "execution_count": 90,
     "metadata": {},
     "output_type": "execute_result"
    }
   ],
   "source": [
    "import numpy as np\n",
    "import pandas as pd\n",
    "\n",
    "df = pd.DataFrame(np.random.randint(0, 50, size=(20, 3)), columns=['Python', 'Java', 'PHP'])\n",
    "df"
   ],
   "metadata": {
    "collapsed": false
   }
  },
  {
   "cell_type": "code",
   "execution_count": 91,
   "outputs": [
    {
     "data": {
      "text/plain": "    Python  Java  PHP  物理\n0        0     6    0  33\n1        7     2   43   6\n2       14    18   34  42\n3       46    22   16  26\n4       39    23    4  49\n5       46    41    0  16\n6       27    47   35   4\n7       11    16   26   6\n8       39     4    6  37\n9       35     2   15  36\n10      11     5   14   8\n11      28    36   39  41\n12      29     7   18  24\n13      29    40   19  32\n14      14     6   16  26\n15       6    35   47  20\n16      12     3   28   3\n17      38    37    4  20\n18      23    29   49  48\n19       1     1   11  18",
      "text/html": "<div>\n<style scoped>\n    .dataframe tbody tr th:only-of-type {\n        vertical-align: middle;\n    }\n\n    .dataframe tbody tr th {\n        vertical-align: top;\n    }\n\n    .dataframe thead th {\n        text-align: right;\n    }\n</style>\n<table border=\"1\" class=\"dataframe\">\n  <thead>\n    <tr style=\"text-align: right;\">\n      <th></th>\n      <th>Python</th>\n      <th>Java</th>\n      <th>PHP</th>\n      <th>物理</th>\n    </tr>\n  </thead>\n  <tbody>\n    <tr>\n      <th>0</th>\n      <td>0</td>\n      <td>6</td>\n      <td>0</td>\n      <td>33</td>\n    </tr>\n    <tr>\n      <th>1</th>\n      <td>7</td>\n      <td>2</td>\n      <td>43</td>\n      <td>6</td>\n    </tr>\n    <tr>\n      <th>2</th>\n      <td>14</td>\n      <td>18</td>\n      <td>34</td>\n      <td>42</td>\n    </tr>\n    <tr>\n      <th>3</th>\n      <td>46</td>\n      <td>22</td>\n      <td>16</td>\n      <td>26</td>\n    </tr>\n    <tr>\n      <th>4</th>\n      <td>39</td>\n      <td>23</td>\n      <td>4</td>\n      <td>49</td>\n    </tr>\n    <tr>\n      <th>5</th>\n      <td>46</td>\n      <td>41</td>\n      <td>0</td>\n      <td>16</td>\n    </tr>\n    <tr>\n      <th>6</th>\n      <td>27</td>\n      <td>47</td>\n      <td>35</td>\n      <td>4</td>\n    </tr>\n    <tr>\n      <th>7</th>\n      <td>11</td>\n      <td>16</td>\n      <td>26</td>\n      <td>6</td>\n    </tr>\n    <tr>\n      <th>8</th>\n      <td>39</td>\n      <td>4</td>\n      <td>6</td>\n      <td>37</td>\n    </tr>\n    <tr>\n      <th>9</th>\n      <td>35</td>\n      <td>2</td>\n      <td>15</td>\n      <td>36</td>\n    </tr>\n    <tr>\n      <th>10</th>\n      <td>11</td>\n      <td>5</td>\n      <td>14</td>\n      <td>8</td>\n    </tr>\n    <tr>\n      <th>11</th>\n      <td>28</td>\n      <td>36</td>\n      <td>39</td>\n      <td>41</td>\n    </tr>\n    <tr>\n      <th>12</th>\n      <td>29</td>\n      <td>7</td>\n      <td>18</td>\n      <td>24</td>\n    </tr>\n    <tr>\n      <th>13</th>\n      <td>29</td>\n      <td>40</td>\n      <td>19</td>\n      <td>32</td>\n    </tr>\n    <tr>\n      <th>14</th>\n      <td>14</td>\n      <td>6</td>\n      <td>16</td>\n      <td>26</td>\n    </tr>\n    <tr>\n      <th>15</th>\n      <td>6</td>\n      <td>35</td>\n      <td>47</td>\n      <td>20</td>\n    </tr>\n    <tr>\n      <th>16</th>\n      <td>12</td>\n      <td>3</td>\n      <td>28</td>\n      <td>3</td>\n    </tr>\n    <tr>\n      <th>17</th>\n      <td>38</td>\n      <td>37</td>\n      <td>4</td>\n      <td>20</td>\n    </tr>\n    <tr>\n      <th>18</th>\n      <td>23</td>\n      <td>29</td>\n      <td>49</td>\n      <td>48</td>\n    </tr>\n    <tr>\n      <th>19</th>\n      <td>1</td>\n      <td>1</td>\n      <td>11</td>\n      <td>18</td>\n    </tr>\n  </tbody>\n</table>\n</div>"
     },
     "execution_count": 91,
     "metadata": {},
     "output_type": "execute_result"
    }
   ],
   "source": [
    "# 增加列\n",
    "df['物理'] = np.random.randint(0, 50, size=20)\n",
    "df"
   ],
   "metadata": {
    "collapsed": false
   }
  },
  {
   "cell_type": "code",
   "execution_count": 92,
   "outputs": [
    {
     "data": {
      "text/plain": "    Python  Java  PHP  物理\n0       10     6    0  33\n1       17     2   43   6\n2       24    18   34  42\n3       56    22   16  26\n4       49    23    4  49\n5       56    41    0  16\n6       37    47   35   4\n7       21    16   26   6\n8       49     4    6  37\n9       45     2   15  36\n10      21     5   14   8\n11      38    36   39  41\n12      39     7   18  24\n13      39    40   19  32\n14      24     6   16  26\n15      16    35   47  20\n16      22     3   28   3\n17      48    37    4  20\n18      33    29   49  48\n19      11     1   11  18",
      "text/html": "<div>\n<style scoped>\n    .dataframe tbody tr th:only-of-type {\n        vertical-align: middle;\n    }\n\n    .dataframe tbody tr th {\n        vertical-align: top;\n    }\n\n    .dataframe thead th {\n        text-align: right;\n    }\n</style>\n<table border=\"1\" class=\"dataframe\">\n  <thead>\n    <tr style=\"text-align: right;\">\n      <th></th>\n      <th>Python</th>\n      <th>Java</th>\n      <th>PHP</th>\n      <th>物理</th>\n    </tr>\n  </thead>\n  <tbody>\n    <tr>\n      <th>0</th>\n      <td>10</td>\n      <td>6</td>\n      <td>0</td>\n      <td>33</td>\n    </tr>\n    <tr>\n      <th>1</th>\n      <td>17</td>\n      <td>2</td>\n      <td>43</td>\n      <td>6</td>\n    </tr>\n    <tr>\n      <th>2</th>\n      <td>24</td>\n      <td>18</td>\n      <td>34</td>\n      <td>42</td>\n    </tr>\n    <tr>\n      <th>3</th>\n      <td>56</td>\n      <td>22</td>\n      <td>16</td>\n      <td>26</td>\n    </tr>\n    <tr>\n      <th>4</th>\n      <td>49</td>\n      <td>23</td>\n      <td>4</td>\n      <td>49</td>\n    </tr>\n    <tr>\n      <th>5</th>\n      <td>56</td>\n      <td>41</td>\n      <td>0</td>\n      <td>16</td>\n    </tr>\n    <tr>\n      <th>6</th>\n      <td>37</td>\n      <td>47</td>\n      <td>35</td>\n      <td>4</td>\n    </tr>\n    <tr>\n      <th>7</th>\n      <td>21</td>\n      <td>16</td>\n      <td>26</td>\n      <td>6</td>\n    </tr>\n    <tr>\n      <th>8</th>\n      <td>49</td>\n      <td>4</td>\n      <td>6</td>\n      <td>37</td>\n    </tr>\n    <tr>\n      <th>9</th>\n      <td>45</td>\n      <td>2</td>\n      <td>15</td>\n      <td>36</td>\n    </tr>\n    <tr>\n      <th>10</th>\n      <td>21</td>\n      <td>5</td>\n      <td>14</td>\n      <td>8</td>\n    </tr>\n    <tr>\n      <th>11</th>\n      <td>38</td>\n      <td>36</td>\n      <td>39</td>\n      <td>41</td>\n    </tr>\n    <tr>\n      <th>12</th>\n      <td>39</td>\n      <td>7</td>\n      <td>18</td>\n      <td>24</td>\n    </tr>\n    <tr>\n      <th>13</th>\n      <td>39</td>\n      <td>40</td>\n      <td>19</td>\n      <td>32</td>\n    </tr>\n    <tr>\n      <th>14</th>\n      <td>24</td>\n      <td>6</td>\n      <td>16</td>\n      <td>26</td>\n    </tr>\n    <tr>\n      <th>15</th>\n      <td>16</td>\n      <td>35</td>\n      <td>47</td>\n      <td>20</td>\n    </tr>\n    <tr>\n      <th>16</th>\n      <td>22</td>\n      <td>3</td>\n      <td>28</td>\n      <td>3</td>\n    </tr>\n    <tr>\n      <th>17</th>\n      <td>48</td>\n      <td>37</td>\n      <td>4</td>\n      <td>20</td>\n    </tr>\n    <tr>\n      <th>18</th>\n      <td>33</td>\n      <td>29</td>\n      <td>49</td>\n      <td>48</td>\n    </tr>\n    <tr>\n      <th>19</th>\n      <td>11</td>\n      <td>1</td>\n      <td>11</td>\n      <td>18</td>\n    </tr>\n  </tbody>\n</table>\n</div>"
     },
     "execution_count": 92,
     "metadata": {},
     "output_type": "execute_result"
    }
   ],
   "source": [
    "# 所有都增加10分\n",
    "df.Python += 10\n",
    "df"
   ],
   "metadata": {
    "collapsed": false
   }
  },
  {
   "cell_type": "code",
   "execution_count": 93,
   "outputs": [
    {
     "data": {
      "text/plain": "    Python  Java  PHP  物理\n0       10     6    0  33\n1       17     2   43   6\n2       24   100   34  42\n3       56   100   16  26\n4       49    23    4  49\n5       56    41    0  16\n6       37    47   35   4\n7       21    16   26   6\n8       49     4    6  37\n9       45     2   15  36\n10      21     5   14   8\n11      38    36   39  41\n12      39     7   18  24\n13      39    40   19  32\n14      24     6   16  26\n15      16    35   47  20\n16      22     3   28   3\n17      48    37    4  20\n18      33    29   49  48\n19      11     1   11  18",
      "text/html": "<div>\n<style scoped>\n    .dataframe tbody tr th:only-of-type {\n        vertical-align: middle;\n    }\n\n    .dataframe tbody tr th {\n        vertical-align: top;\n    }\n\n    .dataframe thead th {\n        text-align: right;\n    }\n</style>\n<table border=\"1\" class=\"dataframe\">\n  <thead>\n    <tr style=\"text-align: right;\">\n      <th></th>\n      <th>Python</th>\n      <th>Java</th>\n      <th>PHP</th>\n      <th>物理</th>\n    </tr>\n  </thead>\n  <tbody>\n    <tr>\n      <th>0</th>\n      <td>10</td>\n      <td>6</td>\n      <td>0</td>\n      <td>33</td>\n    </tr>\n    <tr>\n      <th>1</th>\n      <td>17</td>\n      <td>2</td>\n      <td>43</td>\n      <td>6</td>\n    </tr>\n    <tr>\n      <th>2</th>\n      <td>24</td>\n      <td>100</td>\n      <td>34</td>\n      <td>42</td>\n    </tr>\n    <tr>\n      <th>3</th>\n      <td>56</td>\n      <td>100</td>\n      <td>16</td>\n      <td>26</td>\n    </tr>\n    <tr>\n      <th>4</th>\n      <td>49</td>\n      <td>23</td>\n      <td>4</td>\n      <td>49</td>\n    </tr>\n    <tr>\n      <th>5</th>\n      <td>56</td>\n      <td>41</td>\n      <td>0</td>\n      <td>16</td>\n    </tr>\n    <tr>\n      <th>6</th>\n      <td>37</td>\n      <td>47</td>\n      <td>35</td>\n      <td>4</td>\n    </tr>\n    <tr>\n      <th>7</th>\n      <td>21</td>\n      <td>16</td>\n      <td>26</td>\n      <td>6</td>\n    </tr>\n    <tr>\n      <th>8</th>\n      <td>49</td>\n      <td>4</td>\n      <td>6</td>\n      <td>37</td>\n    </tr>\n    <tr>\n      <th>9</th>\n      <td>45</td>\n      <td>2</td>\n      <td>15</td>\n      <td>36</td>\n    </tr>\n    <tr>\n      <th>10</th>\n      <td>21</td>\n      <td>5</td>\n      <td>14</td>\n      <td>8</td>\n    </tr>\n    <tr>\n      <th>11</th>\n      <td>38</td>\n      <td>36</td>\n      <td>39</td>\n      <td>41</td>\n    </tr>\n    <tr>\n      <th>12</th>\n      <td>39</td>\n      <td>7</td>\n      <td>18</td>\n      <td>24</td>\n    </tr>\n    <tr>\n      <th>13</th>\n      <td>39</td>\n      <td>40</td>\n      <td>19</td>\n      <td>32</td>\n    </tr>\n    <tr>\n      <th>14</th>\n      <td>24</td>\n      <td>6</td>\n      <td>16</td>\n      <td>26</td>\n    </tr>\n    <tr>\n      <th>15</th>\n      <td>16</td>\n      <td>35</td>\n      <td>47</td>\n      <td>20</td>\n    </tr>\n    <tr>\n      <th>16</th>\n      <td>22</td>\n      <td>3</td>\n      <td>28</td>\n      <td>3</td>\n    </tr>\n    <tr>\n      <th>17</th>\n      <td>48</td>\n      <td>37</td>\n      <td>4</td>\n      <td>20</td>\n    </tr>\n    <tr>\n      <th>18</th>\n      <td>33</td>\n      <td>29</td>\n      <td>49</td>\n      <td>48</td>\n    </tr>\n    <tr>\n      <th>19</th>\n      <td>11</td>\n      <td>1</td>\n      <td>11</td>\n      <td>18</td>\n    </tr>\n  </tbody>\n</table>\n</div>"
     },
     "execution_count": 93,
     "metadata": {},
     "output_type": "execute_result"
    }
   ],
   "source": [
    "# 给指定的索引赋值\n",
    "df.Java[[2, 3]] = 100\n",
    "df"
   ],
   "metadata": {
    "collapsed": false
   }
  },
  {
   "cell_type": "code",
   "execution_count": 94,
   "outputs": [
    {
     "data": {
      "text/plain": "    Python  Java  PHP  物理\n0       10     6    0  33\n1       17     2   43   6\n2      100   100   34  42\n3      100   100   16  26\n4       49    23    4  49\n5       56    41    0  16\n6       37    47   35   4\n7       21    16   26   6\n8       49     4    6  37\n9       45     2   15  36\n10      21     5   14   8\n11      38    36   39  41\n12      39     7   18  24\n13      39    40   19  32\n14      24     6   16  26\n15      16    35   47  20\n16      22     3   28   3\n17      48    37    4  20\n18      33    29   49  48\n19      11     1   11  18",
      "text/html": "<div>\n<style scoped>\n    .dataframe tbody tr th:only-of-type {\n        vertical-align: middle;\n    }\n\n    .dataframe tbody tr th {\n        vertical-align: top;\n    }\n\n    .dataframe thead th {\n        text-align: right;\n    }\n</style>\n<table border=\"1\" class=\"dataframe\">\n  <thead>\n    <tr style=\"text-align: right;\">\n      <th></th>\n      <th>Python</th>\n      <th>Java</th>\n      <th>PHP</th>\n      <th>物理</th>\n    </tr>\n  </thead>\n  <tbody>\n    <tr>\n      <th>0</th>\n      <td>10</td>\n      <td>6</td>\n      <td>0</td>\n      <td>33</td>\n    </tr>\n    <tr>\n      <th>1</th>\n      <td>17</td>\n      <td>2</td>\n      <td>43</td>\n      <td>6</td>\n    </tr>\n    <tr>\n      <th>2</th>\n      <td>100</td>\n      <td>100</td>\n      <td>34</td>\n      <td>42</td>\n    </tr>\n    <tr>\n      <th>3</th>\n      <td>100</td>\n      <td>100</td>\n      <td>16</td>\n      <td>26</td>\n    </tr>\n    <tr>\n      <th>4</th>\n      <td>49</td>\n      <td>23</td>\n      <td>4</td>\n      <td>49</td>\n    </tr>\n    <tr>\n      <th>5</th>\n      <td>56</td>\n      <td>41</td>\n      <td>0</td>\n      <td>16</td>\n    </tr>\n    <tr>\n      <th>6</th>\n      <td>37</td>\n      <td>47</td>\n      <td>35</td>\n      <td>4</td>\n    </tr>\n    <tr>\n      <th>7</th>\n      <td>21</td>\n      <td>16</td>\n      <td>26</td>\n      <td>6</td>\n    </tr>\n    <tr>\n      <th>8</th>\n      <td>49</td>\n      <td>4</td>\n      <td>6</td>\n      <td>37</td>\n    </tr>\n    <tr>\n      <th>9</th>\n      <td>45</td>\n      <td>2</td>\n      <td>15</td>\n      <td>36</td>\n    </tr>\n    <tr>\n      <th>10</th>\n      <td>21</td>\n      <td>5</td>\n      <td>14</td>\n      <td>8</td>\n    </tr>\n    <tr>\n      <th>11</th>\n      <td>38</td>\n      <td>36</td>\n      <td>39</td>\n      <td>41</td>\n    </tr>\n    <tr>\n      <th>12</th>\n      <td>39</td>\n      <td>7</td>\n      <td>18</td>\n      <td>24</td>\n    </tr>\n    <tr>\n      <th>13</th>\n      <td>39</td>\n      <td>40</td>\n      <td>19</td>\n      <td>32</td>\n    </tr>\n    <tr>\n      <th>14</th>\n      <td>24</td>\n      <td>6</td>\n      <td>16</td>\n      <td>26</td>\n    </tr>\n    <tr>\n      <th>15</th>\n      <td>16</td>\n      <td>35</td>\n      <td>47</td>\n      <td>20</td>\n    </tr>\n    <tr>\n      <th>16</th>\n      <td>22</td>\n      <td>3</td>\n      <td>28</td>\n      <td>3</td>\n    </tr>\n    <tr>\n      <th>17</th>\n      <td>48</td>\n      <td>37</td>\n      <td>4</td>\n      <td>20</td>\n    </tr>\n    <tr>\n      <th>18</th>\n      <td>33</td>\n      <td>29</td>\n      <td>49</td>\n      <td>48</td>\n    </tr>\n    <tr>\n      <th>19</th>\n      <td>11</td>\n      <td>1</td>\n      <td>11</td>\n      <td>18</td>\n    </tr>\n  </tbody>\n</table>\n</div>"
     },
     "execution_count": 94,
     "metadata": {},
     "output_type": "execute_result"
    }
   ],
   "source": [
    "# 跨维度修改数据\n",
    "df.loc[[2, 3], ['Python', 'Java']] = 100\n",
    "df"
   ],
   "metadata": {
    "collapsed": false
   }
  },
  {
   "cell_type": "code",
   "execution_count": 95,
   "outputs": [
    {
     "data": {
      "text/plain": "    Python  Java  PHP  物理\n0      -90   -94 -100 -67\n2        0     0  -66 -58\n3        0     0  -84 -74\n4      -51   -77  -96 -51\n8      -51   -96  -94 -63\n9      -55   -98  -85 -64\n11     -62   -64  -61 -59\n12     -61   -93  -82 -76\n13     -61   -60  -81 -68\n14     -76   -94  -84 -74\n18     -67   -71  -51 -52",
      "text/html": "<div>\n<style scoped>\n    .dataframe tbody tr th:only-of-type {\n        vertical-align: middle;\n    }\n\n    .dataframe tbody tr th {\n        vertical-align: top;\n    }\n\n    .dataframe thead th {\n        text-align: right;\n    }\n</style>\n<table border=\"1\" class=\"dataframe\">\n  <thead>\n    <tr style=\"text-align: right;\">\n      <th></th>\n      <th>Python</th>\n      <th>Java</th>\n      <th>PHP</th>\n      <th>物理</th>\n    </tr>\n  </thead>\n  <tbody>\n    <tr>\n      <th>0</th>\n      <td>-90</td>\n      <td>-94</td>\n      <td>-100</td>\n      <td>-67</td>\n    </tr>\n    <tr>\n      <th>2</th>\n      <td>0</td>\n      <td>0</td>\n      <td>-66</td>\n      <td>-58</td>\n    </tr>\n    <tr>\n      <th>3</th>\n      <td>0</td>\n      <td>0</td>\n      <td>-84</td>\n      <td>-74</td>\n    </tr>\n    <tr>\n      <th>4</th>\n      <td>-51</td>\n      <td>-77</td>\n      <td>-96</td>\n      <td>-51</td>\n    </tr>\n    <tr>\n      <th>8</th>\n      <td>-51</td>\n      <td>-96</td>\n      <td>-94</td>\n      <td>-63</td>\n    </tr>\n    <tr>\n      <th>9</th>\n      <td>-55</td>\n      <td>-98</td>\n      <td>-85</td>\n      <td>-64</td>\n    </tr>\n    <tr>\n      <th>11</th>\n      <td>-62</td>\n      <td>-64</td>\n      <td>-61</td>\n      <td>-59</td>\n    </tr>\n    <tr>\n      <th>12</th>\n      <td>-61</td>\n      <td>-93</td>\n      <td>-82</td>\n      <td>-76</td>\n    </tr>\n    <tr>\n      <th>13</th>\n      <td>-61</td>\n      <td>-60</td>\n      <td>-81</td>\n      <td>-68</td>\n    </tr>\n    <tr>\n      <th>14</th>\n      <td>-76</td>\n      <td>-94</td>\n      <td>-84</td>\n      <td>-74</td>\n    </tr>\n    <tr>\n      <th>18</th>\n      <td>-67</td>\n      <td>-71</td>\n      <td>-51</td>\n      <td>-52</td>\n    </tr>\n  </tbody>\n</table>\n</div>"
     },
     "execution_count": 95,
     "metadata": {},
     "output_type": "execute_result"
    }
   ],
   "source": [
    "cond = df['物理'] > 20\n",
    "df[cond] - 100"
   ],
   "metadata": {
    "collapsed": false
   }
  },
  {
   "cell_type": "code",
   "execution_count": 96,
   "outputs": [
    {
     "data": {
      "text/plain": "    Python  Java  PHP  物理\n0      -90   -94 -100 -67\n1       17     2   43   6\n2        0     0  -66 -58\n3        0     0  -84 -74\n4      -51   -77  -96 -51\n5       56    41    0  16\n6       37    47   35   4\n7       21    16   26   6\n8      -51   -96  -94 -63\n9      -55   -98  -85 -64\n10      21     5   14   8\n11     -62   -64  -61 -59\n12     -61   -93  -82 -76\n13     -61   -60  -81 -68\n14     -76   -94  -84 -74\n15      16    35   47  20\n16      22     3   28   3\n17      48    37    4  20\n18     -67   -71  -51 -52\n19      11     1   11  18",
      "text/html": "<div>\n<style scoped>\n    .dataframe tbody tr th:only-of-type {\n        vertical-align: middle;\n    }\n\n    .dataframe tbody tr th {\n        vertical-align: top;\n    }\n\n    .dataframe thead th {\n        text-align: right;\n    }\n</style>\n<table border=\"1\" class=\"dataframe\">\n  <thead>\n    <tr style=\"text-align: right;\">\n      <th></th>\n      <th>Python</th>\n      <th>Java</th>\n      <th>PHP</th>\n      <th>物理</th>\n    </tr>\n  </thead>\n  <tbody>\n    <tr>\n      <th>0</th>\n      <td>-90</td>\n      <td>-94</td>\n      <td>-100</td>\n      <td>-67</td>\n    </tr>\n    <tr>\n      <th>1</th>\n      <td>17</td>\n      <td>2</td>\n      <td>43</td>\n      <td>6</td>\n    </tr>\n    <tr>\n      <th>2</th>\n      <td>0</td>\n      <td>0</td>\n      <td>-66</td>\n      <td>-58</td>\n    </tr>\n    <tr>\n      <th>3</th>\n      <td>0</td>\n      <td>0</td>\n      <td>-84</td>\n      <td>-74</td>\n    </tr>\n    <tr>\n      <th>4</th>\n      <td>-51</td>\n      <td>-77</td>\n      <td>-96</td>\n      <td>-51</td>\n    </tr>\n    <tr>\n      <th>5</th>\n      <td>56</td>\n      <td>41</td>\n      <td>0</td>\n      <td>16</td>\n    </tr>\n    <tr>\n      <th>6</th>\n      <td>37</td>\n      <td>47</td>\n      <td>35</td>\n      <td>4</td>\n    </tr>\n    <tr>\n      <th>7</th>\n      <td>21</td>\n      <td>16</td>\n      <td>26</td>\n      <td>6</td>\n    </tr>\n    <tr>\n      <th>8</th>\n      <td>-51</td>\n      <td>-96</td>\n      <td>-94</td>\n      <td>-63</td>\n    </tr>\n    <tr>\n      <th>9</th>\n      <td>-55</td>\n      <td>-98</td>\n      <td>-85</td>\n      <td>-64</td>\n    </tr>\n    <tr>\n      <th>10</th>\n      <td>21</td>\n      <td>5</td>\n      <td>14</td>\n      <td>8</td>\n    </tr>\n    <tr>\n      <th>11</th>\n      <td>-62</td>\n      <td>-64</td>\n      <td>-61</td>\n      <td>-59</td>\n    </tr>\n    <tr>\n      <th>12</th>\n      <td>-61</td>\n      <td>-93</td>\n      <td>-82</td>\n      <td>-76</td>\n    </tr>\n    <tr>\n      <th>13</th>\n      <td>-61</td>\n      <td>-60</td>\n      <td>-81</td>\n      <td>-68</td>\n    </tr>\n    <tr>\n      <th>14</th>\n      <td>-76</td>\n      <td>-94</td>\n      <td>-84</td>\n      <td>-74</td>\n    </tr>\n    <tr>\n      <th>15</th>\n      <td>16</td>\n      <td>35</td>\n      <td>47</td>\n      <td>20</td>\n    </tr>\n    <tr>\n      <th>16</th>\n      <td>22</td>\n      <td>3</td>\n      <td>28</td>\n      <td>3</td>\n    </tr>\n    <tr>\n      <th>17</th>\n      <td>48</td>\n      <td>37</td>\n      <td>4</td>\n      <td>20</td>\n    </tr>\n    <tr>\n      <th>18</th>\n      <td>-67</td>\n      <td>-71</td>\n      <td>-51</td>\n      <td>-52</td>\n    </tr>\n    <tr>\n      <th>19</th>\n      <td>11</td>\n      <td>1</td>\n      <td>11</td>\n      <td>18</td>\n    </tr>\n  </tbody>\n</table>\n</div>"
     },
     "execution_count": 96,
     "metadata": {},
     "output_type": "execute_result"
    }
   ],
   "source": [
    "df.loc[cond] -= 100\n",
    "df"
   ],
   "metadata": {
    "collapsed": false
   }
  },
  {
   "cell_type": "markdown",
   "source": [
    "## 2 数据集成"
   ],
   "metadata": {
    "collapsed": false
   }
  },
  {
   "cell_type": "markdown",
   "source": [
    "### 2.1 concat"
   ],
   "metadata": {
    "collapsed": false
   }
  },
  {
   "cell_type": "code",
   "execution_count": 97,
   "outputs": [
    {
     "data": {
      "text/plain": "   Python  Java  PHP\nA      67   128   94\nB      33   135   32\nC      58   107  140\nD     148   106  129\nE      35   105   73\nF     121     7   11\nG      68   143   84\nH      29   105   53\nI     144    49   59\nJ     127    79   16",
      "text/html": "<div>\n<style scoped>\n    .dataframe tbody tr th:only-of-type {\n        vertical-align: middle;\n    }\n\n    .dataframe tbody tr th {\n        vertical-align: top;\n    }\n\n    .dataframe thead th {\n        text-align: right;\n    }\n</style>\n<table border=\"1\" class=\"dataframe\">\n  <thead>\n    <tr style=\"text-align: right;\">\n      <th></th>\n      <th>Python</th>\n      <th>Java</th>\n      <th>PHP</th>\n    </tr>\n  </thead>\n  <tbody>\n    <tr>\n      <th>A</th>\n      <td>67</td>\n      <td>128</td>\n      <td>94</td>\n    </tr>\n    <tr>\n      <th>B</th>\n      <td>33</td>\n      <td>135</td>\n      <td>32</td>\n    </tr>\n    <tr>\n      <th>C</th>\n      <td>58</td>\n      <td>107</td>\n      <td>140</td>\n    </tr>\n    <tr>\n      <th>D</th>\n      <td>148</td>\n      <td>106</td>\n      <td>129</td>\n    </tr>\n    <tr>\n      <th>E</th>\n      <td>35</td>\n      <td>105</td>\n      <td>73</td>\n    </tr>\n    <tr>\n      <th>F</th>\n      <td>121</td>\n      <td>7</td>\n      <td>11</td>\n    </tr>\n    <tr>\n      <th>G</th>\n      <td>68</td>\n      <td>143</td>\n      <td>84</td>\n    </tr>\n    <tr>\n      <th>H</th>\n      <td>29</td>\n      <td>105</td>\n      <td>53</td>\n    </tr>\n    <tr>\n      <th>I</th>\n      <td>144</td>\n      <td>49</td>\n      <td>59</td>\n    </tr>\n    <tr>\n      <th>J</th>\n      <td>127</td>\n      <td>79</td>\n      <td>16</td>\n    </tr>\n  </tbody>\n</table>\n</div>"
     },
     "metadata": {},
     "output_type": "display_data"
    },
    {
     "data": {
      "text/plain": "   Python  Java  PHP\nK     105    30   90\nL     112     2   45\nM      30    37   11\nN      46    60   62\nO     129     4   34\nP     147   118  117\nQ      28    51  100\nR      44    44   57\nS       7    65   83\nT      64   104    3",
      "text/html": "<div>\n<style scoped>\n    .dataframe tbody tr th:only-of-type {\n        vertical-align: middle;\n    }\n\n    .dataframe tbody tr th {\n        vertical-align: top;\n    }\n\n    .dataframe thead th {\n        text-align: right;\n    }\n</style>\n<table border=\"1\" class=\"dataframe\">\n  <thead>\n    <tr style=\"text-align: right;\">\n      <th></th>\n      <th>Python</th>\n      <th>Java</th>\n      <th>PHP</th>\n    </tr>\n  </thead>\n  <tbody>\n    <tr>\n      <th>K</th>\n      <td>105</td>\n      <td>30</td>\n      <td>90</td>\n    </tr>\n    <tr>\n      <th>L</th>\n      <td>112</td>\n      <td>2</td>\n      <td>45</td>\n    </tr>\n    <tr>\n      <th>M</th>\n      <td>30</td>\n      <td>37</td>\n      <td>11</td>\n    </tr>\n    <tr>\n      <th>N</th>\n      <td>46</td>\n      <td>60</td>\n      <td>62</td>\n    </tr>\n    <tr>\n      <th>O</th>\n      <td>129</td>\n      <td>4</td>\n      <td>34</td>\n    </tr>\n    <tr>\n      <th>P</th>\n      <td>147</td>\n      <td>118</td>\n      <td>117</td>\n    </tr>\n    <tr>\n      <th>Q</th>\n      <td>28</td>\n      <td>51</td>\n      <td>100</td>\n    </tr>\n    <tr>\n      <th>R</th>\n      <td>44</td>\n      <td>44</td>\n      <td>57</td>\n    </tr>\n    <tr>\n      <th>S</th>\n      <td>7</td>\n      <td>65</td>\n      <td>83</td>\n    </tr>\n    <tr>\n      <th>T</th>\n      <td>64</td>\n      <td>104</td>\n      <td>3</td>\n    </tr>\n  </tbody>\n</table>\n</div>"
     },
     "metadata": {},
     "output_type": "display_data"
    },
    {
     "data": {
      "text/plain": "     C  Kotlin\nA  111     133\nB  117     100\nC  118     102\nD   89      64\nE  148       2\nF  126      69\nG   84     145\nH   36     122\nI   47      11\nJ   98     102",
      "text/html": "<div>\n<style scoped>\n    .dataframe tbody tr th:only-of-type {\n        vertical-align: middle;\n    }\n\n    .dataframe tbody tr th {\n        vertical-align: top;\n    }\n\n    .dataframe thead th {\n        text-align: right;\n    }\n</style>\n<table border=\"1\" class=\"dataframe\">\n  <thead>\n    <tr style=\"text-align: right;\">\n      <th></th>\n      <th>C</th>\n      <th>Kotlin</th>\n    </tr>\n  </thead>\n  <tbody>\n    <tr>\n      <th>A</th>\n      <td>111</td>\n      <td>133</td>\n    </tr>\n    <tr>\n      <th>B</th>\n      <td>117</td>\n      <td>100</td>\n    </tr>\n    <tr>\n      <th>C</th>\n      <td>118</td>\n      <td>102</td>\n    </tr>\n    <tr>\n      <th>D</th>\n      <td>89</td>\n      <td>64</td>\n    </tr>\n    <tr>\n      <th>E</th>\n      <td>148</td>\n      <td>2</td>\n    </tr>\n    <tr>\n      <th>F</th>\n      <td>126</td>\n      <td>69</td>\n    </tr>\n    <tr>\n      <th>G</th>\n      <td>84</td>\n      <td>145</td>\n    </tr>\n    <tr>\n      <th>H</th>\n      <td>36</td>\n      <td>122</td>\n    </tr>\n    <tr>\n      <th>I</th>\n      <td>47</td>\n      <td>11</td>\n    </tr>\n    <tr>\n      <th>J</th>\n      <td>98</td>\n      <td>102</td>\n    </tr>\n  </tbody>\n</table>\n</div>"
     },
     "metadata": {},
     "output_type": "display_data"
    }
   ],
   "source": [
    "df1 = pd.DataFrame(np.random.randint(0, 150, size=(10, 3)),\n",
    "                   index=list('ABCDEFGHIJ'),\n",
    "                   columns=['Python', 'Java', 'PHP'])\n",
    "df2 = pd.DataFrame(np.random.randint(0, 150, size=(10, 3)),\n",
    "                   index=list('KLMNOPQRST'),\n",
    "                   columns=['Python', 'Java', 'PHP'])\n",
    "df3 = pd.DataFrame(np.random.randint(0, 150, size=(10, 2)),\n",
    "                   index=list('ABCDEFGHIJ'),\n",
    "                   columns=['C', 'Kotlin', ])\n",
    "display(df1, df2, df3)"
   ],
   "metadata": {
    "collapsed": false
   }
  },
  {
   "cell_type": "code",
   "execution_count": 98,
   "outputs": [
    {
     "data": {
      "text/plain": "   Python  Java  PHP\nA      67   128   94\nB      33   135   32\nC      58   107  140\nD     148   106  129\nE      35   105   73\nF     121     7   11\nG      68   143   84\nH      29   105   53\nI     144    49   59\nJ     127    79   16\nK     105    30   90\nL     112     2   45\nM      30    37   11\nN      46    60   62\nO     129     4   34\nP     147   118  117\nQ      28    51  100\nR      44    44   57\nS       7    65   83\nT      64   104    3",
      "text/html": "<div>\n<style scoped>\n    .dataframe tbody tr th:only-of-type {\n        vertical-align: middle;\n    }\n\n    .dataframe tbody tr th {\n        vertical-align: top;\n    }\n\n    .dataframe thead th {\n        text-align: right;\n    }\n</style>\n<table border=\"1\" class=\"dataframe\">\n  <thead>\n    <tr style=\"text-align: right;\">\n      <th></th>\n      <th>Python</th>\n      <th>Java</th>\n      <th>PHP</th>\n    </tr>\n  </thead>\n  <tbody>\n    <tr>\n      <th>A</th>\n      <td>67</td>\n      <td>128</td>\n      <td>94</td>\n    </tr>\n    <tr>\n      <th>B</th>\n      <td>33</td>\n      <td>135</td>\n      <td>32</td>\n    </tr>\n    <tr>\n      <th>C</th>\n      <td>58</td>\n      <td>107</td>\n      <td>140</td>\n    </tr>\n    <tr>\n      <th>D</th>\n      <td>148</td>\n      <td>106</td>\n      <td>129</td>\n    </tr>\n    <tr>\n      <th>E</th>\n      <td>35</td>\n      <td>105</td>\n      <td>73</td>\n    </tr>\n    <tr>\n      <th>F</th>\n      <td>121</td>\n      <td>7</td>\n      <td>11</td>\n    </tr>\n    <tr>\n      <th>G</th>\n      <td>68</td>\n      <td>143</td>\n      <td>84</td>\n    </tr>\n    <tr>\n      <th>H</th>\n      <td>29</td>\n      <td>105</td>\n      <td>53</td>\n    </tr>\n    <tr>\n      <th>I</th>\n      <td>144</td>\n      <td>49</td>\n      <td>59</td>\n    </tr>\n    <tr>\n      <th>J</th>\n      <td>127</td>\n      <td>79</td>\n      <td>16</td>\n    </tr>\n    <tr>\n      <th>K</th>\n      <td>105</td>\n      <td>30</td>\n      <td>90</td>\n    </tr>\n    <tr>\n      <th>L</th>\n      <td>112</td>\n      <td>2</td>\n      <td>45</td>\n    </tr>\n    <tr>\n      <th>M</th>\n      <td>30</td>\n      <td>37</td>\n      <td>11</td>\n    </tr>\n    <tr>\n      <th>N</th>\n      <td>46</td>\n      <td>60</td>\n      <td>62</td>\n    </tr>\n    <tr>\n      <th>O</th>\n      <td>129</td>\n      <td>4</td>\n      <td>34</td>\n    </tr>\n    <tr>\n      <th>P</th>\n      <td>147</td>\n      <td>118</td>\n      <td>117</td>\n    </tr>\n    <tr>\n      <th>Q</th>\n      <td>28</td>\n      <td>51</td>\n      <td>100</td>\n    </tr>\n    <tr>\n      <th>R</th>\n      <td>44</td>\n      <td>44</td>\n      <td>57</td>\n    </tr>\n    <tr>\n      <th>S</th>\n      <td>7</td>\n      <td>65</td>\n      <td>83</td>\n    </tr>\n    <tr>\n      <th>T</th>\n      <td>64</td>\n      <td>104</td>\n      <td>3</td>\n    </tr>\n  </tbody>\n</table>\n</div>"
     },
     "execution_count": 98,
     "metadata": {},
     "output_type": "execute_result"
    }
   ],
   "source": [
    "# 行合并\n",
    "pd.concat([df1, df2])"
   ],
   "metadata": {
    "collapsed": false
   }
  },
  {
   "cell_type": "code",
   "execution_count": 99,
   "outputs": [
    {
     "data": {
      "text/plain": "   Python  Java  PHP    C  Kotlin\nA      67   128   94  111     133\nB      33   135   32  117     100\nC      58   107  140  118     102\nD     148   106  129   89      64\nE      35   105   73  148       2\nF     121     7   11  126      69\nG      68   143   84   84     145\nH      29   105   53   36     122\nI     144    49   59   47      11\nJ     127    79   16   98     102",
      "text/html": "<div>\n<style scoped>\n    .dataframe tbody tr th:only-of-type {\n        vertical-align: middle;\n    }\n\n    .dataframe tbody tr th {\n        vertical-align: top;\n    }\n\n    .dataframe thead th {\n        text-align: right;\n    }\n</style>\n<table border=\"1\" class=\"dataframe\">\n  <thead>\n    <tr style=\"text-align: right;\">\n      <th></th>\n      <th>Python</th>\n      <th>Java</th>\n      <th>PHP</th>\n      <th>C</th>\n      <th>Kotlin</th>\n    </tr>\n  </thead>\n  <tbody>\n    <tr>\n      <th>A</th>\n      <td>67</td>\n      <td>128</td>\n      <td>94</td>\n      <td>111</td>\n      <td>133</td>\n    </tr>\n    <tr>\n      <th>B</th>\n      <td>33</td>\n      <td>135</td>\n      <td>32</td>\n      <td>117</td>\n      <td>100</td>\n    </tr>\n    <tr>\n      <th>C</th>\n      <td>58</td>\n      <td>107</td>\n      <td>140</td>\n      <td>118</td>\n      <td>102</td>\n    </tr>\n    <tr>\n      <th>D</th>\n      <td>148</td>\n      <td>106</td>\n      <td>129</td>\n      <td>89</td>\n      <td>64</td>\n    </tr>\n    <tr>\n      <th>E</th>\n      <td>35</td>\n      <td>105</td>\n      <td>73</td>\n      <td>148</td>\n      <td>2</td>\n    </tr>\n    <tr>\n      <th>F</th>\n      <td>121</td>\n      <td>7</td>\n      <td>11</td>\n      <td>126</td>\n      <td>69</td>\n    </tr>\n    <tr>\n      <th>G</th>\n      <td>68</td>\n      <td>143</td>\n      <td>84</td>\n      <td>84</td>\n      <td>145</td>\n    </tr>\n    <tr>\n      <th>H</th>\n      <td>29</td>\n      <td>105</td>\n      <td>53</td>\n      <td>36</td>\n      <td>122</td>\n    </tr>\n    <tr>\n      <th>I</th>\n      <td>144</td>\n      <td>49</td>\n      <td>59</td>\n      <td>47</td>\n      <td>11</td>\n    </tr>\n    <tr>\n      <th>J</th>\n      <td>127</td>\n      <td>79</td>\n      <td>16</td>\n      <td>98</td>\n      <td>102</td>\n    </tr>\n  </tbody>\n</table>\n</div>"
     },
     "execution_count": 99,
     "metadata": {},
     "output_type": "execute_result"
    }
   ],
   "source": [
    "# 列合并\n",
    "pd.concat([df1, df3], axis=1)"
   ],
   "metadata": {
    "collapsed": false
   }
  },
  {
   "cell_type": "markdown",
   "source": [
    "### 2.2 插入"
   ],
   "metadata": {
    "collapsed": false
   }
  },
  {
   "cell_type": "code",
   "execution_count": 100,
   "outputs": [
    {
     "data": {
      "text/plain": "   Python  Java  PHP\nA      35   131  139\nB      24     1   21\nC     148    49  138\nD     117    59   68\nE      61   145   77\nF      98    67   28\nG     101   129  103\nH      82    61   72\nI     129   125   33\nJ      61   122   80",
      "text/html": "<div>\n<style scoped>\n    .dataframe tbody tr th:only-of-type {\n        vertical-align: middle;\n    }\n\n    .dataframe tbody tr th {\n        vertical-align: top;\n    }\n\n    .dataframe thead th {\n        text-align: right;\n    }\n</style>\n<table border=\"1\" class=\"dataframe\">\n  <thead>\n    <tr style=\"text-align: right;\">\n      <th></th>\n      <th>Python</th>\n      <th>Java</th>\n      <th>PHP</th>\n    </tr>\n  </thead>\n  <tbody>\n    <tr>\n      <th>A</th>\n      <td>35</td>\n      <td>131</td>\n      <td>139</td>\n    </tr>\n    <tr>\n      <th>B</th>\n      <td>24</td>\n      <td>1</td>\n      <td>21</td>\n    </tr>\n    <tr>\n      <th>C</th>\n      <td>148</td>\n      <td>49</td>\n      <td>138</td>\n    </tr>\n    <tr>\n      <th>D</th>\n      <td>117</td>\n      <td>59</td>\n      <td>68</td>\n    </tr>\n    <tr>\n      <th>E</th>\n      <td>61</td>\n      <td>145</td>\n      <td>77</td>\n    </tr>\n    <tr>\n      <th>F</th>\n      <td>98</td>\n      <td>67</td>\n      <td>28</td>\n    </tr>\n    <tr>\n      <th>G</th>\n      <td>101</td>\n      <td>129</td>\n      <td>103</td>\n    </tr>\n    <tr>\n      <th>H</th>\n      <td>82</td>\n      <td>61</td>\n      <td>72</td>\n    </tr>\n    <tr>\n      <th>I</th>\n      <td>129</td>\n      <td>125</td>\n      <td>33</td>\n    </tr>\n    <tr>\n      <th>J</th>\n      <td>61</td>\n      <td>122</td>\n      <td>80</td>\n    </tr>\n  </tbody>\n</table>\n</div>"
     },
     "execution_count": 100,
     "metadata": {},
     "output_type": "execute_result"
    }
   ],
   "source": [
    "df = pd.DataFrame(np.random.randint(0, 150, size=(10, 3)),\n",
    "                  index=list('ABCDEFGHIJ'),\n",
    "                  columns=['Python', 'Java', 'PHP'])\n",
    "df"
   ],
   "metadata": {
    "collapsed": false
   }
  },
  {
   "cell_type": "code",
   "execution_count": 101,
   "outputs": [
    {
     "data": {
      "text/plain": "   Kotlin  Python  Java  PHP\nA     100      35   131  139\nB     100      24     1   21\nC     100     148    49  138\nD     100     117    59   68\nE     100      61   145   77\nF     100      98    67   28\nG     100     101   129  103\nH     100      82    61   72\nI     100     129   125   33\nJ     100      61   122   80",
      "text/html": "<div>\n<style scoped>\n    .dataframe tbody tr th:only-of-type {\n        vertical-align: middle;\n    }\n\n    .dataframe tbody tr th {\n        vertical-align: top;\n    }\n\n    .dataframe thead th {\n        text-align: right;\n    }\n</style>\n<table border=\"1\" class=\"dataframe\">\n  <thead>\n    <tr style=\"text-align: right;\">\n      <th></th>\n      <th>Kotlin</th>\n      <th>Python</th>\n      <th>Java</th>\n      <th>PHP</th>\n    </tr>\n  </thead>\n  <tbody>\n    <tr>\n      <th>A</th>\n      <td>100</td>\n      <td>35</td>\n      <td>131</td>\n      <td>139</td>\n    </tr>\n    <tr>\n      <th>B</th>\n      <td>100</td>\n      <td>24</td>\n      <td>1</td>\n      <td>21</td>\n    </tr>\n    <tr>\n      <th>C</th>\n      <td>100</td>\n      <td>148</td>\n      <td>49</td>\n      <td>138</td>\n    </tr>\n    <tr>\n      <th>D</th>\n      <td>100</td>\n      <td>117</td>\n      <td>59</td>\n      <td>68</td>\n    </tr>\n    <tr>\n      <th>E</th>\n      <td>100</td>\n      <td>61</td>\n      <td>145</td>\n      <td>77</td>\n    </tr>\n    <tr>\n      <th>F</th>\n      <td>100</td>\n      <td>98</td>\n      <td>67</td>\n      <td>28</td>\n    </tr>\n    <tr>\n      <th>G</th>\n      <td>100</td>\n      <td>101</td>\n      <td>129</td>\n      <td>103</td>\n    </tr>\n    <tr>\n      <th>H</th>\n      <td>100</td>\n      <td>82</td>\n      <td>61</td>\n      <td>72</td>\n    </tr>\n    <tr>\n      <th>I</th>\n      <td>100</td>\n      <td>129</td>\n      <td>125</td>\n      <td>33</td>\n    </tr>\n    <tr>\n      <th>J</th>\n      <td>100</td>\n      <td>61</td>\n      <td>122</td>\n      <td>80</td>\n    </tr>\n  </tbody>\n</table>\n</div>"
     },
     "execution_count": 101,
     "metadata": {},
     "output_type": "execute_result"
    }
   ],
   "source": [
    "# 在索引为0的位置插入一列\n",
    "df.insert(0, 'Kotlin', 100)\n",
    "df"
   ],
   "metadata": {
    "collapsed": false
   }
  },
  {
   "cell_type": "code",
   "execution_count": 103,
   "outputs": [
    {
     "data": {
      "text/plain": "['Kotlin', 'Python', 'Java', 'PHP']"
     },
     "execution_count": 103,
     "metadata": {},
     "output_type": "execute_result"
    }
   ],
   "source": [
    "list(df.columns)"
   ],
   "metadata": {
    "collapsed": false
   }
  },
  {
   "cell_type": "code",
   "execution_count": 101,
   "outputs": [],
   "source": [],
   "metadata": {
    "collapsed": false
   }
  }
 ],
 "metadata": {
  "kernelspec": {
   "display_name": "Python 3",
   "language": "python",
   "name": "python3"
  },
  "language_info": {
   "codemirror_mode": {
    "name": "ipython",
    "version": 2
   },
   "file_extension": ".py",
   "mimetype": "text/x-python",
   "name": "python",
   "nbconvert_exporter": "python",
   "pygments_lexer": "ipython2",
   "version": "2.7.6"
  }
 },
 "nbformat": 4,
 "nbformat_minor": 0
}
