{
 "cells": [
  {
   "cell_type": "code",
   "execution_count": 2,
   "id": "6576a5ae-d067-45f9-a308-987b17caaf1e",
   "metadata": {
    "scrolled": true
   },
   "outputs": [
    {
     "data": {
      "text/plain": [
       "array([1, 2, 3, 4, 5])"
      ]
     },
     "execution_count": 2,
     "metadata": {},
     "output_type": "execute_result"
    }
   ],
   "source": [
    "import numpy as np\n",
    "l = [1,2,3,4,5]\n",
    "arr = np.array(l)\n",
    "arr"
   ]
  },
  {
   "cell_type": "code",
   "execution_count": 15,
   "id": "7b5903d6-5204-4dab-aa13-adcf93452adf",
   "metadata": {},
   "outputs": [
    {
     "name": "stdout",
     "output_type": "stream",
     "text": [
      "[2 3]\n"
     ]
    }
   ],
   "source": [
    "print(arr[[1,2]])"
   ]
  },
  {
   "cell_type": "code",
   "execution_count": 16,
   "id": "cb9a67cf-10e6-4957-b406-c0f46943a84b",
   "metadata": {},
   "outputs": [],
   "source": [
    "cond = arr > 2 # 筛选大于2的数据"
   ]
  },
  {
   "cell_type": "code",
   "execution_count": 17,
   "id": "cdcd9aac-068a-4fab-bb94-8183654503b7",
   "metadata": {},
   "outputs": [
    {
     "data": {
      "text/plain": [
       "array([3, 4, 5])"
      ]
     },
     "execution_count": 17,
     "metadata": {},
     "output_type": "execute_result"
    }
   ],
   "source": [
    "arr[cond]"
   ]
  },
  {
   "cell_type": "markdown",
   "id": "00c0db54-a065-44cc-a1c7-94ebd25ea1a8",
   "metadata": {},
   "source": [
    "## 其他创建方式"
   ]
  },
  {
   "cell_type": "code",
   "execution_count": 18,
   "id": "79a7b726-4f31-446a-a82d-15056ae4a653",
   "metadata": {},
   "outputs": [
    {
     "data": {
      "text/plain": [
       "array([1., 1., 1., 1., 1., 1., 1., 1., 1., 1.])"
      ]
     },
     "execution_count": 18,
     "metadata": {},
     "output_type": "execute_result"
    }
   ],
   "source": [
    "np.ones(shape = 10)"
   ]
  },
  {
   "cell_type": "code",
   "execution_count": 19,
   "id": "259e7ea4-bcbb-48ca-8421-c5aece1b0cde",
   "metadata": {},
   "outputs": [
    {
     "data": {
      "text/plain": [
       "array([0., 0., 0., 0., 0.])"
      ]
     },
     "execution_count": 19,
     "metadata": {},
     "output_type": "execute_result"
    }
   ],
   "source": [
    "np.zeros(shape=5)"
   ]
  },
  {
   "cell_type": "code",
   "execution_count": 20,
   "id": "72b4ce02-e19f-4817-b7b1-9dfdfcaac510",
   "metadata": {},
   "outputs": [
    {
     "data": {
      "text/plain": [
       "array([123, 123, 123, 123, 123, 123, 123, 123, 123, 123, 123, 123, 123,\n",
       "       123, 123, 123, 123, 123, 123, 123])"
      ]
     },
     "execution_count": 20,
     "metadata": {},
     "output_type": "execute_result"
    }
   ],
   "source": [
    "np.full(shape=20, fill_value=123\n",
    "    )"
   ]
  },
  {
   "cell_type": "code",
   "execution_count": 23,
   "id": "98718af6-3cbb-44fd-ac95-dc6c52e397aa",
   "metadata": {},
   "outputs": [
    {
     "data": {
      "text/plain": [
       "array([73, 93, 84, 30, 59, 97, 50, 20, 21, 57, 56, 38, 58, 88, 90,  1, 26,\n",
       "       89, 10, 17])"
      ]
     },
     "execution_count": 23,
     "metadata": {},
     "output_type": "execute_result"
    }
   ],
   "source": [
    "np.random.randint(0,100, size=20)"
   ]
  },
  {
   "cell_type": "code",
   "execution_count": 24,
   "id": "8fa66002-03ce-42bb-a33b-b737d6c10a39",
   "metadata": {},
   "outputs": [
    {
     "data": {
      "text/plain": [
       "array([ 0.48089386,  1.14570779, -0.99452659,  1.65446699,  0.41357645,\n",
       "       -0.95170634,  0.08070671,  0.34448619,  1.16187314, -0.52531897])"
      ]
     },
     "execution_count": 24,
     "metadata": {},
     "output_type": "execute_result"
    }
   ],
   "source": [
    "np.random.randn(10) # 正态分布，平均值是0，标准差是1"
   ]
  },
  {
   "cell_type": "code",
   "execution_count": 27,
   "id": "e381fb52-d214-43fc-8a9c-5b7b261d1a23",
   "metadata": {},
   "outputs": [
    {
     "data": {
      "text/plain": [
       "array([ 1.,  3.,  5.,  7.,  9., 11., 13., 15., 17., 19., 21., 23., 25.,\n",
       "       27., 29., 31., 33., 35., 37., 39., 41., 43., 45., 47., 49., 51.,\n",
       "       53., 55., 57., 59., 61., 63., 65., 67., 69., 71., 73., 75., 77.,\n",
       "       79., 81., 83., 85., 87., 89., 91., 93., 95., 97., 99.])"
      ]
     },
     "execution_count": 27,
     "metadata": {},
     "output_type": "execute_result"
    }
   ],
   "source": [
    "np.linspace(1, 99  ,50) # 等差数列"
   ]
  },
  {
   "cell_type": "code",
   "execution_count": 32,
   "id": "1d850c98-3526-4ad0-a922-8ca9df4f620d",
   "metadata": {},
   "outputs": [
    {
     "data": {
      "text/plain": [
       "array([    1.,     3.,     9.,    27.,    81.,   243.,   729.,  2187.,\n",
       "        6561., 19683., 59049.])"
      ]
     },
     "execution_count": 32,
     "metadata": {},
     "output_type": "execute_result"
    }
   ],
   "source": [
    "np.set_printoptions(suppress=True)\n",
    "np.logspace(0,10, base=3, num=11)\n",
    "# shift +  tab 查看参数"
   ]
  },
  {
   "cell_type": "code",
   "execution_count": 37,
   "id": "c0b8ef05-7813-4d92-8395-83598c5654d2",
   "metadata": {},
   "outputs": [
    {
     "data": {
      "text/plain": [
       "array([[1, 9],\n",
       "       [6, 9],\n",
       "       [5, 0]])"
      ]
     },
     "execution_count": 37,
     "metadata": {},
     "output_type": "execute_result"
    }
   ],
   "source": [
    "np.random.randint(0, 10, size = (3,2,))"
   ]
  },
  {
   "cell_type": "code",
   "execution_count": 38,
   "id": "c441549f-994d-4b3e-98fa-9f8cb09d484b",
   "metadata": {},
   "outputs": [
    {
     "data": {
      "text/plain": [
       "array([[[0, 1, 9],\n",
       "        [7, 5, 5]],\n",
       "\n",
       "       [[0, 5, 9],\n",
       "        [5, 3, 4]],\n",
       "\n",
       "       [[7, 6, 2],\n",
       "        [1, 4, 1]]])"
      ]
     },
     "execution_count": 38,
     "metadata": {},
     "output_type": "execute_result"
    }
   ],
   "source": [
    "np.random.randint(0, 10, size = (3,2,3))"
   ]
  },
  {
   "cell_type": "code",
   "execution_count": 39,
   "id": "1496e3da-812f-4bb6-8834-145a1763438a",
   "metadata": {},
   "outputs": [
    {
     "data": {
      "text/plain": [
       "array([0.90168442, 0.44784339, 0.37360455, 0.2142776 , 0.34416622,\n",
       "       0.25594691, 0.83779516, 0.92884621, 0.10356776, 0.95132329,\n",
       "       0.70396678, 0.04811042, 0.8155584 , 0.0983242 , 0.08794847,\n",
       "       0.68930411, 0.20486441, 0.51660442, 0.76732262, 0.68721401])"
      ]
     },
     "execution_count": 39,
     "metadata": {},
     "output_type": "execute_result"
    }
   ],
   "source": [
    "np.random.random(20 )"
   ]
  },
  {
   "cell_type": "markdown",
   "id": "b54e4116-2052-4685-8768-2504decd1e32",
   "metadata": {},
   "source": [
    "## 数据查看"
   ]
  },
  {
   "cell_type": "code",
   "execution_count": null,
   "id": "87b653d1-77d1-49b0-b483-3f71cdd02852",
   "metadata": {},
   "outputs": [],
   "source": [
    "arr = np.random.random(size=(3,5))"
   ]
  },
  {
   "cell_type": "code",
   "execution_count": null,
   "id": "0fc2d5af-26f1-4361-8977-cd049b323b46",
   "metadata": {},
   "outputs": [],
   "source": [
    "arr.shape # 数组的形状"
   ]
  },
  {
   "cell_type": "code",
   "execution_count": 5,
   "id": "ab71bf00-6426-46f8-ad25-8f4f625af1cf",
   "metadata": {},
   "outputs": [
    {
     "data": {
      "text/plain": [
       "dtype('float64')"
      ]
     },
     "execution_count": 5,
     "metadata": {},
     "output_type": "execute_result"
    }
   ],
   "source": [
    "arr.dtype"
   ]
  },
  {
   "cell_type": "code",
   "execution_count": 12,
   "id": "b1ffdf05-2a0b-4dbd-86ed-6f89d5a07734",
   "metadata": {},
   "outputs": [
    {
     "data": {
      "text/plain": [
       "15"
      ]
     },
     "execution_count": 12,
     "metadata": {},
     "output_type": "execute_result"
    }
   ],
   "source": [
    "arr.size # 数组的大小"
   ]
  },
  {
   "cell_type": "code",
   "execution_count": 8,
   "id": "4536142a-7d9c-499d-9d2e-dfc550b4f6c1",
   "metadata": {},
   "outputs": [
    {
     "data": {
      "text/plain": [
       "2"
      ]
     },
     "execution_count": 8,
     "metadata": {},
     "output_type": "execute_result"
    }
   ],
   "source": [
    "arr.ndim # 数组纬度"
   ]
  },
  {
   "cell_type": "code",
   "execution_count": 11,
   "id": "5ab40757-9702-4368-aa99-54052d233647",
   "metadata": {},
   "outputs": [
    {
     "data": {
      "text/plain": [
       "8"
      ]
     },
     "execution_count": 11,
     "metadata": {},
     "output_type": "execute_result"
    }
   ],
   "source": [
    "arr.itemsize # 每个元素的大小"
   ]
  },
  {
   "cell_type": "markdown",
   "id": "dd76819f-385c-4b1d-bc09-a16936cf3a0c",
   "metadata": {},
   "source": [
    "# 文件io"
   ]
  },
  {
   "cell_type": "markdown",
   "id": "b4878f42-6df2-4287-b59a-0d631544ff63",
   "metadata": {},
   "source": [
    "## 保存npy"
   ]
  },
  {
   "cell_type": "code",
   "execution_count": 18,
   "id": "c1bb5ad5-4539-4fa5-b974-5de135ef5557",
   "metadata": {
    "jp-MarkdownHeadingCollapsed": true
   },
   "outputs": [
    {
     "data": {
      "text/plain": [
       "array([0, 1, 2, 3, 4, 5, 6, 7, 8, 9])"
      ]
     },
     "execution_count": 18,
     "metadata": {},
     "output_type": "execute_result"
    }
   ],
   "source": [
    "arr = np.arange(0,10)\n",
    "arr"
   ]
  },
  {
   "cell_type": "code",
   "execution_count": 19,
   "id": "1fc8f4da-d0c3-4855-bed8-8ad50ed436d9",
   "metadata": {},
   "outputs": [
    {
     "data": {
      "text/plain": [
       "array([0, 3, 6, 9])"
      ]
     },
     "execution_count": 19,
     "metadata": {},
     "output_type": "execute_result"
    }
   ],
   "source": [
    "arr = np.arange(0,10, 3)\n",
    "arr"
   ]
  },
  {
   "cell_type": "code",
   "execution_count": 22,
   "id": "3e0523d3-7438-4135-a6b7-aa54a820f00c",
   "metadata": {},
   "outputs": [],
   "source": [
    "np.save('./data1', arr)"
   ]
  },
  {
   "cell_type": "code",
   "execution_count": 24,
   "id": "cd180d50-0da8-4b46-9ec0-67914f43f752",
   "metadata": {},
   "outputs": [
    {
     "data": {
      "text/plain": [
       "array([0, 3, 6, 9])"
      ]
     },
     "execution_count": 24,
     "metadata": {},
     "output_type": "execute_result"
    }
   ],
   "source": [
    "np.load('./data1.npy')"
   ]
  },
  {
   "cell_type": "markdown",
   "id": "b8d8966b-eff2-4082-b240-c2a8afc7a127",
   "metadata": {},
   "source": [
    "## 保存npz"
   ]
  },
  {
   "cell_type": "code",
   "execution_count": 25,
   "id": "37d9d498-4ce4-440f-a526-157e4e669c06",
   "metadata": {},
   "outputs": [],
   "source": [
    "arr2 = np.logspace(0,10,base=2,num=11)"
   ]
  },
  {
   "cell_type": "code",
   "execution_count": 26,
   "id": "45b9e301-a514-4742-9c35-44bc1c122de2",
   "metadata": {},
   "outputs": [],
   "source": [
    "np.savez('./data2',x=arr,y=arr2)"
   ]
  },
  {
   "cell_type": "code",
   "execution_count": 28,
   "id": "454964b2-f37f-4354-bcf5-92104bb36101",
   "metadata": {},
   "outputs": [],
   "source": [
    "data = np.load('./data2.npz')"
   ]
  },
  {
   "cell_type": "code",
   "execution_count": 30,
   "id": "9a25d889-e709-4dbe-b4c7-097690386864",
   "metadata": {},
   "outputs": [
    {
     "data": {
      "text/plain": [
       "array([0, 3, 6, 9])"
      ]
     },
     "execution_count": 30,
     "metadata": {},
     "output_type": "execute_result"
    }
   ],
   "source": [
    "data['x']"
   ]
  },
  {
   "cell_type": "code",
   "execution_count": 33,
   "id": "f1907d86-4d09-40a0-a9fe-b5e8ed63cc64",
   "metadata": {},
   "outputs": [
    {
     "data": {
      "text/plain": [
       "array([   1.,    2.,    4.,    8.,   16.,   32.,   64.,  128.,  256.,\n",
       "        512., 1024.])"
      ]
     },
     "execution_count": 33,
     "metadata": {},
     "output_type": "execute_result"
    }
   ],
   "source": [
    "data['y']"
   ]
  },
  {
   "cell_type": "markdown",
   "id": "6be334da-6271-4c2b-91bb-1d8c0b2fe6c9",
   "metadata": {},
   "source": [
    "## 数据类型"
   ]
  },
  {
   "cell_type": "code",
   "execution_count": 35,
   "id": "cb6d7025-aac1-4a56-85db-11928fa18a38",
   "metadata": {},
   "outputs": [],
   "source": [
    "arr = np.array([2,4,5,6], dtype=np.int32)"
   ]
  },
  {
   "cell_type": "code",
   "execution_count": 36,
   "id": "d8356af1-4a9e-4c63-8c5f-8d895fc5524e",
   "metadata": {},
   "outputs": [
    {
     "data": {
      "text/plain": [
       "array([2, 4, 5, 6])"
      ]
     },
     "execution_count": 36,
     "metadata": {},
     "output_type": "execute_result"
    }
   ],
   "source": [
    "arr"
   ]
  },
  {
   "cell_type": "code",
   "execution_count": 37,
   "id": "f6135660-e006-4d90-9cdc-cbfaa7fa52b9",
   "metadata": {},
   "outputs": [],
   "source": [
    "arr = np.random.randint(0, 100,size=(50,100), dtype= np.int32)"
   ]
  },
  {
   "cell_type": "code",
   "execution_count": 38,
   "id": "78c9e10e-8a41-4863-be7a-72f49ba2015c",
   "metadata": {},
   "outputs": [],
   "source": [
    "np.save('data3_in32', arr)"
   ]
  },
  {
   "cell_type": "code",
   "execution_count": 39,
   "id": "fd38cc19-e872-46e5-886f-5e49a8812099",
   "metadata": {},
   "outputs": [],
   "source": [
    "arr = np.random.randint(0, 100,size=(50,100), dtype= np.int64)"
   ]
  },
  {
   "cell_type": "code",
   "execution_count": 40,
   "id": "84d27c35-54a2-4908-8d42-b4daf7aff31b",
   "metadata": {},
   "outputs": [],
   "source": [
    "np.save('data3_in64', arr)"
   ]
  },
  {
   "cell_type": "code",
   "execution_count": 44,
   "id": "b7f7a125-8fd7-408c-abf9-6ddaf830131f",
   "metadata": {},
   "outputs": [
    {
     "data": {
      "text/plain": [
       "array([[95., 14., 90., ..., 45., 24., 84.],\n",
       "       [89., 36., 82., ..., 33., 48., 60.],\n",
       "       [49.,  8., 35., ..., 23., 93., 30.],\n",
       "       ...,\n",
       "       [82., 67.,  9., ..., 69., 96., 59.],\n",
       "       [68.,  4., 50., ..., 49., 24., 14.],\n",
       "       [30., 60., 17., ..., 63., 70., 72.]], dtype=float32)"
      ]
     },
     "execution_count": 44,
     "metadata": {},
     "output_type": "execute_result"
    }
   ],
   "source": [
    "# 类型转换\n",
    "arr1 = arr.astype(np.float32)\n",
    "arr1"
   ]
  },
  {
   "cell_type": "markdown",
   "id": "c0c05a91-0d7d-4c36-9e0d-64a80670d24e",
   "metadata": {},
   "source": [
    "# 7 数组运算"
   ]
  },
  {
   "cell_type": "code",
   "execution_count": 45,
   "id": "f6607199-825a-48a9-9371-ce83ce2d470f",
   "metadata": {},
   "outputs": [],
   "source": [
    "nd = np.random.randint(0,10,size=(3,5))"
   ]
  },
  {
   "cell_type": "code",
   "execution_count": 46,
   "id": "66ca0bd6-9ac7-4def-b11e-f85e6a04b7fd",
   "metadata": {},
   "outputs": [
    {
     "data": {
      "text/plain": [
       "array([[9, 5, 9, 3, 9],\n",
       "       [2, 8, 2, 7, 1],\n",
       "       [2, 9, 0, 9, 3]])"
      ]
     },
     "execution_count": 46,
     "metadata": {},
     "output_type": "execute_result"
    }
   ],
   "source": [
    "nd"
   ]
  },
  {
   "cell_type": "code",
   "execution_count": 47,
   "id": "81823191-1592-4ecf-99ab-0b3daa0e9117",
   "metadata": {},
   "outputs": [
    {
     "data": {
      "text/plain": [
       "array([[11,  7, 11,  5, 11],\n",
       "       [ 4, 10,  4,  9,  3],\n",
       "       [ 4, 11,  2, 11,  5]])"
      ]
     },
     "execution_count": 47,
     "metadata": {},
     "output_type": "execute_result"
    }
   ],
   "source": [
    "nd +2"
   ]
  },
  {
   "cell_type": "code",
   "execution_count": 49,
   "id": "15a35145-03f7-4bf6-8168-b6526d4acde2",
   "metadata": {},
   "outputs": [
    {
     "data": {
      "text/plain": [
       "array([[18, 10, 18,  6, 18],\n",
       "       [ 4, 16,  4, 14,  2],\n",
       "       [ 4, 18,  0, 18,  6]])"
      ]
     },
     "execution_count": 49,
     "metadata": {},
     "output_type": "execute_result"
    }
   ],
   "source": [
    "nd *2"
   ]
  },
  {
   "cell_type": "code",
   "execution_count": 50,
   "id": "f5a002e9-7b92-4a24-b14b-7084886d1498",
   "metadata": {},
   "outputs": [
    {
     "data": {
      "text/plain": [
       "array([[81, 25, 81,  9, 81],\n",
       "       [ 4, 64,  4, 49,  1],\n",
       "       [ 4, 81,  0, 81,  9]])"
      ]
     },
     "execution_count": 50,
     "metadata": {},
     "output_type": "execute_result"
    }
   ],
   "source": [
    "nd ** 2"
   ]
  },
  {
   "cell_type": "code",
   "execution_count": 51,
   "id": "d51d91d1-a012-476d-b5d2-082131b9accd",
   "metadata": {},
   "outputs": [
    {
     "data": {
      "text/plain": [
       "array([[729, 125, 729,  27, 729],\n",
       "       [  8, 512,   8, 343,   1],\n",
       "       [  8, 729,   0, 729,  27]], dtype=int32)"
      ]
     },
     "execution_count": 51,
     "metadata": {},
     "output_type": "execute_result"
    }
   ],
   "source": [
    "np.power(nd, 3)"
   ]
  },
  {
   "cell_type": "code",
   "execution_count": 52,
   "id": "0c527fc7-8a89-4e30-ae06-b5df4bdced3a",
   "metadata": {},
   "outputs": [
    {
     "data": {
      "text/plain": [
       "array([[4.5, 2.5, 4.5, 1.5, 4.5],\n",
       "       [1. , 4. , 1. , 3.5, 0.5],\n",
       "       [1. , 4.5, 0. , 4.5, 1.5]])"
      ]
     },
     "execution_count": 52,
     "metadata": {},
     "output_type": "execute_result"
    }
   ],
   "source": [
    "nd /2"
   ]
  },
  {
   "cell_type": "code",
   "execution_count": 53,
   "id": "29d1f531-c3a3-4f60-a848-51fdf51a6222",
   "metadata": {},
   "outputs": [
    {
     "data": {
      "text/plain": [
       "array([[1, 1, 1, 1, 1],\n",
       "       [0, 0, 0, 1, 1],\n",
       "       [0, 1, 0, 1, 1]], dtype=int32)"
      ]
     },
     "execution_count": 53,
     "metadata": {},
     "output_type": "execute_result"
    }
   ],
   "source": [
    "nd %2"
   ]
  },
  {
   "cell_type": "code",
   "execution_count": 54,
   "id": "4b3f03e6-193d-4d06-b530-b8dc7d87de68",
   "metadata": {},
   "outputs": [
    {
     "data": {
      "text/plain": [
       "array([[4, 2, 4, 1, 4],\n",
       "       [1, 4, 1, 3, 0],\n",
       "       [1, 4, 0, 4, 1]], dtype=int32)"
      ]
     },
     "execution_count": 54,
     "metadata": {},
     "output_type": "execute_result"
    }
   ],
   "source": [
    "nd // 2"
   ]
  },
  {
   "cell_type": "code",
   "execution_count": 55,
   "id": "379a4e68-121d-47f9-a5b9-cac6a5143590",
   "metadata": {},
   "outputs": [
    {
     "data": {
      "text/plain": [
       "array([[ True, False,  True, False,  True],\n",
       "       [False,  True, False,  True, False],\n",
       "       [False,  True, False,  True, False]])"
      ]
     },
     "execution_count": 55,
     "metadata": {},
     "output_type": "execute_result"
    }
   ],
   "source": [
    "nd > 5"
   ]
  },
  {
   "cell_type": "code",
   "execution_count": 58,
   "id": "f2f96319-bb6a-4f13-879f-02394c83753d",
   "metadata": {},
   "outputs": [
    {
     "data": {
      "text/plain": [
       "array([[False, False, False, False, False],\n",
       "       [ True, False,  True, False, False],\n",
       "       [ True, False, False, False, False]])"
      ]
     },
     "execution_count": 58,
     "metadata": {},
     "output_type": "execute_result"
    }
   ],
   "source": [
    "nd == 2"
   ]
  },
  {
   "cell_type": "code",
   "execution_count": 59,
   "id": "2c92887e-188b-41b6-b5f2-31f710203bbe",
   "metadata": {},
   "outputs": [],
   "source": [
    "nd += 100"
   ]
  },
  {
   "cell_type": "code",
   "execution_count": 60,
   "id": "5b889fe4-0007-4b9b-96c3-70bd17fee5af",
   "metadata": {},
   "outputs": [
    {
     "data": {
      "text/plain": [
       "array([[109, 105, 109, 103, 109],\n",
       "       [102, 108, 102, 107, 101],\n",
       "       [102, 109, 100, 109, 103]])"
      ]
     },
     "execution_count": 60,
     "metadata": {},
     "output_type": "execute_result"
    }
   ],
   "source": [
    "nd"
   ]
  },
  {
   "cell_type": "code",
   "execution_count": 61,
   "id": "689938d1-dae1-4964-b7a2-d96a77064393",
   "metadata": {},
   "outputs": [],
   "source": [
    "nd -= 100"
   ]
  },
  {
   "cell_type": "code",
   "execution_count": 62,
   "id": "1ac4e0fa-1aaf-4cd7-9d07-c1b81acf73fb",
   "metadata": {},
   "outputs": [
    {
     "data": {
      "text/plain": [
       "array([[9, 5, 9, 3, 9],\n",
       "       [2, 8, 2, 7, 1],\n",
       "       [2, 9, 0, 9, 3]])"
      ]
     },
     "execution_count": 62,
     "metadata": {},
     "output_type": "execute_result"
    }
   ],
   "source": [
    "nd"
   ]
  },
  {
   "cell_type": "code",
   "execution_count": 63,
   "id": "e7ac4f6b-1cc3-4d37-bbfd-b515d03e748b",
   "metadata": {},
   "outputs": [],
   "source": [
    "nd *= 100"
   ]
  },
  {
   "cell_type": "code",
   "execution_count": 64,
   "id": "e4b231e7-8159-40d7-a4e0-bbc1dbafeca2",
   "metadata": {},
   "outputs": [
    {
     "data": {
      "text/plain": [
       "array([[900, 500, 900, 300, 900],\n",
       "       [200, 800, 200, 700, 100],\n",
       "       [200, 900,   0, 900, 300]])"
      ]
     },
     "execution_count": 64,
     "metadata": {},
     "output_type": "execute_result"
    }
   ],
   "source": [
    "nd"
   ]
  },
  {
   "cell_type": "code",
   "execution_count": 66,
   "id": "7ed82d2c-efcd-43b4-bfae-c0332534b5fc",
   "metadata": {},
   "outputs": [],
   "source": [
    "nd //= 100"
   ]
  },
  {
   "cell_type": "code",
   "execution_count": 67,
   "id": "d09875df-4bd4-461e-aa04-ca510949ba68",
   "metadata": {},
   "outputs": [
    {
     "data": {
      "text/plain": [
       "array([[9, 5, 9, 3, 9],\n",
       "       [2, 8, 2, 7, 1],\n",
       "       [2, 9, 0, 9, 3]])"
      ]
     },
     "execution_count": 67,
     "metadata": {},
     "output_type": "execute_result"
    }
   ],
   "source": [
    "nd"
   ]
  },
  {
   "cell_type": "code",
   "execution_count": 70,
   "id": "0b2824d6-e318-473b-a63c-e19b5d9b9c63",
   "metadata": {},
   "outputs": [],
   "source": [
    "# nd /= 100 # 类型不同不支持"
   ]
  },
  {
   "cell_type": "markdown",
   "id": "28819341-dcf9-45ab-b7d1-8a0039e876fc",
   "metadata": {},
   "source": [
    "# 8 索引和切片"
   ]
  },
  {
   "cell_type": "markdown",
   "id": "90ed0355-ed1e-4105-9519-1ada86d17741",
   "metadata": {},
   "source": [
    "## 8.1一维数组"
   ]
  },
  {
   "cell_type": "code",
   "execution_count": 71,
   "id": "ad792ae1-62c9-4f45-86b1-9b6b2730d15b",
   "metadata": {},
   "outputs": [],
   "source": [
    "arr = np.random.randint(0, 100, size= 10)"
   ]
  },
  {
   "cell_type": "code",
   "execution_count": 72,
   "id": "6da66a5f-8fb3-4d2a-90c2-8849b980379a",
   "metadata": {},
   "outputs": [
    {
     "data": {
      "text/plain": [
       "array([ 3,  5, 99,  4, 67, 29, 76, 74, 46, 61])"
      ]
     },
     "execution_count": 72,
     "metadata": {},
     "output_type": "execute_result"
    }
   ],
   "source": [
    "arr"
   ]
  },
  {
   "cell_type": "code",
   "execution_count": 73,
   "id": "23796cbc-4d2f-4959-8747-bac0473302c7",
   "metadata": {},
   "outputs": [
    {
     "data": {
      "text/plain": [
       "array([ 5,  4, 29])"
      ]
     },
     "execution_count": 73,
     "metadata": {},
     "output_type": "execute_result"
    }
   ],
   "source": [
    "arr[[1,3,5]]"
   ]
  },
  {
   "cell_type": "code",
   "execution_count": 74,
   "id": "d46854d2-90e1-420f-be33-5d9fa1bd825c",
   "metadata": {},
   "outputs": [
    {
     "data": {
      "text/plain": [
       "array([ 4, 67, 29])"
      ]
     },
     "execution_count": 74,
     "metadata": {},
     "output_type": "execute_result"
    }
   ],
   "source": [
    "arr[3:6]"
   ]
  },
  {
   "cell_type": "code",
   "execution_count": 75,
   "id": "00453572-759a-4bcb-b45b-b5106ed44e3e",
   "metadata": {},
   "outputs": [
    {
     "data": {
      "text/plain": [
       "array([ 4, 29])"
      ]
     },
     "execution_count": 75,
     "metadata": {},
     "output_type": "execute_result"
    }
   ],
   "source": [
    "arr[3:6:2]"
   ]
  },
  {
   "cell_type": "code",
   "execution_count": 76,
   "id": "6b88803f-d2b1-49cc-a5a2-9d40af5653d6",
   "metadata": {},
   "outputs": [
    {
     "data": {
      "text/plain": [
       "array([ 3, 99, 67, 76, 46])"
      ]
     },
     "execution_count": 76,
     "metadata": {},
     "output_type": "execute_result"
    }
   ],
   "source": [
    "arr[::2]"
   ]
  },
  {
   "cell_type": "code",
   "execution_count": 77,
   "id": "9d41cb97-1227-4238-8eb8-5dc38d91d330",
   "metadata": {},
   "outputs": [
    {
     "data": {
      "text/plain": [
       "array([ 3,  5, 99,  4, 67, 29, 76, 74, 46, 61])"
      ]
     },
     "execution_count": 77,
     "metadata": {},
     "output_type": "execute_result"
    }
   ],
   "source": [
    "arr[::]"
   ]
  },
  {
   "cell_type": "code",
   "execution_count": 78,
   "id": "7c954de7-235f-45ee-9878-f01b04b8cabb",
   "metadata": {},
   "outputs": [
    {
     "data": {
      "text/plain": [
       "array([ 3,  5, 99,  4, 67, 29, 76, 74, 46, 61])"
      ]
     },
     "execution_count": 78,
     "metadata": {},
     "output_type": "execute_result"
    }
   ],
   "source": [
    "arr[:]"
   ]
  },
  {
   "cell_type": "code",
   "execution_count": 79,
   "id": "b9f48762-4212-40e5-8eb5-6dc6b8220a63",
   "metadata": {},
   "outputs": [
    {
     "data": {
      "text/plain": [
       "array([61, 74, 29,  4,  5])"
      ]
     },
     "execution_count": 79,
     "metadata": {},
     "output_type": "execute_result"
    }
   ],
   "source": [
    "arr[::-2]"
   ]
  },
  {
   "cell_type": "code",
   "execution_count": 80,
   "id": "42247336-1de9-4386-bffc-629b50ef4e4e",
   "metadata": {},
   "outputs": [
    {
     "data": {
      "text/plain": [
       "array([61, 46, 74, 76, 29, 67,  4, 99,  5,  3])"
      ]
     },
     "execution_count": 80,
     "metadata": {},
     "output_type": "execute_result"
    }
   ],
   "source": [
    "arr[::-1]"
   ]
  },
  {
   "cell_type": "markdown",
   "id": "d57b1df4-a771-4154-ad5d-2d3d1aa22614",
   "metadata": {},
   "source": [
    "## 二维"
   ]
  },
  {
   "cell_type": "code",
   "execution_count": 81,
   "id": "c88c3d72-5261-4dbf-bd7b-42e982f24eea",
   "metadata": {},
   "outputs": [],
   "source": [
    "arr2 = np.random.randint(0,100,size=(3,5))"
   ]
  },
  {
   "cell_type": "code",
   "execution_count": 82,
   "id": "39d4697f-986b-4e2c-8077-c624bf247113",
   "metadata": {},
   "outputs": [
    {
     "data": {
      "text/plain": [
       "array([[99, 56, 61, 59, 61],\n",
       "       [32, 63, 76, 31, 67],\n",
       "       [56, 69,  4, 32, 55]])"
      ]
     },
     "execution_count": 82,
     "metadata": {},
     "output_type": "execute_result"
    }
   ],
   "source": [
    "arr2"
   ]
  },
  {
   "cell_type": "code",
   "execution_count": 83,
   "id": "3481a79a-00d0-4624-99ed-355173f56880",
   "metadata": {},
   "outputs": [
    {
     "data": {
      "text/plain": [
       "61"
      ]
     },
     "execution_count": 83,
     "metadata": {},
     "output_type": "execute_result"
    }
   ],
   "source": [
    "arr2[0,2]"
   ]
  },
  {
   "cell_type": "code",
   "execution_count": 95,
   "id": "91341b27-1d62-42d2-84b4-b86dade3339b",
   "metadata": {},
   "outputs": [
    {
     "data": {
      "text/plain": [
       "array([63, 76])"
      ]
     },
     "execution_count": 95,
     "metadata": {},
     "output_type": "execute_result"
    }
   ],
   "source": [
    "arr2[1,[1,2]] # 第二行的2、3元素"
   ]
  },
  {
   "cell_type": "code",
   "execution_count": 94,
   "id": "4c22a8d6-2cdf-49b3-b769-53d86831124e",
   "metadata": {},
   "outputs": [
    {
     "data": {
      "text/plain": [
       "array([[32, 63, 76, 31, 67],\n",
       "       [56, 69,  4, 32, 55]])"
      ]
     },
     "execution_count": 94,
     "metadata": {},
     "output_type": "execute_result"
    }
   ],
   "source": [
    "arr2[[1,2], ] # 取行"
   ]
  },
  {
   "cell_type": "code",
   "execution_count": 88,
   "id": "36fb218e-251a-411a-b45e-49c3e07da2a9",
   "metadata": {},
   "outputs": [
    {
     "data": {
      "text/plain": [
       "array([76, 32])"
      ]
     },
     "execution_count": 88,
     "metadata": {},
     "output_type": "execute_result"
    }
   ],
   "source": [
    "arr2[[1,2], [2,3]]"
   ]
  },
  {
   "cell_type": "code",
   "execution_count": 93,
   "id": "c5e7f3f3-a09b-401e-8c3e-af7d9a319195",
   "metadata": {},
   "outputs": [
    {
     "data": {
      "text/plain": [
       "array([[31, 67],\n",
       "       [32, 55]])"
      ]
     },
     "execution_count": 93,
     "metadata": {},
     "output_type": "execute_result"
    }
   ],
   "source": [
    "arr2[[1,2], 3:] # 连续的列"
   ]
  },
  {
   "cell_type": "code",
   "execution_count": 92,
   "id": "cf0dd84b-610d-4476-91ce-654a32c2b901",
   "metadata": {},
   "outputs": [
    {
     "data": {
      "text/plain": [
       "array([[76, 67],\n",
       "       [ 4, 55]])"
      ]
     },
     "execution_count": 92,
     "metadata": {},
     "output_type": "execute_result"
    }
   ],
   "source": [
    "arr2[[1,2]][:,[2,4]] # 不连续的列\n"
   ]
  },
  {
   "cell_type": "code",
   "execution_count": 96,
   "id": "a2f7d42b-02d9-4a3c-90e5-315ed92551ee",
   "metadata": {},
   "outputs": [],
   "source": [
    "arr2[2,[2,3]] = 100 # 多重赋值"
   ]
  },
  {
   "cell_type": "code",
   "execution_count": 97,
   "id": "06d48d31-5c8e-47bc-b426-3255a9aa9489",
   "metadata": {},
   "outputs": [
    {
     "data": {
      "text/plain": [
       "array([[ 99,  56,  61,  59,  61],\n",
       "       [ 32,  63,  76,  31,  67],\n",
       "       [ 56,  69, 100, 100,  55]])"
      ]
     },
     "execution_count": 97,
     "metadata": {},
     "output_type": "execute_result"
    }
   ],
   "source": [
    "arr2"
   ]
  },
  {
   "cell_type": "markdown",
   "id": "9032d6d6-eb0e-4032-9557-29650ad24a77",
   "metadata": {},
   "source": [
    "## 花式索引"
   ]
  },
  {
   "cell_type": "code",
   "execution_count": 99,
   "id": "6693938c-4cb2-4f88-b5fd-254a016f5d27",
   "metadata": {},
   "outputs": [
    {
     "data": {
      "text/plain": [
       "array([25, 37,  0, 45, 94, 19, 61, 87, 49, 13, 43, 50, 64, 88, 23, 23, 53,\n",
       "       52, 81, 93])"
      ]
     },
     "execution_count": 99,
     "metadata": {},
     "output_type": "execute_result"
    }
   ],
   "source": [
    "arr = np.random.randint(0, 100, size=20)\n",
    "arr"
   ]
  },
  {
   "cell_type": "code",
   "execution_count": 100,
   "id": "b6741267-b283-4437-83cc-167a2b3a0f62",
   "metadata": {},
   "outputs": [
    {
     "data": {
      "text/plain": [
       "array([94, 61, 87, 64, 88, 81, 93])"
      ]
     },
     "execution_count": 100,
     "metadata": {},
     "output_type": "execute_result"
    }
   ],
   "source": [
    "arr[arr > 60] # 过滤>60的数据"
   ]
  },
  {
   "cell_type": "code",
   "execution_count": 108,
   "id": "517f52d0-d5d0-490f-8266-7fd46580cf7d",
   "metadata": {},
   "outputs": [
    {
     "data": {
      "text/plain": [
       "array([25,  0, 94, 19, 61, 87, 13, 64, 88, 23, 23, 81, 93])"
      ]
     },
     "execution_count": 108,
     "metadata": {},
     "output_type": "execute_result"
    }
   ],
   "source": [
    "arr[(arr > 60) | (arr < 30)] # 多个条件"
   ]
  },
  {
   "cell_type": "code",
   "execution_count": null,
   "id": "81ef3e8e-998d-4d74-b904-10718b5df501",
   "metadata": {
    "pycharm": {
     "is_executing": true
    }
   },
   "outputs": [],
   "source": [
    "arr = np.random.randint(0, 100, size=(5,5))\n",
    "arr"
   ]
  },
  {
   "cell_type": "code",
   "execution_count": 112,
   "id": "3c42ea3e-291f-44d3-ad97-433e9c9d9acc",
   "metadata": {},
   "outputs": [
    {
     "data": {
      "text/plain": [
       "array([[93,  3, 26,  7, 74],\n",
       "       [89, 77, 32,  2, 23],\n",
       "       [31, 45, 51,  3, 91],\n",
       "       [16, 21, 52, 83,  6],\n",
       "       [92, 52, 93, 27, 38]])"
      ]
     },
     "execution_count": 112,
     "metadata": {},
     "output_type": "execute_result"
    }
   ],
   "source": [
    "arr[np.argsort(arr[:,2])]"
   ]
  },
  {
   "cell_type": "code",
   "execution_count": 113,
   "id": "bfd43432-fe2b-4dab-bcfe-9ca213d6ec12",
   "metadata": {},
   "outputs": [
    {
     "data": {
      "text/plain": [
       "array([[3, 4, 2, 1, 0],\n",
       "       [3, 0, 1, 2, 4],\n",
       "       [4, 0, 1, 2, 3],\n",
       "       [1, 3, 2, 4, 0],\n",
       "       [3, 4, 1, 0, 2]], dtype=int64)"
      ]
     },
     "execution_count": 113,
     "metadata": {},
     "output_type": "execute_result"
    }
   ],
   "source": [
    "np.argsort(arr)"
   ]
  },
  {
   "cell_type": "code",
   "execution_count": 118,
   "id": "dd1bf4d8-f0f0-4ab2-bc16-166cebff82d0",
   "metadata": {},
   "outputs": [
    {
     "data": {
      "text/plain": [
       "array([3, 0, 1, 2, 4], dtype=int64)"
      ]
     },
     "execution_count": 118,
     "metadata": {},
     "output_type": "execute_result"
    }
   ],
   "source": [
    "arr[:,2].argsort()"
   ]
  },
  {
   "cell_type": "code",
   "execution_count": 119,
   "id": "a35da790-4629-482e-bb50-6d25619ab6bc",
   "metadata": {},
   "outputs": [
    {
     "data": {
      "text/plain": [
       "array([[93,  3, 26,  7, 74],\n",
       "       [89, 77, 32,  2, 23],\n",
       "       [31, 45, 51,  3, 91],\n",
       "       [16, 21, 52, 83,  6],\n",
       "       [92, 52, 93, 27, 38]])"
      ]
     },
     "execution_count": 119,
     "metadata": {},
     "output_type": "execute_result"
    }
   ],
   "source": [
    "arr[arr[:,2].argsort()]"
   ]
  },
  {
   "cell_type": "code",
   "execution_count": null,
   "id": "19785731-0314-4846-9963-d4d407520cfe",
   "metadata": {},
   "outputs": [],
   "source": []
  }
 ],
 "metadata": {
  "kernelspec": {
   "display_name": "Python 3 (ipykernel)",
   "language": "python",
   "name": "python3"
  },
  "language_info": {
   "codemirror_mode": {
    "name": "ipython",
    "version": 3
   },
   "file_extension": ".py",
   "mimetype": "text/x-python",
   "name": "python",
   "nbconvert_exporter": "python",
   "pygments_lexer": "ipython3",
   "version": "3.9.13"
  }
 },
 "nbformat": 4,
 "nbformat_minor": 5
}
