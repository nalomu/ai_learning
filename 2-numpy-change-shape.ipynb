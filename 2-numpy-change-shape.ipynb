{
 "cells": [
  {
   "cell_type": "markdown",
   "source": [
    "# 改变数据形状"
   ],
   "metadata": {
    "collapsed": false
   }
  },
  {
   "cell_type": "markdown",
   "metadata": {
    "jupyter": {
     "outputs_hidden": false
    }
   },
   "source": [
    "## 1 索引切片"
   ]
  },
  {
   "cell_type": "code",
   "execution_count": 2,
   "metadata": {
    "collapsed": false,
    "jupyter": {
     "outputs_hidden": false
    }
   },
   "outputs": [
    {
     "data": {
      "text/plain": "array([[ 7, -3,  9, 11, 10,  9],\n       [-3,  5, 10,  1, 13,  9],\n       [-2,  6,  5, -3, 10, -5],\n       [-3,  7, 13,  8, 13, 10],\n       [ 3, 13, -2, 14,  1,  5]])"
     },
     "execution_count": 2,
     "metadata": {},
     "output_type": "execute_result"
    }
   ],
   "source": [
    "import numpy as np\n",
    "nd2 = np.random.randint(-5,15, size=(5,6))\n",
    "nd2"
   ]
  },
  {
   "cell_type": "code",
   "execution_count": 3,
   "metadata": {
    "collapsed": false,
    "jupyter": {
     "outputs_hidden": false
    }
   },
   "outputs": [
    {
     "data": {
      "text/plain": "array([[-3,  5, 10,  1, 13,  9],\n       [-3,  7, 13,  8, 13, 10]])"
     },
     "execution_count": 3,
     "metadata": {},
     "output_type": "execute_result"
    }
   ],
   "source": [
    "nd2[[1,3]]"
   ]
  },
  {
   "cell_type": "code",
   "execution_count": 4,
   "metadata": {
    "collapsed": false,
    "jupyter": {
     "outputs_hidden": false
    }
   },
   "outputs": [
    {
     "data": {
      "text/plain": "array([[-3, 11,  9],\n       [ 5,  1,  9],\n       [ 6, -3, -5],\n       [ 7,  8, 10],\n       [13, 14,  5]])"
     },
     "execution_count": 4,
     "metadata": {},
     "output_type": "execute_result"
    }
   ],
   "source": [
    "nd2[:,[1,3,5]]"
   ]
  },
  {
   "cell_type": "code",
   "execution_count": 5,
   "metadata": {
    "collapsed": false,
    "jupyter": {
     "outputs_hidden": false
    }
   },
   "outputs": [
    {
     "data": {
      "text/plain": "array([[ 5,  1,  9],\n       [ 7,  8, 10]])"
     },
     "execution_count": 5,
     "metadata": {},
     "output_type": "execute_result"
    }
   ],
   "source": [
    "nd2[[1,3],][:,[1,3,5]] # 第2、4行，2，4，6列"
   ]
  },
  {
   "cell_type": "code",
   "execution_count": 11,
   "metadata": {
    "collapsed": false,
    "jupyter": {
     "outputs_hidden": false
    }
   },
   "outputs": [
    {
     "data": {
      "text/plain": "array([[ 5,  1,  9],\n       [ 7,  8, 10]])"
     },
     "execution_count": 11,
     "metadata": {},
     "output_type": "execute_result"
    }
   ],
   "source": [
    "nd2[np.ix_([1,3], [1,3,5])] # 跟上面等效"
   ]
  },
  {
   "cell_type": "markdown",
   "source": [],
   "metadata": {
    "collapsed": false
   }
  },
  {
   "cell_type": "markdown",
   "source": [
    "## 2 形状改变"
   ],
   "metadata": {
    "collapsed": false
   }
  },
  {
   "cell_type": "code",
   "execution_count": 13,
   "outputs": [
    {
     "data": {
      "text/plain": "array([[58, 68, 91, 90],\n       [67, 63,  6, 86],\n       [93, 65, 63, 50]])"
     },
     "metadata": {},
     "output_type": "display_data"
    }
   ],
   "source": [
    "nd2  = np.random.randint(0, 100 , size=(3,4)) # 三行四列的数据\n",
    "display(nd2)"
   ],
   "metadata": {
    "collapsed": false
   }
  },
  {
   "cell_type": "code",
   "execution_count": 17,
   "outputs": [
    {
     "ename": "ValueError",
     "evalue": "cannot reshape array of size 12 into shape (1,)",
     "output_type": "error",
     "traceback": [
      "\u001B[1;31m---------------------------------------------------------------------------\u001B[0m",
      "\u001B[1;31mValueError\u001B[0m                                Traceback (most recent call last)",
      "Cell \u001B[1;32mIn[17], line 1\u001B[0m\n\u001B[1;32m----> 1\u001B[0m \u001B[43mnd2\u001B[49m\u001B[38;5;241;43m.\u001B[39;49m\u001B[43mreshape\u001B[49m\u001B[43m(\u001B[49m\u001B[38;5;241;43m1\u001B[39;49m\u001B[43m)\u001B[49m\n",
      "\u001B[1;31mValueError\u001B[0m: cannot reshape array of size 12 into shape (1,)"
     ]
    }
   ],
   "source": [
    "nd2.reshape(4,3) # 改为 4行3列"
   ],
   "metadata": {
    "collapsed": false
   }
  },
  {
   "cell_type": "code",
   "execution_count": 19,
   "outputs": [
    {
     "data": {
      "text/plain": "array([[58, 68, 91, 90, 67, 63],\n       [ 6, 86, 93, 65, 63, 50]])"
     },
     "execution_count": 19,
     "metadata": {},
     "output_type": "execute_result"
    }
   ],
   "source": [
    "nd2.reshape(2,6) # 改为 2行6列"
   ],
   "metadata": {
    "collapsed": false
   }
  },
  {
   "cell_type": "code",
   "execution_count": 24,
   "outputs": [
    {
     "data": {
      "text/plain": "array([[58, 68, 91, 90, 67, 63],\n       [ 6, 86, 93, 65, 63, 50]])"
     },
     "execution_count": 24,
     "metadata": {},
     "output_type": "execute_result"
    }
   ],
   "source": [
    "nd2.reshape(-1,6) # -1表示占位符自动计算"
   ],
   "metadata": {
    "collapsed": false
   }
  },
  {
   "cell_type": "code",
   "execution_count": 26,
   "outputs": [
    {
     "data": {
      "text/plain": "array([58, 68, 91, 90, 67, 63,  6, 86, 93, 65, 63, 50])"
     },
     "execution_count": 26,
     "metadata": {},
     "output_type": "execute_result"
    }
   ],
   "source": [
    "nd2.reshape(-1) # 无参数的情况"
   ],
   "metadata": {
    "collapsed": false
   }
  },
  {
   "cell_type": "markdown",
   "source": [
    "## 2.2 数据叠加"
   ],
   "metadata": {
    "collapsed": false
   }
  },
  {
   "cell_type": "code",
   "execution_count": 34,
   "outputs": [
    {
     "data": {
      "text/plain": "array([[47, 56, 64, 76],\n       [ 9, 54, 13, 80]])"
     },
     "metadata": {},
     "output_type": "display_data"
    },
    {
     "data": {
      "text/plain": "array([[58, 20, 34, 34],\n       [46, 64, 83,  9],\n       [53, 88, 34, 17]])"
     },
     "metadata": {},
     "output_type": "display_data"
    }
   ],
   "source": [
    "arr1 = np.random.randint(0, 100, size=(2,4))\n",
    "arr2 = np.random.randint(0, 100, size=(3,4))\n",
    "display(arr1,arr2)"
   ],
   "metadata": {
    "collapsed": false
   }
  },
  {
   "cell_type": "code",
   "execution_count": 33,
   "outputs": [
    {
     "data": {
      "text/plain": "array([[89, 72, 19,  7],\n       [80, 11, 70, 14],\n       [17, 81, 28,  8],\n       [86, 70, 37, 13],\n       [77,  7, 83, 37],\n       [17, 81, 28,  8],\n       [86, 70, 37, 13],\n       [77,  7, 83, 37]])"
     },
     "execution_count": 33,
     "metadata": {},
     "output_type": "execute_result"
    }
   ],
   "source": [
    "np.concatenate((arr1, arr2,arr2), ) # 默认行合并"
   ],
   "metadata": {
    "collapsed": false
   }
  },
  {
   "cell_type": "code",
   "execution_count": 35,
   "outputs": [
    {
     "data": {
      "text/plain": "array([[20, 98, 43,  4],\n       [56, 90, 22, 98],\n       [26, 56, 30, 88]])"
     },
     "metadata": {},
     "output_type": "display_data"
    },
    {
     "data": {
      "text/plain": "array([[60, 42, 69, 24, 81],\n       [28, 82, 75,  6, 72],\n       [56, 45, 24, 52, 66]])"
     },
     "metadata": {},
     "output_type": "display_data"
    }
   ],
   "source": [
    "arr1 = np.random.randint(0, 100, size=(3,4))\n",
    "arr2 = np.random.randint(0, 100, size=(3,5))\n",
    "display(arr1,arr2)"
   ],
   "metadata": {
    "collapsed": false
   }
  },
  {
   "cell_type": "code",
   "execution_count": 39,
   "outputs": [
    {
     "data": {
      "text/plain": "array([[20, 98, 43,  4, 60, 42, 69, 24, 81],\n       [56, 90, 22, 98, 28, 82, 75,  6, 72],\n       [26, 56, 30, 88, 56, 45, 24, 52, 66]])"
     },
     "execution_count": 39,
     "metadata": {},
     "output_type": "execute_result"
    }
   ],
   "source": [
    "np.concatenate((arr1, arr2),axis=-1 ) # axis=1  列合并 axis：维度"
   ],
   "metadata": {
    "collapsed": false
   }
  },
  {
   "cell_type": "code",
   "execution_count": 40,
   "outputs": [
    {
     "data": {
      "text/plain": "array([[20, 98, 43,  4, 60, 42, 69, 24, 81],\n       [56, 90, 22, 98, 28, 82, 75,  6, 72],\n       [26, 56, 30, 88, 56, 45, 24, 52, 66]])"
     },
     "execution_count": 40,
     "metadata": {},
     "output_type": "execute_result"
    }
   ],
   "source": [
    "np.concatenate((arr1, arr2),axis=1 ) # axis=-1  最后一个纬度 axis：维度"
   ],
   "metadata": {
    "collapsed": false
   }
  },
  {
   "cell_type": "markdown",
   "source": [
    "## 2.3 数据拆分"
   ],
   "metadata": {
    "collapsed": false
   }
  },
  {
   "cell_type": "code",
   "execution_count": 43,
   "outputs": [
    {
     "data": {
      "text/plain": "array([[74, 63, 34, 63, 56, 16, 90, 88, 87],\n       [57, 37, 15, 82,  2,  2, 51, 86, 53],\n       [80, 27, 61,  5, 42, 97, 27, 84, 17],\n       [11, 62, 41, 93, 12, 31, 96, 37,  0],\n       [59, 65, 92, 33, 93, 96,  7, 98, 69],\n       [18,  2, 87, 58, 83, 17, 13, 59, 92]])"
     },
     "metadata": {},
     "output_type": "display_data"
    },
    {
     "data": {
      "text/plain": "[array([[74, 63, 34, 63, 56, 16, 90, 88, 87],\n        [57, 37, 15, 82,  2,  2, 51, 86, 53],\n        [80, 27, 61,  5, 42, 97, 27, 84, 17]]),\n array([[11, 62, 41, 93, 12, 31, 96, 37,  0],\n        [59, 65, 92, 33, 93, 96,  7, 98, 69],\n        [18,  2, 87, 58, 83, 17, 13, 59, 92]])]"
     },
     "execution_count": 43,
     "metadata": {},
     "output_type": "execute_result"
    }
   ],
   "source": [
    "nd = np.random.randint(0, 100, size=(6,9))\n",
    "display(nd)\n",
    "np.split(nd,2) # 平均拆分"
   ],
   "metadata": {
    "collapsed": false
   }
  },
  {
   "cell_type": "code",
   "execution_count": 55,
   "outputs": [
    {
     "data": {
      "text/plain": "array([[74, 63, 34, 63, 56, 16, 90, 88, 87],\n       [57, 37, 15, 82,  2,  2, 51, 86, 53],\n       [80, 27, 61,  5, 42, 97, 27, 84, 17],\n       [11, 62, 41, 93, 12, 31, 96, 37,  0],\n       [59, 65, 92, 33, 93, 96,  7, 98, 69],\n       [18,  2, 87, 58, 83, 17, 13, 59, 92]])"
     },
     "metadata": {},
     "output_type": "display_data"
    },
    {
     "data": {
      "text/plain": "[array([[74, 63, 34],\n        [57, 37, 15],\n        [80, 27, 61],\n        [11, 62, 41],\n        [59, 65, 92],\n        [18,  2, 87]]),\n array([[63, 56, 16],\n        [82,  2,  2],\n        [ 5, 42, 97],\n        [93, 12, 31],\n        [33, 93, 96],\n        [58, 83, 17]]),\n array([[90, 88, 87],\n        [51, 86, 53],\n        [27, 84, 17],\n        [96, 37,  0],\n        [ 7, 98, 69],\n        [13, 59, 92]])]"
     },
     "execution_count": 55,
     "metadata": {},
     "output_type": "execute_result"
    }
   ],
   "source": [
    "display(nd)\n",
    "np.split(nd,3,axis=-1) # 列拆分\n"
   ],
   "metadata": {
    "collapsed": false
   }
  },
  {
   "cell_type": "code",
   "execution_count": 56,
   "outputs": [
    {
     "data": {
      "text/plain": "[array([[74],\n        [57],\n        [80],\n        [11],\n        [59],\n        [18]]),\n array([[63, 34, 63],\n        [37, 15, 82],\n        [27, 61,  5],\n        [62, 41, 93],\n        [65, 92, 33],\n        [ 2, 87, 58]]),\n array([[56],\n        [ 2],\n        [42],\n        [12],\n        [93],\n        [83]]),\n array([[16, 90, 88, 87],\n        [ 2, 51, 86, 53],\n        [97, 27, 84, 17],\n        [31, 96, 37,  0],\n        [96,  7, 98, 69],\n        [17, 13, 59, 92]])]"
     },
     "execution_count": 56,
     "metadata": {},
     "output_type": "execute_result"
    }
   ],
   "source": [
    "np.split(nd,[1,4,5],axis=1) # 范围拆分"
   ],
   "metadata": {
    "collapsed": false
   }
  },
  {
   "cell_type": "markdown",
   "source": [
    "## 2.4数组转置"
   ],
   "metadata": {
    "collapsed": false
   }
  },
  {
   "cell_type": "code",
   "execution_count": 58,
   "outputs": [
    {
     "data": {
      "text/plain": "array([[30, 64, 86, 88],\n       [44, 68, 26, 61],\n       [63, 70, 88, 18]])"
     },
     "metadata": {},
     "output_type": "display_data"
    }
   ],
   "source": [
    "A  = np.random.randint(0, 100, size=(3,4))\n",
    "display(A)"
   ],
   "metadata": {
    "collapsed": false
   }
  },
  {
   "cell_type": "code",
   "execution_count": 60,
   "outputs": [
    {
     "data": {
      "text/plain": "array([[30, 64, 86],\n       [88, 44, 68],\n       [26, 61, 63],\n       [70, 88, 18]])"
     },
     "execution_count": 60,
     "metadata": {},
     "output_type": "execute_result"
    }
   ],
   "source": [
    "A.reshape(4,3)"
   ],
   "metadata": {
    "collapsed": false
   }
  },
  {
   "cell_type": "code",
   "execution_count": 61,
   "outputs": [
    {
     "data": {
      "text/plain": "array([[30, 44, 63],\n       [64, 68, 70],\n       [86, 26, 88],\n       [88, 61, 18]])"
     },
     "execution_count": 61,
     "metadata": {},
     "output_type": "execute_result"
    }
   ],
   "source": [
    "A.T"
   ],
   "metadata": {
    "collapsed": false
   }
  },
  {
   "cell_type": "code",
   "execution_count": 63,
   "outputs": [
    {
     "data": {
      "text/plain": "array([[30, 44, 63],\n       [64, 68, 70],\n       [86, 26, 88],\n       [88, 61, 18]])"
     },
     "execution_count": 63,
     "metadata": {},
     "output_type": "execute_result"
    }
   ],
   "source": [
    "np.transpose(A, axes=[1,0])"
   ],
   "metadata": {
    "collapsed": false
   }
  },
  {
   "cell_type": "markdown",
   "source": [
    "## 3.广播机制\n"
   ],
   "metadata": {
    "collapsed": false
   }
  },
  {
   "cell_type": "code",
   "execution_count": 67,
   "outputs": [
    {
     "data": {
      "text/plain": "array([[33, 98, 37],\n       [17, 63, 34],\n       [54, 57, 64],\n       [58, 88, 75],\n       [30, 21, 45]])"
     },
     "metadata": {},
     "output_type": "display_data"
    },
    {
     "data": {
      "text/plain": "array([1, 2, 3])"
     },
     "metadata": {},
     "output_type": "display_data"
    }
   ],
   "source": [
    "arr1 = np.random.randint(0, 100, size=(5,3))\n",
    "arr2 = np.arange(1,4)\n",
    "display(arr1,arr2)"
   ],
   "metadata": {
    "collapsed": false
   }
  },
  {
   "cell_type": "code",
   "execution_count": 68,
   "outputs": [
    {
     "data": {
      "text/plain": "array([[ 34, 100,  40],\n       [ 18,  65,  37],\n       [ 55,  59,  67],\n       [ 59,  90,  78],\n       [ 31,  23,  48]])"
     },
     "execution_count": 68,
     "metadata": {},
     "output_type": "execute_result"
    }
   ],
   "source": [
    "arr1+arr2"
   ],
   "metadata": {
    "collapsed": false
   }
  },
  {
   "cell_type": "code",
   "execution_count": null,
   "outputs": [],
   "source": [],
   "metadata": {
    "collapsed": false
   }
  }
 ],
 "metadata": {
  "kernelspec": {
   "display_name": "Python 3 (ipykernel)",
   "language": "python",
   "name": "python3"
  },
  "language_info": {
   "codemirror_mode": {
    "name": "ipython",
    "version": 3
   },
   "file_extension": ".py",
   "mimetype": "text/x-python",
   "name": "python",
   "nbconvert_exporter": "python",
   "pygments_lexer": "ipython3",
   "version": "3.9.13"
  }
 },
 "nbformat": 4,
 "nbformat_minor": 4
}
