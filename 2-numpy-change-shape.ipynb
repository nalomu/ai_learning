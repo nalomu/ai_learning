{
 "cells": [
  {
   "cell_type": "markdown",
   "source": [
    "# 改变数据形状"
   ],
   "metadata": {
    "collapsed": false
   }
  },
  {
   "cell_type": "markdown",
   "metadata": {
    "jupyter": {
     "outputs_hidden": false
    }
   },
   "source": [
    "## 1 索引切片"
   ]
  },
  {
   "cell_type": "code",
   "execution_count": 2,
   "metadata": {
    "collapsed": false,
    "jupyter": {
     "outputs_hidden": false
    }
   },
   "outputs": [
    {
     "data": {
      "text/plain": "array([[-3,  6,  2,  7, 10,  2],\n       [ 1,  1,  2,  6,  7, 11],\n       [ 1, -1,  8,  1,  6,  5],\n       [-5,  8, 13,  6,  7,  3],\n       [-4, -4, -3,  7,  2, 14]])"
     },
     "execution_count": 2,
     "metadata": {},
     "output_type": "execute_result"
    }
   ],
   "source": [
    "import numpy as np\n",
    "\n",
    "nd2 = np.random.randint(-5, 15, size=(5, 6))\n",
    "nd2"
   ]
  },
  {
   "cell_type": "code",
   "execution_count": 3,
   "metadata": {
    "collapsed": false,
    "jupyter": {
     "outputs_hidden": false
    }
   },
   "outputs": [
    {
     "data": {
      "text/plain": "array([[ 1,  1,  2,  6,  7, 11],\n       [-5,  8, 13,  6,  7,  3]])"
     },
     "execution_count": 3,
     "metadata": {},
     "output_type": "execute_result"
    }
   ],
   "source": [
    "nd2[[1, 3]]"
   ]
  },
  {
   "cell_type": "code",
   "execution_count": 4,
   "metadata": {
    "collapsed": false,
    "jupyter": {
     "outputs_hidden": false
    }
   },
   "outputs": [
    {
     "data": {
      "text/plain": "array([[ 6,  7,  2],\n       [ 1,  6, 11],\n       [-1,  1,  5],\n       [ 8,  6,  3],\n       [-4,  7, 14]])"
     },
     "execution_count": 4,
     "metadata": {},
     "output_type": "execute_result"
    }
   ],
   "source": [
    "nd2[:, [1, 3, 5]]"
   ]
  },
  {
   "cell_type": "code",
   "execution_count": 5,
   "metadata": {
    "collapsed": false,
    "jupyter": {
     "outputs_hidden": false
    }
   },
   "outputs": [
    {
     "data": {
      "text/plain": "array([[ 1,  6, 11],\n       [ 8,  6,  3]])"
     },
     "execution_count": 5,
     "metadata": {},
     "output_type": "execute_result"
    }
   ],
   "source": [
    "nd2[[1, 3],][:, [1, 3, 5]]  # 第2、4行，2，4，6列"
   ]
  },
  {
   "cell_type": "code",
   "execution_count": 6,
   "metadata": {
    "collapsed": false,
    "jupyter": {
     "outputs_hidden": false
    }
   },
   "outputs": [
    {
     "data": {
      "text/plain": "array([[ 1,  6, 11],\n       [ 8,  6,  3]])"
     },
     "execution_count": 6,
     "metadata": {},
     "output_type": "execute_result"
    }
   ],
   "source": [
    "nd2[np.ix_([1, 3], [1, 3, 5])]  # 跟上面等效"
   ]
  },
  {
   "cell_type": "markdown",
   "source": [],
   "metadata": {
    "collapsed": false
   }
  },
  {
   "cell_type": "markdown",
   "source": [
    "## 2 形状改变"
   ],
   "metadata": {
    "collapsed": false
   }
  },
  {
   "cell_type": "code",
   "execution_count": 7,
   "outputs": [
    {
     "data": {
      "text/plain": "array([[ 3,  5, 98, 62],\n       [17,  0, 54, 74],\n       [ 4, 36, 98, 65]])"
     },
     "metadata": {},
     "output_type": "display_data"
    }
   ],
   "source": [
    "nd2 = np.random.randint(0, 100, size=(3, 4))  # 三行四列的数据\n",
    "display(nd2)"
   ],
   "metadata": {
    "collapsed": false
   }
  },
  {
   "cell_type": "code",
   "execution_count": 8,
   "outputs": [
    {
     "data": {
      "text/plain": "array([[ 3,  5, 98],\n       [62, 17,  0],\n       [54, 74,  4],\n       [36, 98, 65]])"
     },
     "execution_count": 8,
     "metadata": {},
     "output_type": "execute_result"
    }
   ],
   "source": [
    "nd2.reshape(4, 3)  # 改为 4行3列"
   ],
   "metadata": {
    "collapsed": false
   }
  },
  {
   "cell_type": "code",
   "execution_count": 9,
   "outputs": [
    {
     "data": {
      "text/plain": "array([[ 3,  5, 98, 62, 17,  0],\n       [54, 74,  4, 36, 98, 65]])"
     },
     "execution_count": 9,
     "metadata": {},
     "output_type": "execute_result"
    }
   ],
   "source": [
    "nd2.reshape(2, 6)  # 改为 2行6列"
   ],
   "metadata": {
    "collapsed": false
   }
  },
  {
   "cell_type": "code",
   "execution_count": 10,
   "outputs": [
    {
     "data": {
      "text/plain": "array([[ 3,  5, 98, 62, 17,  0],\n       [54, 74,  4, 36, 98, 65]])"
     },
     "execution_count": 10,
     "metadata": {},
     "output_type": "execute_result"
    }
   ],
   "source": [
    "nd2.reshape(-1, 6)  # -1表示占位符自动计算"
   ],
   "metadata": {
    "collapsed": false
   }
  },
  {
   "cell_type": "code",
   "execution_count": 11,
   "outputs": [
    {
     "data": {
      "text/plain": "array([ 3,  5, 98, 62, 17,  0, 54, 74,  4, 36, 98, 65])"
     },
     "execution_count": 11,
     "metadata": {},
     "output_type": "execute_result"
    }
   ],
   "source": [
    "nd2.reshape(-1)  # 无参数的情况"
   ],
   "metadata": {
    "collapsed": false
   }
  },
  {
   "cell_type": "markdown",
   "source": [
    "### 2.2 数据叠加"
   ],
   "metadata": {
    "collapsed": false
   }
  },
  {
   "cell_type": "code",
   "execution_count": 12,
   "outputs": [
    {
     "data": {
      "text/plain": "array([[79, 63,  9, 38],\n       [34, 72, 22, 23]])"
     },
     "metadata": {},
     "output_type": "display_data"
    },
    {
     "data": {
      "text/plain": "array([[84, 81, 18, 81],\n       [92,  0, 10, 23],\n       [ 0, 83, 34,  3]])"
     },
     "metadata": {},
     "output_type": "display_data"
    }
   ],
   "source": [
    "arr1 = np.random.randint(0, 100, size=(2, 4))\n",
    "arr2 = np.random.randint(0, 100, size=(3, 4))\n",
    "display(arr1, arr2)"
   ],
   "metadata": {
    "collapsed": false
   }
  },
  {
   "cell_type": "code",
   "execution_count": 13,
   "outputs": [
    {
     "data": {
      "text/plain": "array([[79, 63,  9, 38],\n       [34, 72, 22, 23],\n       [84, 81, 18, 81],\n       [92,  0, 10, 23],\n       [ 0, 83, 34,  3],\n       [84, 81, 18, 81],\n       [92,  0, 10, 23],\n       [ 0, 83, 34,  3]])"
     },
     "execution_count": 13,
     "metadata": {},
     "output_type": "execute_result"
    }
   ],
   "source": [
    "np.concatenate((arr1, arr2, arr2), )  # 默认行合并"
   ],
   "metadata": {
    "collapsed": false
   }
  },
  {
   "cell_type": "code",
   "execution_count": 14,
   "outputs": [
    {
     "data": {
      "text/plain": "array([[ 9, 33, 37, 92],\n       [92, 52, 74, 32],\n       [31, 67, 38, 39]])"
     },
     "metadata": {},
     "output_type": "display_data"
    },
    {
     "data": {
      "text/plain": "array([[43, 83, 28, 96,  5],\n       [52, 11, 12, 78,  3],\n       [31, 91, 13, 47, 43]])"
     },
     "metadata": {},
     "output_type": "display_data"
    }
   ],
   "source": [
    "arr1 = np.random.randint(0, 100, size=(3, 4))\n",
    "arr2 = np.random.randint(0, 100, size=(3, 5))\n",
    "display(arr1, arr2)"
   ],
   "metadata": {
    "collapsed": false
   }
  },
  {
   "cell_type": "code",
   "execution_count": 15,
   "outputs": [
    {
     "data": {
      "text/plain": "array([[ 9, 33, 37, 92, 43, 83, 28, 96,  5],\n       [92, 52, 74, 32, 52, 11, 12, 78,  3],\n       [31, 67, 38, 39, 31, 91, 13, 47, 43]])"
     },
     "execution_count": 15,
     "metadata": {},
     "output_type": "execute_result"
    }
   ],
   "source": [
    "np.concatenate((arr1, arr2), axis=-1)  # axis=1  列合并 axis：维度"
   ],
   "metadata": {
    "collapsed": false
   }
  },
  {
   "cell_type": "code",
   "execution_count": 16,
   "outputs": [
    {
     "data": {
      "text/plain": "array([[ 9, 33, 37, 92, 43, 83, 28, 96,  5],\n       [92, 52, 74, 32, 52, 11, 12, 78,  3],\n       [31, 67, 38, 39, 31, 91, 13, 47, 43]])"
     },
     "execution_count": 16,
     "metadata": {},
     "output_type": "execute_result"
    }
   ],
   "source": [
    "np.concatenate((arr1, arr2), axis=1)  # axis=-1  最后一个纬度 axis：维度"
   ],
   "metadata": {
    "collapsed": false
   }
  },
  {
   "cell_type": "markdown",
   "source": [
    "### 2.3 数据拆分"
   ],
   "metadata": {
    "collapsed": false
   }
  },
  {
   "cell_type": "code",
   "execution_count": 17,
   "outputs": [
    {
     "data": {
      "text/plain": "array([[86, 85, 37,  1, 65, 50, 39, 77, 16],\n       [67, 85,  2, 53, 93, 42, 22, 42, 15],\n       [88, 11,  7,  8, 31, 94, 91, 90, 98],\n       [13, 61, 87, 79, 80, 61, 36, 65, 91],\n       [19, 26, 89,  7,  3, 72, 53, 23, 39],\n       [21, 99, 81, 86, 62, 84, 69, 87, 77]])"
     },
     "metadata": {},
     "output_type": "display_data"
    },
    {
     "data": {
      "text/plain": "[array([[86, 85, 37,  1, 65, 50, 39, 77, 16],\n        [67, 85,  2, 53, 93, 42, 22, 42, 15],\n        [88, 11,  7,  8, 31, 94, 91, 90, 98]]),\n array([[13, 61, 87, 79, 80, 61, 36, 65, 91],\n        [19, 26, 89,  7,  3, 72, 53, 23, 39],\n        [21, 99, 81, 86, 62, 84, 69, 87, 77]])]"
     },
     "execution_count": 17,
     "metadata": {},
     "output_type": "execute_result"
    }
   ],
   "source": [
    "nd = np.random.randint(0, 100, size=(6, 9))\n",
    "display(nd)\n",
    "np.split(nd, 2)  # 平均拆分 默认行拆分"
   ],
   "metadata": {
    "collapsed": false
   }
  },
  {
   "cell_type": "code",
   "execution_count": 18,
   "outputs": [
    {
     "data": {
      "text/plain": "array([[86, 85, 37,  1, 65, 50, 39, 77, 16],\n       [67, 85,  2, 53, 93, 42, 22, 42, 15],\n       [88, 11,  7,  8, 31, 94, 91, 90, 98],\n       [13, 61, 87, 79, 80, 61, 36, 65, 91],\n       [19, 26, 89,  7,  3, 72, 53, 23, 39],\n       [21, 99, 81, 86, 62, 84, 69, 87, 77]])"
     },
     "metadata": {},
     "output_type": "display_data"
    },
    {
     "data": {
      "text/plain": "[array([[86, 85, 37],\n        [67, 85,  2],\n        [88, 11,  7],\n        [13, 61, 87],\n        [19, 26, 89],\n        [21, 99, 81]]),\n array([[ 1, 65, 50],\n        [53, 93, 42],\n        [ 8, 31, 94],\n        [79, 80, 61],\n        [ 7,  3, 72],\n        [86, 62, 84]]),\n array([[39, 77, 16],\n        [22, 42, 15],\n        [91, 90, 98],\n        [36, 65, 91],\n        [53, 23, 39],\n        [69, 87, 77]])]"
     },
     "execution_count": 18,
     "metadata": {},
     "output_type": "execute_result"
    }
   ],
   "source": [
    "display(nd)\n",
    "np.split(nd, 3, axis=-1)  # 列拆分\n"
   ],
   "metadata": {
    "collapsed": false
   }
  },
  {
   "cell_type": "code",
   "execution_count": 19,
   "outputs": [
    {
     "data": {
      "text/plain": "[array([[86],\n        [67],\n        [88],\n        [13],\n        [19],\n        [21]]),\n array([[85, 37,  1],\n        [85,  2, 53],\n        [11,  7,  8],\n        [61, 87, 79],\n        [26, 89,  7],\n        [99, 81, 86]]),\n array([[65],\n        [93],\n        [31],\n        [80],\n        [ 3],\n        [62]]),\n array([[50, 39, 77, 16],\n        [42, 22, 42, 15],\n        [94, 91, 90, 98],\n        [61, 36, 65, 91],\n        [72, 53, 23, 39],\n        [84, 69, 87, 77]])]"
     },
     "execution_count": 19,
     "metadata": {},
     "output_type": "execute_result"
    }
   ],
   "source": [
    "np.split(nd, [1, 4, 5], axis=1)  # 范围拆分"
   ],
   "metadata": {
    "collapsed": false
   }
  },
  {
   "cell_type": "markdown",
   "source": [
    "### 2.4数组转置"
   ],
   "metadata": {
    "collapsed": false
   }
  },
  {
   "cell_type": "code",
   "execution_count": 20,
   "outputs": [
    {
     "data": {
      "text/plain": "array([[44, 77, 40, 10],\n       [85, 10,  4, 86],\n       [95, 89,  3, 42]])"
     },
     "metadata": {},
     "output_type": "display_data"
    }
   ],
   "source": [
    "A = np.random.randint(0, 100, size=(3, 4))\n",
    "display(A)"
   ],
   "metadata": {
    "collapsed": false
   }
  },
  {
   "cell_type": "code",
   "execution_count": 21,
   "outputs": [
    {
     "data": {
      "text/plain": "array([[44, 77, 40],\n       [10, 85, 10],\n       [ 4, 86, 95],\n       [89,  3, 42]])"
     },
     "execution_count": 21,
     "metadata": {},
     "output_type": "execute_result"
    }
   ],
   "source": [
    "A.reshape(4, 3)"
   ],
   "metadata": {
    "collapsed": false
   }
  },
  {
   "cell_type": "code",
   "execution_count": 22,
   "outputs": [
    {
     "data": {
      "text/plain": "array([[44, 85, 95],\n       [77, 10, 89],\n       [40,  4,  3],\n       [10, 86, 42]])"
     },
     "execution_count": 22,
     "metadata": {},
     "output_type": "execute_result"
    }
   ],
   "source": [
    "A.T"
   ],
   "metadata": {
    "collapsed": false
   }
  },
  {
   "cell_type": "code",
   "execution_count": 23,
   "outputs": [
    {
     "data": {
      "text/plain": "array([[44, 85, 95],\n       [77, 10, 89],\n       [40,  4,  3],\n       [10, 86, 42]])"
     },
     "execution_count": 23,
     "metadata": {},
     "output_type": "execute_result"
    }
   ],
   "source": [
    "np.transpose(A, axes=[1, 0])"
   ],
   "metadata": {
    "collapsed": false
   }
  },
  {
   "cell_type": "markdown",
   "source": [
    "## 3.广播机制\n"
   ],
   "metadata": {
    "collapsed": false
   }
  },
  {
   "cell_type": "code",
   "execution_count": 24,
   "outputs": [
    {
     "data": {
      "text/plain": "array([[79, 90, 21],\n       [29,  5, 77],\n       [84, 73, 26],\n       [55, 81,  2],\n       [69,  4, 29]])"
     },
     "metadata": {},
     "output_type": "display_data"
    },
    {
     "data": {
      "text/plain": "array([1, 2, 3])"
     },
     "metadata": {},
     "output_type": "display_data"
    }
   ],
   "source": [
    "arr1 = np.random.randint(0, 100, size=(5, 3))\n",
    "arr2 = np.arange(1, 4)\n",
    "display(arr1, arr2)"
   ],
   "metadata": {
    "collapsed": false
   }
  },
  {
   "cell_type": "code",
   "execution_count": 25,
   "outputs": [
    {
     "data": {
      "text/plain": "array([[80, 92, 24],\n       [30,  7, 80],\n       [85, 75, 29],\n       [56, 83,  5],\n       [70,  6, 32]])"
     },
     "execution_count": 25,
     "metadata": {},
     "output_type": "execute_result"
    }
   ],
   "source": [
    "arr1 + arr2"
   ],
   "metadata": {
    "collapsed": false
   }
  },
  {
   "cell_type": "code",
   "execution_count": 26,
   "outputs": [
    {
     "data": {
      "text/plain": "array([[7, 0, 8, 7, 9],\n       [3, 6, 2, 0, 3],\n       [0, 6, 0, 2, 0],\n       [3, 4, 2, 7, 1]])"
     },
     "metadata": {},
     "output_type": "display_data"
    },
    {
     "data": {
      "text/plain": "array([6.2, 2.8, 1.6, 3.4])"
     },
     "metadata": {},
     "output_type": "display_data"
    },
    {
     "data": {
      "text/plain": "array([[6.2],\n       [2.8],\n       [1.6],\n       [3.4]])"
     },
     "metadata": {},
     "output_type": "display_data"
    },
    {
     "data": {
      "text/plain": "array([[ 0.8, -6.2,  1.8,  0.8,  2.8],\n       [ 0.2,  3.2, -0.8, -2.8,  0.2],\n       [-1.6,  4.4, -1.6,  0.4, -1.6],\n       [-0.4,  0.6, -1.4,  3.6, -2.4]])"
     },
     "execution_count": 26,
     "metadata": {},
     "output_type": "execute_result"
    }
   ],
   "source": [
    "arr3 = np.random.randint(0, 10, size=(4, 5))\n",
    "# arr4是 arr3每行的平均值\n",
    "arr4 = arr3.mean(axis=1)\n",
    "\n",
    "# 4行1列\n",
    "display(arr3, arr4)\n",
    "\n",
    "# 转为4行1列\n",
    "display(arr4.reshape(4, 1))\n",
    "\n",
    "# 通过广播机制\n",
    "arr3 - arr4.reshape(4, 1)"
   ],
   "metadata": {
    "collapsed": false
   }
  },
  {
   "cell_type": "code",
   "execution_count": 27,
   "outputs": [
    {
     "data": {
      "text/plain": "array([[[0, 1],\n        [2, 3],\n        [4, 5],\n        [6, 7]],\n\n       [[0, 1],\n        [2, 3],\n        [4, 5],\n        [6, 7]],\n\n       [[0, 1],\n        [2, 3],\n        [4, 5],\n        [6, 7]]])"
     },
     "metadata": {},
     "output_type": "display_data"
    },
    {
     "data": {
      "text/plain": "array([[0, 1],\n       [2, 3],\n       [4, 5],\n       [6, 7]])"
     },
     "metadata": {},
     "output_type": "display_data"
    },
    {
     "data": {
      "text/plain": "array([[[ 0,  2],\n        [ 4,  6],\n        [ 8, 10],\n        [12, 14]],\n\n       [[ 0,  2],\n        [ 4,  6],\n        [ 8, 10],\n        [12, 14]],\n\n       [[ 0,  2],\n        [ 4,  6],\n        [ 8, 10],\n        [12, 14]]])"
     },
     "execution_count": 27,
     "metadata": {},
     "output_type": "execute_result"
    }
   ],
   "source": [
    "arr1 = np.array([0, 1, 2, 3, 4, 5, 6, 7] * 3).reshape(3, 4, 2)\n",
    "arr2 = np.array([0, 1, 2, 3, 4, 5, 6, 7]).reshape(4, 2)\n",
    "display(arr1, arr2)\n",
    "arr3 = arr1 + arr2\n",
    "arr3"
   ],
   "metadata": {
    "collapsed": false
   }
  },
  {
   "cell_type": "markdown",
   "source": [
    "### 8 通用函数"
   ],
   "metadata": {
    "collapsed": false
   }
  },
  {
   "cell_type": "code",
   "execution_count": 28,
   "outputs": [
    {
     "data": {
      "text/plain": "1.0"
     },
     "execution_count": 28,
     "metadata": {},
     "output_type": "execute_result"
    }
   ],
   "source": [
    "np.sin(np.pi / 2)  # sin(2/pi rad) = 1 即90°"
   ],
   "metadata": {
    "collapsed": false
   }
  },
  {
   "cell_type": "code",
   "execution_count": 29,
   "outputs": [
    {
     "data": {
      "text/plain": "0.0"
     },
     "execution_count": 29,
     "metadata": {},
     "output_type": "execute_result"
    }
   ],
   "source": [
    "np.cos(np.pi / 2).round(10)  # cos(2/pi rad) = 0 即90°"
   ],
   "metadata": {
    "collapsed": false
   }
  },
  {
   "cell_type": "code",
   "execution_count": 30,
   "outputs": [
    {
     "data": {
      "text/plain": "32.0"
     },
     "execution_count": 30,
     "metadata": {},
     "output_type": "execute_result"
    }
   ],
   "source": [
    "np.sqrt(1024, )"
   ],
   "metadata": {
    "collapsed": false
   }
  },
  {
   "cell_type": "code",
   "execution_count": 31,
   "outputs": [
    {
     "data": {
      "text/plain": "2.0"
     },
     "execution_count": 31,
     "metadata": {},
     "output_type": "execute_result"
    }
   ],
   "source": [
    "np.power(8, 1 / 3)  # 开三次方就是 8^1/3"
   ],
   "metadata": {
    "collapsed": false
   }
  },
  {
   "cell_type": "code",
   "execution_count": 32,
   "outputs": [
    {
     "data": {
      "text/plain": "array([[ 1,  4],\n       [ 9, 16]])"
     },
     "execution_count": 32,
     "metadata": {},
     "output_type": "execute_result"
    }
   ],
   "source": [
    "np.square(np.random.randint(0, 10, size=(2, 2)))  # 平方"
   ],
   "metadata": {
    "collapsed": false
   }
  },
  {
   "cell_type": "code",
   "execution_count": 33,
   "outputs": [
    {
     "data": {
      "text/plain": "2.0"
     },
     "execution_count": 33,
     "metadata": {},
     "output_type": "execute_result"
    }
   ],
   "source": [
    "8 ** (1 / 3)  # 开方"
   ],
   "metadata": {
    "collapsed": false
   }
  },
  {
   "cell_type": "code",
   "execution_count": 34,
   "outputs": [
    {
     "data": {
      "text/plain": "4.0"
     },
     "execution_count": 34,
     "metadata": {},
     "output_type": "execute_result"
    }
   ],
   "source": [
    "np.log10(10000)"
   ],
   "metadata": {
    "collapsed": false
   }
  },
  {
   "cell_type": "code",
   "execution_count": 35,
   "outputs": [
    {
     "data": {
      "text/plain": "array([8, 6, 3, 3, 1, 2, 8, 0, 4, 7])"
     },
     "metadata": {},
     "output_type": "display_data"
    },
    {
     "data": {
      "text/plain": "array([8, 5, 0, 1, 2, 0, 8, 1, 0, 0])"
     },
     "metadata": {},
     "output_type": "display_data"
    },
    {
     "data": {
      "text/plain": "array([8, 6, 3, 3, 2, 2, 8, 1, 4, 7])"
     },
     "execution_count": 35,
     "metadata": {},
     "output_type": "execute_result"
    }
   ],
   "source": [
    "x = np.random.randint(0, 10, size=10)\n",
    "y = np.random.randint(0, 10, size=10)\n",
    "display(x, y)\n",
    "np.maximum(x, y)  # 取两个数组中每个元素的最大值合并为一个数组"
   ],
   "metadata": {
    "collapsed": false
   }
  },
  {
   "cell_type": "code",
   "execution_count": 36,
   "outputs": [
    {
     "data": {
      "text/plain": "array([8, 6])"
     },
     "metadata": {},
     "output_type": "display_data"
    },
    {
     "data": {
      "text/plain": "array([[8, 6],\n       [2, 9]])"
     },
     "metadata": {},
     "output_type": "display_data"
    },
    {
     "data": {
      "text/plain": "array([100,  70])"
     },
     "execution_count": 36,
     "metadata": {},
     "output_type": "execute_result"
    }
   ],
   "source": [
    "arr2 = np.random.randint(0, 10, size=(2, 2))\n",
    "display(arr2[0], arr2)\n",
    "np.inner(arr2[0], arr2)  # 向量内积"
   ],
   "metadata": {
    "collapsed": false
   }
  },
  {
   "cell_type": "code",
   "execution_count": 37,
   "outputs": [
    {
     "data": {
      "text/plain": "array([76, 62, 33,  1, 85, 30, 91,  4, 73, 56,  8, 76, 86, 57,  0, 15, 75,\n        4, 96, 42])"
     },
     "execution_count": 37,
     "metadata": {},
     "output_type": "execute_result"
    }
   ],
   "source": [
    "arr = np.random.randint(0, 100, size=20)\n",
    "arr"
   ],
   "metadata": {
    "collapsed": false
   }
  },
  {
   "cell_type": "code",
   "execution_count": 38,
   "outputs": [
    {
     "data": {
      "text/plain": "array([20, 20, 20, 10, 20, 20, 20, 10, 20, 20, 10, 20, 20, 20, 10, 15, 20,\n       10, 20, 20])"
     },
     "execution_count": 38,
     "metadata": {},
     "output_type": "execute_result"
    }
   ],
   "source": [
    "np.clip(arr, 10, 20)  # 裁剪， <10的转为10， >20的转为20"
   ],
   "metadata": {
    "collapsed": false
   }
  },
  {
   "cell_type": "code",
   "execution_count": 39,
   "outputs": [
    {
     "data": {
      "text/plain": "array([1, 4, 6, 7, 9])"
     },
     "execution_count": 39,
     "metadata": {},
     "output_type": "execute_result"
    }
   ],
   "source": [
    "arr1 = np.array([1, 3, 5, 7, 9])\n",
    "arr2 = np.array([2, 4, 6, 8, 10])\n",
    "cond = np.array([True, False, False, True, True])\n",
    "np.where(cond, arr1, arr2)  # 取满足条件的元素, cond是条件， 为True选择arr1, 为False选择arr2"
   ],
   "metadata": {
    "collapsed": false
   }
  },
  {
   "cell_type": "code",
   "execution_count": 40,
   "outputs": [
    {
     "data": {
      "text/plain": "array([ 0, 15, 23,  3, 11,  2,  5, 13,  2, 19,  2, 18,  7, 10,  2, 18, 19,\n        7, 13, 26])"
     },
     "metadata": {},
     "output_type": "display_data"
    },
    {
     "data": {
      "text/plain": "array([10, 15, 23, 10, 11, 10, 10, 13, 10, 19, 10, 18, 10, 10, 10, 18, 19,\n       10, 13, 26])"
     },
     "execution_count": 40,
     "metadata": {},
     "output_type": "execute_result"
    }
   ],
   "source": [
    "arr3 = np.random.randint(0, 30, size=20)\n",
    "display(arr3)\n",
    "np.where(arr3 > 10, arr3, 10)  # 将小于10的数据设置为10"
   ],
   "metadata": {
    "collapsed": false,
    "pycharm": {
     "name": "#%%n\n"
    }
   }
  },
  {
   "cell_type": "code",
   "execution_count": 41,
   "outputs": [
    {
     "data": {
      "text/plain": "array([ -1, 116, 123, 112,  65,  60,  24,  39, 123,  -8,  64,  80, 126,\n        24, 104, 108, 177,  41, 144,  53, 169,  99,   3,  99,  54,  73,\n        65,  11,   0,  36, 158, 117,  28,  19, 118, 103, 171, 105, 107,\n       179, 174,  42, 152, -10, 172,   9, 175,  98,  25,  99])"
     },
     "metadata": {},
     "output_type": "display_data"
    },
    {
     "data": {
      "text/plain": "array([ -1, 116, 123, 112,  65,  60,  24,  39, 123,  -1,  64,  80, 126,\n        24, 104, 108,  -1,  41, 144,  53,  -1,  99,   3,  99,  54,  73,\n        65,  11,   0,  36,  -1, 117,  28,  19, 118, 103,  -1, 105, 107,\n        -1,  -1,  42,  -1,  -1,  -1,   9,  -1,  98,  25,  99])"
     },
     "execution_count": 41,
     "metadata": {},
     "output_type": "execute_result"
    }
   ],
   "source": [
    "arr4 = np.random.randint(-10, 180, size=50)\n",
    "display(arr4)\n",
    "np.where((arr4 < 0) | (arr4 > 150), -1, arr4)"
   ],
   "metadata": {
    "collapsed": false
   }
  },
  {
   "cell_type": "code",
   "execution_count": 42,
   "outputs": [
    {
     "data": {
      "text/plain": "array([1, 6, 7, 5])"
     },
     "metadata": {},
     "output_type": "display_data"
    },
    {
     "data": {
      "text/plain": "array([9, 0, 8, 7])"
     },
     "metadata": {},
     "output_type": "display_data"
    },
    {
     "data": {
      "text/plain": "array([7])"
     },
     "metadata": {},
     "output_type": "display_data"
    },
    {
     "data": {
      "text/plain": "array([0, 1, 5, 6, 7, 8, 9])"
     },
     "metadata": {},
     "output_type": "display_data"
    },
    {
     "data": {
      "text/plain": "array([1, 5, 6])"
     },
     "metadata": {},
     "output_type": "display_data"
    }
   ],
   "source": [
    "arr1 = np.random.randint(0, 10, size=4)\n",
    "arr2 = np.random.randint(0, 10, size=4)\n",
    "display(arr1, arr2)\n",
    "display(np.intersect1d(arr1, arr2))  # 交集\n",
    "display(np.union1d(arr1, arr2))  # 并集\n",
    "display(np.setdiff1d(arr1, arr2))  # 差集"
   ],
   "metadata": {
    "collapsed": false
   }
  },
  {
   "cell_type": "code",
   "execution_count": 43,
   "outputs": [
    {
     "data": {
      "text/plain": "array([42, 33, 41, 63, 72, 98,  3, 43, 15, 26])"
     },
     "metadata": {},
     "output_type": "display_data"
    },
    {
     "name": "stdout",
     "output_type": "stream",
     "text": [
      "最小值: 3\n",
      "取最大值索引: 5\n",
      "取大于20的数据索引: [[0]\n",
      " [1]\n",
      " [2]\n",
      " [3]\n",
      " [4]\n",
      " [5]\n",
      " [7]\n",
      " [9]]\n",
      "累加和: [ 42  75 116 179 251 349 352 395 410 436]\n"
     ]
    },
    {
     "data": {
      "text/plain": "array([[18, 95, 97,  5, 48],\n       [40, 26, 41, 46, 12],\n       [27, 30, 86, 18, 91],\n       [46, 88, 48, 33, 51]])"
     },
     "metadata": {},
     "output_type": "display_data"
    },
    {
     "name": "stdout",
     "output_type": "stream",
     "text": [
      "列平均: [32.75 59.75 68.   25.5  50.5 ]\n",
      "行平均: [52.6 33.  50.4 53.2]\n",
      "协方差: [[1813.3  -176.5   720.2   616.35]\n",
      " [-176.5   193.   -252.5  -138.  ]\n",
      " [ 720.2  -252.5  1232.3   -40.35]\n",
      " [ 616.35 -138.    -40.35  425.7 ]]\n",
      "相关性: [[ 1.         -0.29835356  0.48179253  0.70152111]\n",
      " [-0.29835356  1.         -0.51775524 -0.48144714]\n",
      " [ 0.48179253 -0.51775524  1.         -0.05571004]\n",
      " [ 0.70152111 -0.48144714 -0.05571004  1.        ]]\n"
     ]
    }
   ],
   "source": [
    "arr1 = np.random.randint(0, 100, size=10)\n",
    "display(arr1)\n",
    "print('最小值:', arr1.min())  # 最小值\n",
    "print('取最大值索引:', arr1.argmax())  # 取最大值索引\n",
    "print('取大于20的数据索引:', np.argwhere(arr1 > 20))  # 取大于20的数据索引\n",
    "print('累加和:', np.cumsum(arr1))  # 累加和\n",
    "arr2 = np.random.randint(0, 100, size=(4, 5))\n",
    "display(arr2)\n",
    "print('列平均:', arr2.mean(axis=0))  #列平均\n",
    "print('行平均:', arr2.mean(axis=1))  # 行平均\n",
    "print('协方差:', np.cov(arr2, rowvar=True))  # 协方差矩阵\n",
    "print('相关性:', np.corrcoef(arr2, rowvar=True))  # 相关性系数"
   ],
   "metadata": {
    "collapsed": false
   }
  },
  {
   "cell_type": "markdown",
   "source": [
    "# 9.线性代数"
   ],
   "metadata": {
    "collapsed": false
   }
  },
  {
   "cell_type": "code",
   "execution_count": 44,
   "outputs": [
    {
     "data": {
      "text/plain": "array([[74, 51, 23],\n       [68, 79, 33]])"
     },
     "metadata": {},
     "output_type": "display_data"
    },
    {
     "data": {
      "text/plain": "array([[41, 30],\n       [62, 45],\n       [47, 19]])"
     },
     "metadata": {},
     "output_type": "display_data"
    }
   ],
   "source": [
    "A = np.random.randint(0, 100, size=(2, 3))\n",
    "B = np.random.randint(0, 100, size=(3, 2))\n",
    "display(A, B)"
   ],
   "metadata": {
    "collapsed": false
   }
  },
  {
   "cell_type": "code",
   "execution_count": 45,
   "outputs": [
    {
     "data": {
      "text/plain": "array([[7277, 4952],\n       [9237, 6222]])"
     },
     "execution_count": 45,
     "metadata": {},
     "output_type": "execute_result"
    }
   ],
   "source": [
    "np.dot(A, B)  # 矩阵乘法"
   ],
   "metadata": {
    "collapsed": false
   }
  },
  {
   "cell_type": "code",
   "execution_count": 46,
   "outputs": [
    {
     "data": {
      "text/plain": "array([[7277, 4952],\n       [9237, 6222]])"
     },
     "execution_count": 46,
     "metadata": {},
     "output_type": "execute_result"
    }
   ],
   "source": [
    "A @ B  # 同样"
   ],
   "metadata": {
    "collapsed": false
   }
  },
  {
   "cell_type": "code",
   "execution_count": 47,
   "outputs": [
    {
     "data": {
      "text/plain": "array([[1, 2, 3],\n       [2, 3, 4],\n       [4, 5, 8]])"
     },
     "metadata": {},
     "output_type": "display_data"
    },
    {
     "data": {
      "text/plain": "array([[-2. ,  0.5,  0.5],\n       [ 0. ,  2. , -1. ],\n       [ 1. , -1.5,  0.5]])"
     },
     "metadata": {},
     "output_type": "display_data"
    },
    {
     "data": {
      "text/plain": "array([[ 1.,  0., -0.],\n       [ 0.,  1.,  0.],\n       [ 0., -0.,  1.]])"
     },
     "execution_count": 47,
     "metadata": {},
     "output_type": "execute_result"
    }
   ],
   "source": [
    "np.set_printoptions(suppress=True)\n",
    "from numpy.linalg import inv, det, eig, qr, svd\n",
    "\n",
    "A = np.array([[1, 2, 3],\n",
    "              [2, 3, 4],\n",
    "              [4, 5, 8]])\n",
    "b = inv(A)  # 逆矩阵\n",
    "display(A, b)\n",
    "A.dot(b)  # 矩阵乘"
   ],
   "metadata": {
    "collapsed": false
   }
  },
  {
   "cell_type": "code",
   "execution_count": 48,
   "outputs": [
    {
     "data": {
      "text/plain": "-2.0000000000000004"
     },
     "execution_count": 48,
     "metadata": {},
     "output_type": "execute_result"
    }
   ],
   "source": [
    "det(A)  # 行列式"
   ],
   "metadata": {
    "collapsed": false
   }
  },
  {
   "cell_type": "code",
   "execution_count": 50,
   "outputs": [
    {
     "ename": "ValueError",
     "evalue": "could not convert string 'setosa' to float64 at row 0, column 5.",
     "output_type": "error",
     "traceback": [
      "\u001B[1;31m---------------------------------------------------------------------------\u001B[0m",
      "\u001B[1;31mValueError\u001B[0m                                Traceback (most recent call last)",
      "\u001B[1;31mValueError\u001B[0m: could not convert string to float: 'setosa'",
      "\nThe above exception was the direct cause of the following exception:\n",
      "\u001B[1;31mValueError\u001B[0m                                Traceback (most recent call last)",
      "Cell \u001B[1;32mIn[50], line 1\u001B[0m\n\u001B[1;32m----> 1\u001B[0m data \u001B[38;5;241m=\u001B[39m \u001B[43mnp\u001B[49m\u001B[38;5;241;43m.\u001B[39;49m\u001B[43mloadtxt\u001B[49m\u001B[43m(\u001B[49m\u001B[38;5;124;43m'\u001B[39;49m\u001B[38;5;124;43m./iris.csv\u001B[39;49m\u001B[38;5;124;43m'\u001B[39;49m\u001B[43m,\u001B[49m\u001B[43m \u001B[49m\u001B[43mdelimiter\u001B[49m\u001B[38;5;241;43m=\u001B[39;49m\u001B[38;5;124;43m'\u001B[39;49m\u001B[38;5;124;43m,\u001B[39;49m\u001B[38;5;124;43m'\u001B[39;49m\u001B[43m)\u001B[49m\n",
      "File \u001B[1;32mD:\\python\\AloT\\venv\\lib\\site-packages\\numpy\\lib\\npyio.py:1373\u001B[0m, in \u001B[0;36mloadtxt\u001B[1;34m(fname, dtype, comments, delimiter, converters, skiprows, usecols, unpack, ndmin, encoding, max_rows, quotechar, like)\u001B[0m\n\u001B[0;32m   1370\u001B[0m \u001B[38;5;28;01mif\u001B[39;00m \u001B[38;5;28misinstance\u001B[39m(delimiter, \u001B[38;5;28mbytes\u001B[39m):\n\u001B[0;32m   1371\u001B[0m     delimiter \u001B[38;5;241m=\u001B[39m delimiter\u001B[38;5;241m.\u001B[39mdecode(\u001B[38;5;124m'\u001B[39m\u001B[38;5;124mlatin1\u001B[39m\u001B[38;5;124m'\u001B[39m)\n\u001B[1;32m-> 1373\u001B[0m arr \u001B[38;5;241m=\u001B[39m \u001B[43m_read\u001B[49m\u001B[43m(\u001B[49m\u001B[43mfname\u001B[49m\u001B[43m,\u001B[49m\u001B[43m \u001B[49m\u001B[43mdtype\u001B[49m\u001B[38;5;241;43m=\u001B[39;49m\u001B[43mdtype\u001B[49m\u001B[43m,\u001B[49m\u001B[43m \u001B[49m\u001B[43mcomment\u001B[49m\u001B[38;5;241;43m=\u001B[39;49m\u001B[43mcomment\u001B[49m\u001B[43m,\u001B[49m\u001B[43m \u001B[49m\u001B[43mdelimiter\u001B[49m\u001B[38;5;241;43m=\u001B[39;49m\u001B[43mdelimiter\u001B[49m\u001B[43m,\u001B[49m\n\u001B[0;32m   1374\u001B[0m \u001B[43m            \u001B[49m\u001B[43mconverters\u001B[49m\u001B[38;5;241;43m=\u001B[39;49m\u001B[43mconverters\u001B[49m\u001B[43m,\u001B[49m\u001B[43m \u001B[49m\u001B[43mskiplines\u001B[49m\u001B[38;5;241;43m=\u001B[39;49m\u001B[43mskiprows\u001B[49m\u001B[43m,\u001B[49m\u001B[43m \u001B[49m\u001B[43musecols\u001B[49m\u001B[38;5;241;43m=\u001B[39;49m\u001B[43musecols\u001B[49m\u001B[43m,\u001B[49m\n\u001B[0;32m   1375\u001B[0m \u001B[43m            \u001B[49m\u001B[43munpack\u001B[49m\u001B[38;5;241;43m=\u001B[39;49m\u001B[43munpack\u001B[49m\u001B[43m,\u001B[49m\u001B[43m \u001B[49m\u001B[43mndmin\u001B[49m\u001B[38;5;241;43m=\u001B[39;49m\u001B[43mndmin\u001B[49m\u001B[43m,\u001B[49m\u001B[43m \u001B[49m\u001B[43mencoding\u001B[49m\u001B[38;5;241;43m=\u001B[39;49m\u001B[43mencoding\u001B[49m\u001B[43m,\u001B[49m\n\u001B[0;32m   1376\u001B[0m \u001B[43m            \u001B[49m\u001B[43mmax_rows\u001B[49m\u001B[38;5;241;43m=\u001B[39;49m\u001B[43mmax_rows\u001B[49m\u001B[43m,\u001B[49m\u001B[43m \u001B[49m\u001B[43mquote\u001B[49m\u001B[38;5;241;43m=\u001B[39;49m\u001B[43mquotechar\u001B[49m\u001B[43m)\u001B[49m\n\u001B[0;32m   1378\u001B[0m \u001B[38;5;28;01mreturn\u001B[39;00m arr\n",
      "File \u001B[1;32mD:\\python\\AloT\\venv\\lib\\site-packages\\numpy\\lib\\npyio.py:1016\u001B[0m, in \u001B[0;36m_read\u001B[1;34m(fname, delimiter, comment, quote, imaginary_unit, usecols, skiplines, max_rows, converters, ndmin, unpack, dtype, encoding)\u001B[0m\n\u001B[0;32m   1013\u001B[0m     data \u001B[38;5;241m=\u001B[39m _preprocess_comments(data, comments, encoding)\n\u001B[0;32m   1015\u001B[0m \u001B[38;5;28;01mif\u001B[39;00m read_dtype_via_object_chunks \u001B[38;5;129;01mis\u001B[39;00m \u001B[38;5;28;01mNone\u001B[39;00m:\n\u001B[1;32m-> 1016\u001B[0m     arr \u001B[38;5;241m=\u001B[39m \u001B[43m_load_from_filelike\u001B[49m\u001B[43m(\u001B[49m\n\u001B[0;32m   1017\u001B[0m \u001B[43m        \u001B[49m\u001B[43mdata\u001B[49m\u001B[43m,\u001B[49m\u001B[43m \u001B[49m\u001B[43mdelimiter\u001B[49m\u001B[38;5;241;43m=\u001B[39;49m\u001B[43mdelimiter\u001B[49m\u001B[43m,\u001B[49m\u001B[43m \u001B[49m\u001B[43mcomment\u001B[49m\u001B[38;5;241;43m=\u001B[39;49m\u001B[43mcomment\u001B[49m\u001B[43m,\u001B[49m\u001B[43m \u001B[49m\u001B[43mquote\u001B[49m\u001B[38;5;241;43m=\u001B[39;49m\u001B[43mquote\u001B[49m\u001B[43m,\u001B[49m\n\u001B[0;32m   1018\u001B[0m \u001B[43m        \u001B[49m\u001B[43mimaginary_unit\u001B[49m\u001B[38;5;241;43m=\u001B[39;49m\u001B[43mimaginary_unit\u001B[49m\u001B[43m,\u001B[49m\n\u001B[0;32m   1019\u001B[0m \u001B[43m        \u001B[49m\u001B[43musecols\u001B[49m\u001B[38;5;241;43m=\u001B[39;49m\u001B[43musecols\u001B[49m\u001B[43m,\u001B[49m\u001B[43m \u001B[49m\u001B[43mskiplines\u001B[49m\u001B[38;5;241;43m=\u001B[39;49m\u001B[43mskiplines\u001B[49m\u001B[43m,\u001B[49m\u001B[43m \u001B[49m\u001B[43mmax_rows\u001B[49m\u001B[38;5;241;43m=\u001B[39;49m\u001B[43mmax_rows\u001B[49m\u001B[43m,\u001B[49m\n\u001B[0;32m   1020\u001B[0m \u001B[43m        \u001B[49m\u001B[43mconverters\u001B[49m\u001B[38;5;241;43m=\u001B[39;49m\u001B[43mconverters\u001B[49m\u001B[43m,\u001B[49m\u001B[43m \u001B[49m\u001B[43mdtype\u001B[49m\u001B[38;5;241;43m=\u001B[39;49m\u001B[43mdtype\u001B[49m\u001B[43m,\u001B[49m\n\u001B[0;32m   1021\u001B[0m \u001B[43m        \u001B[49m\u001B[43mencoding\u001B[49m\u001B[38;5;241;43m=\u001B[39;49m\u001B[43mencoding\u001B[49m\u001B[43m,\u001B[49m\u001B[43m \u001B[49m\u001B[43mfilelike\u001B[49m\u001B[38;5;241;43m=\u001B[39;49m\u001B[43mfilelike\u001B[49m\u001B[43m,\u001B[49m\n\u001B[0;32m   1022\u001B[0m \u001B[43m        \u001B[49m\u001B[43mbyte_converters\u001B[49m\u001B[38;5;241;43m=\u001B[39;49m\u001B[43mbyte_converters\u001B[49m\u001B[43m)\u001B[49m\n\u001B[0;32m   1024\u001B[0m \u001B[38;5;28;01melse\u001B[39;00m:\n\u001B[0;32m   1025\u001B[0m     \u001B[38;5;66;03m# This branch reads the file into chunks of object arrays and then\u001B[39;00m\n\u001B[0;32m   1026\u001B[0m     \u001B[38;5;66;03m# casts them to the desired actual dtype.  This ensures correct\u001B[39;00m\n\u001B[0;32m   1027\u001B[0m     \u001B[38;5;66;03m# string-length and datetime-unit discovery (like `arr.astype()`).\u001B[39;00m\n\u001B[0;32m   1028\u001B[0m     \u001B[38;5;66;03m# Due to chunking, certain error reports are less clear, currently.\u001B[39;00m\n\u001B[0;32m   1029\u001B[0m     \u001B[38;5;28;01mif\u001B[39;00m filelike:\n",
      "\u001B[1;31mValueError\u001B[0m: could not convert string 'setosa' to float64 at row 0, column 5."
     ]
    }
   ],
   "source": [],
   "metadata": {
    "collapsed": false
   }
  },
  {
   "cell_type": "code",
   "execution_count": null,
   "outputs": [],
   "source": [],
   "metadata": {
    "collapsed": false
   }
  }
 ],
 "metadata": {
  "kernelspec": {
   "display_name": "Python 3 (ipykernel)",
   "language": "python",
   "name": "python3"
  },
  "language_info": {
   "codemirror_mode": {
    "name": "ipython",
    "version": 3
   },
   "file_extension": ".py",
   "mimetype": "text/x-python",
   "name": "python",
   "nbconvert_exporter": "python",
   "pygments_lexer": "ipython3",
   "version": "3.9.13"
  }
 },
 "nbformat": 4,
 "nbformat_minor": 4
}
