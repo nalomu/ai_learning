{
 "cells": [
  {
   "cell_type": "markdown",
   "source": [
    "# 改变数据形状"
   ],
   "metadata": {
    "collapsed": false
   }
  },
  {
   "cell_type": "markdown",
   "metadata": {
    "jupyter": {
     "outputs_hidden": false
    }
   },
   "source": [
    "## 1 索引切片"
   ]
  },
  {
   "cell_type": "code",
   "execution_count": 69,
   "metadata": {
    "collapsed": false,
    "jupyter": {
     "outputs_hidden": false
    }
   },
   "outputs": [
    {
     "data": {
      "text/plain": "array([[-4,  1,  4,  6,  1,  7],\n       [-1, 14,  5, -5,  9, 14],\n       [13,  9,  5, -2,  1, 10],\n       [ 1, -2, -3, 10,  6, 14],\n       [ 2,  7,  8,  1,  4,  9]])"
     },
     "execution_count": 69,
     "metadata": {},
     "output_type": "execute_result"
    }
   ],
   "source": [
    "import numpy as np\n",
    "nd2 = np.random.randint(-5,15, size=(5,6))\n",
    "nd2"
   ]
  },
  {
   "cell_type": "code",
   "execution_count": 70,
   "metadata": {
    "collapsed": false,
    "jupyter": {
     "outputs_hidden": false
    }
   },
   "outputs": [
    {
     "data": {
      "text/plain": "array([[-1, 14,  5, -5,  9, 14],\n       [ 1, -2, -3, 10,  6, 14]])"
     },
     "execution_count": 70,
     "metadata": {},
     "output_type": "execute_result"
    }
   ],
   "source": [
    "nd2[[1,3]]"
   ]
  },
  {
   "cell_type": "code",
   "execution_count": 71,
   "metadata": {
    "collapsed": false,
    "jupyter": {
     "outputs_hidden": false
    }
   },
   "outputs": [
    {
     "data": {
      "text/plain": "array([[ 1,  6,  7],\n       [14, -5, 14],\n       [ 9, -2, 10],\n       [-2, 10, 14],\n       [ 7,  1,  9]])"
     },
     "execution_count": 71,
     "metadata": {},
     "output_type": "execute_result"
    }
   ],
   "source": [
    "nd2[:,[1,3,5]]"
   ]
  },
  {
   "cell_type": "code",
   "execution_count": 72,
   "metadata": {
    "collapsed": false,
    "jupyter": {
     "outputs_hidden": false
    }
   },
   "outputs": [
    {
     "data": {
      "text/plain": "array([[14, -5, 14],\n       [-2, 10, 14]])"
     },
     "execution_count": 72,
     "metadata": {},
     "output_type": "execute_result"
    }
   ],
   "source": [
    "nd2[[1,3],][:,[1,3,5]] # 第2、4行，2，4，6列"
   ]
  },
  {
   "cell_type": "code",
   "execution_count": 73,
   "metadata": {
    "collapsed": false,
    "jupyter": {
     "outputs_hidden": false
    }
   },
   "outputs": [
    {
     "data": {
      "text/plain": "array([[14, -5, 14],\n       [-2, 10, 14]])"
     },
     "execution_count": 73,
     "metadata": {},
     "output_type": "execute_result"
    }
   ],
   "source": [
    "nd2[np.ix_([1,3], [1,3,5])] # 跟上面等效"
   ]
  },
  {
   "cell_type": "markdown",
   "source": [],
   "metadata": {
    "collapsed": false
   }
  },
  {
   "cell_type": "markdown",
   "source": [
    "## 2 形状改变"
   ],
   "metadata": {
    "collapsed": false
   }
  },
  {
   "cell_type": "code",
   "execution_count": 74,
   "outputs": [
    {
     "data": {
      "text/plain": "array([[11, 77, 38, 23],\n       [27, 36, 75, 25],\n       [ 1, 93, 42, 15]])"
     },
     "metadata": {},
     "output_type": "display_data"
    }
   ],
   "source": [
    "nd2  = np.random.randint(0, 100 , size=(3,4)) # 三行四列的数据\n",
    "display(nd2)"
   ],
   "metadata": {
    "collapsed": false
   }
  },
  {
   "cell_type": "code",
   "execution_count": 75,
   "outputs": [
    {
     "data": {
      "text/plain": "array([[11, 77, 38],\n       [23, 27, 36],\n       [75, 25,  1],\n       [93, 42, 15]])"
     },
     "execution_count": 75,
     "metadata": {},
     "output_type": "execute_result"
    }
   ],
   "source": [
    "nd2.reshape(4,3) # 改为 4行3列"
   ],
   "metadata": {
    "collapsed": false
   }
  },
  {
   "cell_type": "code",
   "execution_count": 76,
   "outputs": [
    {
     "data": {
      "text/plain": "array([[11, 77, 38, 23, 27, 36],\n       [75, 25,  1, 93, 42, 15]])"
     },
     "execution_count": 76,
     "metadata": {},
     "output_type": "execute_result"
    }
   ],
   "source": [
    "nd2.reshape(2,6) # 改为 2行6列"
   ],
   "metadata": {
    "collapsed": false
   }
  },
  {
   "cell_type": "code",
   "execution_count": 77,
   "outputs": [
    {
     "data": {
      "text/plain": "array([[11, 77, 38, 23, 27, 36],\n       [75, 25,  1, 93, 42, 15]])"
     },
     "execution_count": 77,
     "metadata": {},
     "output_type": "execute_result"
    }
   ],
   "source": [
    "nd2.reshape(-1,6) # -1表示占位符自动计算"
   ],
   "metadata": {
    "collapsed": false
   }
  },
  {
   "cell_type": "code",
   "execution_count": 78,
   "outputs": [
    {
     "data": {
      "text/plain": "array([11, 77, 38, 23, 27, 36, 75, 25,  1, 93, 42, 15])"
     },
     "execution_count": 78,
     "metadata": {},
     "output_type": "execute_result"
    }
   ],
   "source": [
    "nd2.reshape(-1) # 无参数的情况"
   ],
   "metadata": {
    "collapsed": false
   }
  },
  {
   "cell_type": "markdown",
   "source": [
    "### 2.2 数据叠加"
   ],
   "metadata": {
    "collapsed": false
   }
  },
  {
   "cell_type": "code",
   "execution_count": 79,
   "outputs": [
    {
     "data": {
      "text/plain": "array([[32,  2, 81, 76],\n       [30, 37, 69, 56]])"
     },
     "metadata": {},
     "output_type": "display_data"
    },
    {
     "data": {
      "text/plain": "array([[94,  3, 97, 60],\n       [64,  0, 28, 91],\n       [53, 60, 63, 31]])"
     },
     "metadata": {},
     "output_type": "display_data"
    }
   ],
   "source": [
    "arr1 = np.random.randint(0, 100, size=(2,4))\n",
    "arr2 = np.random.randint(0, 100, size=(3,4))\n",
    "display(arr1,arr2)"
   ],
   "metadata": {
    "collapsed": false
   }
  },
  {
   "cell_type": "code",
   "execution_count": 80,
   "outputs": [
    {
     "data": {
      "text/plain": "array([[32,  2, 81, 76],\n       [30, 37, 69, 56],\n       [94,  3, 97, 60],\n       [64,  0, 28, 91],\n       [53, 60, 63, 31],\n       [94,  3, 97, 60],\n       [64,  0, 28, 91],\n       [53, 60, 63, 31]])"
     },
     "execution_count": 80,
     "metadata": {},
     "output_type": "execute_result"
    }
   ],
   "source": [
    "np.concatenate((arr1, arr2,arr2), ) # 默认行合并"
   ],
   "metadata": {
    "collapsed": false
   }
  },
  {
   "cell_type": "code",
   "execution_count": 81,
   "outputs": [
    {
     "data": {
      "text/plain": "array([[26, 26, 64, 52],\n       [69,  6, 97, 24],\n       [27, 20, 81, 53]])"
     },
     "metadata": {},
     "output_type": "display_data"
    },
    {
     "data": {
      "text/plain": "array([[72,  7,  2, 89, 19],\n       [19, 25,  5, 21, 75],\n       [16, 18, 22, 94, 12]])"
     },
     "metadata": {},
     "output_type": "display_data"
    }
   ],
   "source": [
    "arr1 = np.random.randint(0, 100, size=(3,4))\n",
    "arr2 = np.random.randint(0, 100, size=(3,5))\n",
    "display(arr1,arr2)"
   ],
   "metadata": {
    "collapsed": false
   }
  },
  {
   "cell_type": "code",
   "execution_count": 82,
   "outputs": [
    {
     "data": {
      "text/plain": "array([[26, 26, 64, 52, 72,  7,  2, 89, 19],\n       [69,  6, 97, 24, 19, 25,  5, 21, 75],\n       [27, 20, 81, 53, 16, 18, 22, 94, 12]])"
     },
     "execution_count": 82,
     "metadata": {},
     "output_type": "execute_result"
    }
   ],
   "source": [
    "np.concatenate((arr1, arr2),axis=-1 ) # axis=1  列合并 axis：维度"
   ],
   "metadata": {
    "collapsed": false
   }
  },
  {
   "cell_type": "code",
   "execution_count": 83,
   "outputs": [
    {
     "data": {
      "text/plain": "array([[26, 26, 64, 52, 72,  7,  2, 89, 19],\n       [69,  6, 97, 24, 19, 25,  5, 21, 75],\n       [27, 20, 81, 53, 16, 18, 22, 94, 12]])"
     },
     "execution_count": 83,
     "metadata": {},
     "output_type": "execute_result"
    }
   ],
   "source": [
    "np.concatenate((arr1, arr2),axis=1 ) # axis=-1  最后一个纬度 axis：维度"
   ],
   "metadata": {
    "collapsed": false
   }
  },
  {
   "cell_type": "markdown",
   "source": [
    "### 2.3 数据拆分"
   ],
   "metadata": {
    "collapsed": false
   }
  },
  {
   "cell_type": "code",
   "execution_count": 84,
   "outputs": [
    {
     "data": {
      "text/plain": "array([[27, 93, 42, 41,  8, 43, 27,  6, 13],\n       [19, 13, 13, 57, 36, 25, 75, 18, 55],\n       [40,  8, 19, 14, 19, 18, 66, 91, 71],\n       [25, 66, 66, 72, 13, 11, 83, 68, 62],\n       [23, 19, 84, 31, 17, 46, 83, 27, 71],\n       [93, 57, 69, 83, 11, 50, 11, 77, 30]])"
     },
     "metadata": {},
     "output_type": "display_data"
    },
    {
     "data": {
      "text/plain": "[array([[27, 93, 42, 41,  8, 43, 27,  6, 13],\n        [19, 13, 13, 57, 36, 25, 75, 18, 55],\n        [40,  8, 19, 14, 19, 18, 66, 91, 71]]),\n array([[25, 66, 66, 72, 13, 11, 83, 68, 62],\n        [23, 19, 84, 31, 17, 46, 83, 27, 71],\n        [93, 57, 69, 83, 11, 50, 11, 77, 30]])]"
     },
     "execution_count": 84,
     "metadata": {},
     "output_type": "execute_result"
    }
   ],
   "source": [
    "nd = np.random.randint(0, 100, size=(6,9))\n",
    "display(nd)\n",
    "np.split(nd,2) # 平均拆分"
   ],
   "metadata": {
    "collapsed": false
   }
  },
  {
   "cell_type": "code",
   "execution_count": 85,
   "outputs": [
    {
     "data": {
      "text/plain": "array([[27, 93, 42, 41,  8, 43, 27,  6, 13],\n       [19, 13, 13, 57, 36, 25, 75, 18, 55],\n       [40,  8, 19, 14, 19, 18, 66, 91, 71],\n       [25, 66, 66, 72, 13, 11, 83, 68, 62],\n       [23, 19, 84, 31, 17, 46, 83, 27, 71],\n       [93, 57, 69, 83, 11, 50, 11, 77, 30]])"
     },
     "metadata": {},
     "output_type": "display_data"
    },
    {
     "data": {
      "text/plain": "[array([[27, 93, 42],\n        [19, 13, 13],\n        [40,  8, 19],\n        [25, 66, 66],\n        [23, 19, 84],\n        [93, 57, 69]]),\n array([[41,  8, 43],\n        [57, 36, 25],\n        [14, 19, 18],\n        [72, 13, 11],\n        [31, 17, 46],\n        [83, 11, 50]]),\n array([[27,  6, 13],\n        [75, 18, 55],\n        [66, 91, 71],\n        [83, 68, 62],\n        [83, 27, 71],\n        [11, 77, 30]])]"
     },
     "execution_count": 85,
     "metadata": {},
     "output_type": "execute_result"
    }
   ],
   "source": [
    "display(nd)\n",
    "np.split(nd,3,axis=-1) # 列拆分\n"
   ],
   "metadata": {
    "collapsed": false
   }
  },
  {
   "cell_type": "code",
   "execution_count": 86,
   "outputs": [
    {
     "data": {
      "text/plain": "[array([[27],\n        [19],\n        [40],\n        [25],\n        [23],\n        [93]]),\n array([[93, 42, 41],\n        [13, 13, 57],\n        [ 8, 19, 14],\n        [66, 66, 72],\n        [19, 84, 31],\n        [57, 69, 83]]),\n array([[ 8],\n        [36],\n        [19],\n        [13],\n        [17],\n        [11]]),\n array([[43, 27,  6, 13],\n        [25, 75, 18, 55],\n        [18, 66, 91, 71],\n        [11, 83, 68, 62],\n        [46, 83, 27, 71],\n        [50, 11, 77, 30]])]"
     },
     "execution_count": 86,
     "metadata": {},
     "output_type": "execute_result"
    }
   ],
   "source": [
    "np.split(nd,[1,4,5],axis=1) # 范围拆分"
   ],
   "metadata": {
    "collapsed": false
   }
  },
  {
   "cell_type": "markdown",
   "source": [
    "### 2.4数组转置"
   ],
   "metadata": {
    "collapsed": false
   }
  },
  {
   "cell_type": "code",
   "execution_count": 87,
   "outputs": [
    {
     "data": {
      "text/plain": "array([[16, 73, 90, 11],\n       [10, 95, 52,  1],\n       [96, 50, 14, 78]])"
     },
     "metadata": {},
     "output_type": "display_data"
    }
   ],
   "source": [
    "A  = np.random.randint(0, 100, size=(3,4))\n",
    "display(A)"
   ],
   "metadata": {
    "collapsed": false
   }
  },
  {
   "cell_type": "code",
   "execution_count": 88,
   "outputs": [
    {
     "data": {
      "text/plain": "array([[16, 73, 90],\n       [11, 10, 95],\n       [52,  1, 96],\n       [50, 14, 78]])"
     },
     "execution_count": 88,
     "metadata": {},
     "output_type": "execute_result"
    }
   ],
   "source": [
    "A.reshape(4,3)"
   ],
   "metadata": {
    "collapsed": false
   }
  },
  {
   "cell_type": "code",
   "execution_count": 89,
   "outputs": [
    {
     "data": {
      "text/plain": "array([[16, 10, 96],\n       [73, 95, 50],\n       [90, 52, 14],\n       [11,  1, 78]])"
     },
     "execution_count": 89,
     "metadata": {},
     "output_type": "execute_result"
    }
   ],
   "source": [
    "A.T"
   ],
   "metadata": {
    "collapsed": false
   }
  },
  {
   "cell_type": "code",
   "execution_count": 90,
   "outputs": [
    {
     "data": {
      "text/plain": "array([[16, 10, 96],\n       [73, 95, 50],\n       [90, 52, 14],\n       [11,  1, 78]])"
     },
     "execution_count": 90,
     "metadata": {},
     "output_type": "execute_result"
    }
   ],
   "source": [
    "np.transpose(A, axes=[1,0])"
   ],
   "metadata": {
    "collapsed": false
   }
  },
  {
   "cell_type": "markdown",
   "source": [
    "## 3.广播机制\n"
   ],
   "metadata": {
    "collapsed": false
   }
  },
  {
   "cell_type": "code",
   "execution_count": 91,
   "outputs": [
    {
     "data": {
      "text/plain": "array([[95, 33, 57],\n       [ 0, 60, 32],\n       [40, 99, 23],\n       [66, 23, 67],\n       [56, 41, 22]])"
     },
     "metadata": {},
     "output_type": "display_data"
    },
    {
     "data": {
      "text/plain": "array([1, 2, 3])"
     },
     "metadata": {},
     "output_type": "display_data"
    }
   ],
   "source": [
    "arr1 = np.random.randint(0, 100, size=(5,3))\n",
    "arr2 = np.arange(1,4)\n",
    "display(arr1,arr2)"
   ],
   "metadata": {
    "collapsed": false
   }
  },
  {
   "cell_type": "code",
   "execution_count": 92,
   "outputs": [
    {
     "data": {
      "text/plain": "array([[ 96,  35,  60],\n       [  1,  62,  35],\n       [ 41, 101,  26],\n       [ 67,  25,  70],\n       [ 57,  43,  25]])"
     },
     "execution_count": 92,
     "metadata": {},
     "output_type": "execute_result"
    }
   ],
   "source": [
    "arr1+arr2"
   ],
   "metadata": {
    "collapsed": false
   }
  },
  {
   "cell_type": "code",
   "execution_count": 92,
   "outputs": [],
   "source": [],
   "metadata": {
    "collapsed": false
   }
  }
 ],
 "metadata": {
  "kernelspec": {
   "display_name": "Python 3 (ipykernel)",
   "language": "python",
   "name": "python3"
  },
  "language_info": {
   "codemirror_mode": {
    "name": "ipython",
    "version": 3
   },
   "file_extension": ".py",
   "mimetype": "text/x-python",
   "name": "python",
   "nbconvert_exporter": "python",
   "pygments_lexer": "ipython3",
   "version": "3.9.13"
  }
 },
 "nbformat": 4,
 "nbformat_minor": 4
}
