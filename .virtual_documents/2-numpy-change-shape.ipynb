import numpy as np
nd2 = np.random.randint(-5,15, size=(5,6))
nd2


nd2[[1,3]]


nd2[:,[1,3,5]]


nd2[[1,3],][:,[1,3,5]] # 第2、4行，2，4，6列


nd2.shape


nd2.argsort()
